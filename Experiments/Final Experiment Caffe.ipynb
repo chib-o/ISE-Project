{
 "cells": [
  {
   "cell_type": "markdown",
   "metadata": {},
   "source": [
    "# Imports and setup"
   ]
  },
  {
   "cell_type": "code",
   "execution_count": 1,
   "metadata": {},
   "outputs": [],
   "source": [
    "########## 1. Import required libraries ##########\n",
    "\n",
    "import pandas as pd\n",
    "import numpy as np\n",
    "import re\n",
    "import math\n",
    "import pandas as pd\n",
    "import matplotlib.pyplot as plt\n",
    "\n",
    "# Text and feature engineering\n",
    "from sklearn.feature_extraction.text import TfidfVectorizer\n",
    "\n",
    "# Evaluation and tuning\n",
    "from sklearn.model_selection import train_test_split, GridSearchCV\n",
    "from sklearn.metrics import (accuracy_score, precision_score, recall_score,\n",
    "                             f1_score, roc_curve, auc, classification_report)\n",
    "\n",
    "# Classifiers\n",
    "from sklearn.naive_bayes import GaussianNB\n",
    "from sklearn.ensemble import RandomForestClassifier, VotingClassifier\n",
    "from sklearn.linear_model import LogisticRegression\n",
    "from imblearn.over_sampling import SMOTE\n"
   ]
  },
  {
   "cell_type": "code",
   "execution_count": null,
   "metadata": {},
   "outputs": [],
   "source": [
    "\n",
    "# Text cleaning & stopwords\n",
    "import nltk\n",
    "nltk.download('stopwords')\n",
    "from nltk.corpus import stopwords"
   ]
  },
  {
   "cell_type": "markdown",
   "metadata": {},
   "source": [
    "### Step 1: Preprocess and Save Processed Data to CSV "
   ]
  },
  {
   "cell_type": "markdown",
   "metadata": {},
   "source": [
    "##### Functions to preprocess data"
   ]
  },
  {
   "cell_type": "code",
   "execution_count": 12,
   "metadata": {},
   "outputs": [],
   "source": [
    "########## 2. Define text preprocessing methods ##########\n",
    "\n",
    "def remove_html(text):\n",
    "    \"\"\"Remove HTML tags using a regex.\"\"\"\n",
    "    html = re.compile(r'<.*?>')\n",
    "    return html.sub(r'', text)\n",
    "\n",
    "def remove_emoji(text):\n",
    "    \"\"\"Remove emojis using a regex pattern.\"\"\"\n",
    "    emoji_pattern = re.compile(\"[\" u\"\\U0001F600-\\U0001F64F\"  \n",
    "                               u\"\\U0001F300-\\U0001F5FF\"  \n",
    "                               u\"\\U0001F680-\\U0001F6FF\"  \n",
    "                               u\"\\U0001F1E0-\\U0001F1FF\"  \n",
    "                               u\"\\U00002702-\\U000027B0\"  \n",
    "                               u\"\\U000024C2-\\U0001F251\" \"]+\", flags=re.UNICODE)\n",
    "    return emoji_pattern.sub(r'', text)\n",
    "\n",
    "def remove_stopwords(text):\n",
    "    stop_words = set(stopwords.words('english'))\n",
    "    custom_stopwords = {}  # Define your custom stopwords here\n",
    "    stop_words.update(custom_stopwords)\n",
    "    return \" \".join([word for word in text.split() if word.lower() not in stop_words])\n",
    "\n",
    "def clean_str(string):\n",
    "    \"\"\"\n",
    "    Clean text by removing non-alphanumeric characters,\n",
    "    and convert it to lowercase.\n",
    "    \"\"\"\n",
    "    string = re.sub(r\"[^A-Za-z0-9(),.!?\\'\\`]\", \" \", string)\n",
    "    string = re.sub(r\"\\'s\", \" \\'s\", string)\n",
    "    string = re.sub(r\"\\'ve\", \" \\'ve\", string)\n",
    "    string = re.sub(r\"\\)\", \" ) \", string)\n",
    "    string = re.sub(r\"\\?\", \" ? \", string)\n",
    "    string = re.sub(r\"\\s{2,}\", \" \", string)\n",
    "    string = re.sub(r\"\\\\\", \"\", string)\n",
    "    string = re.sub(r\"\\'\", \"\", string)\n",
    "    string = re.sub(r\"\\\"\", \"\", string)\n",
    "    return string.strip().lower()\n",
    "\n",
    "def check_data_leakage(X_train, X_test):\n",
    "    train_set = set(map(tuple, X_train))\n",
    "    test_set = set(map(tuple, X_test))\n",
    "\n",
    "    leaked_samples = train_set.intersection(test_set)\n",
    "    print(\"\\n🔍 Checking Data Leakage...\")\n",
    "    print(f\"⚠️ {len(leaked_samples)} samples from test data are also in training data.\")\n",
    "\n",
    "    if len(leaked_samples) > 0:\n",
    "        print(\"❌ Data Leakage Detected! Test data should not exist in training set.\")\n",
    "    else:\n",
    "        print(\"✅ No Data Leakage Detected.\")\n",
    "\n",
    "##COMAPRES TEST ACCURACY TO TRAIN ACCURACY\n",
    "def check_overfitting(model, X_train, y_train, X_test, y_test):\n",
    "    train_preds = model.predict(X_train)\n",
    "    test_preds = model.predict(X_test)\n",
    "    train_acc = accuracy_score(y_train, train_preds)\n",
    "    test_acc = accuracy_score(y_test, test_preds)\n",
    "    \n",
    "    print(\"\\n🔍 Checking Overfitting...\")\n",
    "    print(f\"📊 Training Accuracy: {train_acc:.4f}\")\n",
    "    print(f\"📊 Test Accuracy: {test_acc:.4f}\")\n",
    "\n",
    "    if train_acc > test_acc + 0.10:\n",
    "        print(\"❌ Possible Overfitting: Model performs much better on training data.\")\n",
    "    else:\n",
    "        print(\"✅ No significant overfitting detected.\")\n",
    "\n",
    "# Line Chart (Trend over Repeats)\n",
    "def plot_metric_trends(csv_path):\n",
    "    df = pd.read_csv(csv_path)\n",
    "    plt.figure(figsize=(8, 4))\n",
    "    metric_columns = ['Accuracy', 'Precision', 'Recall', 'F1', 'AUC']\n",
    "\n",
    "    for metric in metric_columns:\n",
    "        plt.plot(df['Repeat'], df[metric], marker='o', label=metric)\n",
    "\n",
    "    # Chart styling\n",
    "    plt.xlabel(\"Repeat\")\n",
    "    plt.ylabel(\"Score\")\n",
    "    plt.legend(loc='upper center', bbox_to_anchor=(0.5, 1.15), ncol=len(metric_columns), frameon=False)\n",
    "    plt.grid(True, linestyle='--', alpha=0.3)\n",
    "    plt.tight_layout()\n",
    "    plt.show()\n"
   ]
  },
  {
   "cell_type": "markdown",
   "metadata": {},
   "source": [
    "##### Download and read data, save to csv files for repeatable use"
   ]
  },
  {
   "cell_type": "code",
   "execution_count": 3,
   "metadata": {},
   "outputs": [],
   "source": [
    "########## 3. Download & read data ##########\n",
    "project = 'caffe'\n",
    "text_col = 'Title+Body'\n"
   ]
  },
  {
   "cell_type": "code",
   "execution_count": 8,
   "metadata": {},
   "outputs": [],
   "source": [
    "path = f'C:/Users/chibu/Documents/ISE-solution-main/Coursework/datasets/{project}.csv'\n",
    "\n",
    "data = pd.read_csv(path).fillna('')\n",
    "data['Title+Body'] = data.apply(lambda row: row['Title'] + '. ' + row['Body'] if pd.notna(row['Body']) else row['Title'], axis=1)\n",
    "#text_col = 'Title+Body'\n",
    "\n",
    "data[text_col] = data[text_col].apply(remove_html)\n",
    "data[text_col] = data[text_col].apply(remove_emoji)\n",
    "data[text_col] = data[text_col].apply(remove_stopwords)\n",
    "data[text_col] = data[text_col].apply(clean_str)\n",
    "\n",
    "data.to_csv(f'{project}_processed_data.csv', index=False)\n"
   ]
  },
  {
   "cell_type": "markdown",
   "metadata": {},
   "source": [
    "##### Load and check datasets in Title+Body Files"
   ]
  },
  {
   "cell_type": "code",
   "execution_count": 4,
   "metadata": {},
   "outputs": [
    {
     "data": {
      "text/html": [
       "<div>\n",
       "<style scoped>\n",
       "    .dataframe tbody tr th:only-of-type {\n",
       "        vertical-align: middle;\n",
       "    }\n",
       "\n",
       "    .dataframe tbody tr th {\n",
       "        vertical-align: top;\n",
       "    }\n",
       "\n",
       "    .dataframe thead th {\n",
       "        text-align: right;\n",
       "    }\n",
       "</style>\n",
       "<table border=\"1\" class=\"dataframe\">\n",
       "  <thead>\n",
       "    <tr style=\"text-align: right;\">\n",
       "      <th></th>\n",
       "      <th>Unnamed: 0</th>\n",
       "      <th>Repository</th>\n",
       "      <th>Number</th>\n",
       "      <th>State</th>\n",
       "      <th>Title</th>\n",
       "      <th>Body</th>\n",
       "      <th>Labels</th>\n",
       "      <th>Comments</th>\n",
       "      <th>Codes</th>\n",
       "      <th>Commands</th>\n",
       "      <th>class</th>\n",
       "      <th>related</th>\n",
       "      <th>Title+Body</th>\n",
       "    </tr>\n",
       "  </thead>\n",
       "  <tbody>\n",
       "    <tr>\n",
       "      <th>0</th>\n",
       "      <td>0</td>\n",
       "      <td>caffe</td>\n",
       "      <td>3075</td>\n",
       "      <td>closed</td>\n",
       "      <td>strange result when running blvc_reference_caf...</td>\n",
       "      <td>Hi,\\n\\nI tried to run the example here: https:...</td>\n",
       "      <td>NaN</td>\n",
       "      <td>[\"You need to do\\nout['prob'].argmax(axis=1)\\n...</td>\n",
       "      <td>[]</td>\n",
       "      <td>[]</td>\n",
       "      <td>1</td>\n",
       "      <td>0</td>\n",
       "      <td>strange result running blvc reference caffenet...</td>\n",
       "    </tr>\n",
       "    <tr>\n",
       "      <th>1</th>\n",
       "      <td>1</td>\n",
       "      <td>caffe</td>\n",
       "      <td>4102</td>\n",
       "      <td>closed</td>\n",
       "      <td>Change the batch_size by the method Reshape()</td>\n",
       "      <td>I used a deploy.prototxt to initialize a new n...</td>\n",
       "      <td>NaN</td>\n",
       "      <td>['One probably reason I found in the code is :...</td>\n",
       "      <td>['\\ninput: \"data\"\\ninput_shape {\\n  dim: 256\\n...</td>\n",
       "      <td>[]</td>\n",
       "      <td>1</td>\n",
       "      <td>0</td>\n",
       "      <td>change batch size method reshape( ) . used dep...</td>\n",
       "    </tr>\n",
       "    <tr>\n",
       "      <th>2</th>\n",
       "      <td>2</td>\n",
       "      <td>caffe</td>\n",
       "      <td>5643</td>\n",
       "      <td>open</td>\n",
       "      <td>Convert caffemodel into C++/python scripts to ...</td>\n",
       "      <td>Hi all, I have a question to discuss with anyo...</td>\n",
       "      <td>NaN</td>\n",
       "      <td>[\"No that won't help you get more speed. The C...</td>\n",
       "      <td>[]</td>\n",
       "      <td>[]</td>\n",
       "      <td>1</td>\n",
       "      <td>0</td>\n",
       "      <td>convert caffemodel c python scripts improve de...</td>\n",
       "    </tr>\n",
       "    <tr>\n",
       "      <th>3</th>\n",
       "      <td>3</td>\n",
       "      <td>caffe</td>\n",
       "      <td>3086</td>\n",
       "      <td>closed</td>\n",
       "      <td>PyCaffe backward() produces zero gradients whe...</td>\n",
       "      <td>I'm working on generating saliency maps though...</td>\n",
       "      <td>NaN</td>\n",
       "      <td>[\"Closing as there is not enough information h...</td>\n",
       "      <td>[\"\\nimport caffe\\nimport numpy as np\\ncaffe.se...</td>\n",
       "      <td>[]</td>\n",
       "      <td>1</td>\n",
       "      <td>0</td>\n",
       "      <td>pycaffe backward( ) produces zero gradients gp...</td>\n",
       "    </tr>\n",
       "    <tr>\n",
       "      <th>4</th>\n",
       "      <td>4</td>\n",
       "      <td>caffe</td>\n",
       "      <td>2448</td>\n",
       "      <td>closed</td>\n",
       "      <td>CPU usage at a low level</td>\n",
       "      <td>Hi everyone. When I run Caffe with CPU usage c...</td>\n",
       "      <td>NaN</td>\n",
       "      <td>[\"@bearpaw Hey dude, are you using CPU only? M...</td>\n",
       "      <td>['\\nI0512 22:09:43.043788  7012 caffe.cpp:273]...</td>\n",
       "      <td>[]</td>\n",
       "      <td>1</td>\n",
       "      <td>0</td>\n",
       "      <td>cpu usage low level. hi everyone. run caffe cp...</td>\n",
       "    </tr>\n",
       "  </tbody>\n",
       "</table>\n",
       "</div>"
      ],
      "text/plain": [
       "   Unnamed: 0 Repository  Number   State  \\\n",
       "0           0      caffe    3075  closed   \n",
       "1           1      caffe    4102  closed   \n",
       "2           2      caffe    5643    open   \n",
       "3           3      caffe    3086  closed   \n",
       "4           4      caffe    2448  closed   \n",
       "\n",
       "                                               Title  \\\n",
       "0  strange result when running blvc_reference_caf...   \n",
       "1      Change the batch_size by the method Reshape()   \n",
       "2  Convert caffemodel into C++/python scripts to ...   \n",
       "3  PyCaffe backward() produces zero gradients whe...   \n",
       "4                           CPU usage at a low level   \n",
       "\n",
       "                                                Body Labels  \\\n",
       "0  Hi,\\n\\nI tried to run the example here: https:...    NaN   \n",
       "1  I used a deploy.prototxt to initialize a new n...    NaN   \n",
       "2  Hi all, I have a question to discuss with anyo...    NaN   \n",
       "3  I'm working on generating saliency maps though...    NaN   \n",
       "4  Hi everyone. When I run Caffe with CPU usage c...    NaN   \n",
       "\n",
       "                                            Comments  \\\n",
       "0  [\"You need to do\\nout['prob'].argmax(axis=1)\\n...   \n",
       "1  ['One probably reason I found in the code is :...   \n",
       "2  [\"No that won't help you get more speed. The C...   \n",
       "3  [\"Closing as there is not enough information h...   \n",
       "4  [\"@bearpaw Hey dude, are you using CPU only? M...   \n",
       "\n",
       "                                               Codes Commands  class  related  \\\n",
       "0                                                 []       []      1        0   \n",
       "1  ['\\ninput: \"data\"\\ninput_shape {\\n  dim: 256\\n...       []      1        0   \n",
       "2                                                 []       []      1        0   \n",
       "3  [\"\\nimport caffe\\nimport numpy as np\\ncaffe.se...       []      1        0   \n",
       "4  ['\\nI0512 22:09:43.043788  7012 caffe.cpp:273]...       []      1        0   \n",
       "\n",
       "                                          Title+Body  \n",
       "0  strange result running blvc reference caffenet...  \n",
       "1  change batch size method reshape( ) . used dep...  \n",
       "2  convert caffemodel c python scripts improve de...  \n",
       "3  pycaffe backward( ) produces zero gradients gp...  \n",
       "4  cpu usage low level. hi everyone. run caffe cp...  "
      ]
     },
     "execution_count": 4,
     "metadata": {},
     "output_type": "execute_result"
    }
   ],
   "source": [
    "baseline_path = 'C:/Users/chibu/Documents/ISE-solution-main/Coursework/trial2'\n",
    "\n",
    "df = pd.read_csv(f'{project}_processed_data.csv')\n",
    "df.head()"
   ]
  },
  {
   "cell_type": "markdown",
   "metadata": {},
   "source": [
    "### Step 2: Configure parameters and start training"
   ]
  },
  {
   "cell_type": "markdown",
   "metadata": {},
   "source": [
    "##### Set values, params and load csv files"
   ]
  },
  {
   "cell_type": "code",
   "execution_count": 18,
   "metadata": {},
   "outputs": [],
   "source": [
    "# Number of repeated experiments\n",
    "REPEAT = 30\n",
    "\n",
    "# Output CSV file name\n",
    "results_dir = \"C:/Users/chibu/Documents/ISE-solution-main/Coursework/trial2/results\"\n",
    "out_csv_name = f\"{results_dir}/{project}_Results.csv\"\n",
    "\n",
    "# Convert and save metrics for all models\n",
    "def save_model_metrics(metrics_list, filename):\n",
    "    df = pd.DataFrame(metrics_list)\n",
    "    df.to_csv(f\"{results_dir}/{filename}\", index=False)\n",
    "    print(f\"Saved: {filename}\")\n",
    "    print(df.mean(numeric_only=True))\n",
    "    print(\"\\n\")\n",
    "\n",
    "# Hyperparameter grid for Naive Bayes\n",
    "params = {'var_smoothing': np.logspace(-12, 0, 13)}\n",
    "\n",
    "# Lists to store metrics across repeated runs\n",
    "accuracies, precisions, recalls, f1_scores, auc_values = [], [], [], [], []"
   ]
  },
  {
   "cell_type": "markdown",
   "metadata": {},
   "source": [
    "##### Perform Testing on Baseline code from Lab 1"
   ]
  },
  {
   "cell_type": "code",
   "execution_count": 11,
   "metadata": {},
   "outputs": [
    {
     "name": "stdout",
     "output_type": "stream",
     "text": [
      "Saved: caffe_NaiveBayes_Metrics.csv\n",
      "Repeat       0.000000\n",
      "Accuracy     0.569767\n",
      "Precision    0.513238\n",
      "Recall       0.538462\n",
      "F1           0.443220\n",
      "AUC          0.538462\n",
      "dtype: float64\n",
      "\n",
      "\n",
      "Saved: caffe_NaiveBayes_Metrics.csv\n",
      "Repeat       0.500000\n",
      "Accuracy     0.715116\n",
      "Precision    0.531928\n",
      "Recall       0.534022\n",
      "F1           0.488337\n",
      "AUC          0.534022\n",
      "dtype: float64\n",
      "\n",
      "\n",
      "Saved: caffe_NaiveBayes_Metrics.csv\n",
      "Repeat       1.000000\n",
      "Accuracy     0.666667\n",
      "Precision    0.542028\n",
      "Recall       0.558675\n",
      "F1           0.497081\n",
      "AUC          0.558675\n",
      "dtype: float64\n",
      "\n",
      "\n",
      "Saved: caffe_NaiveBayes_Metrics.csv\n",
      "Repeat       1.500000\n",
      "Accuracy     0.633721\n",
      "Precision    0.553653\n",
      "Recall       0.592642\n",
      "F1           0.494834\n",
      "AUC          0.592642\n",
      "dtype: float64\n",
      "\n",
      "\n",
      "Saved: caffe_NaiveBayes_Metrics.csv\n",
      "Repeat       2.000000\n",
      "Accuracy     0.590698\n",
      "Precision    0.549198\n",
      "Recall       0.589554\n",
      "F1           0.471446\n",
      "AUC          0.589554\n",
      "dtype: float64\n",
      "\n",
      "\n",
      "Saved: caffe_NaiveBayes_Metrics.csv\n",
      "Repeat       2.500000\n",
      "Accuracy     0.583333\n",
      "Precision    0.548750\n",
      "Recall       0.604489\n",
      "F1           0.466789\n",
      "AUC          0.604489\n",
      "dtype: float64\n",
      "\n",
      "\n",
      "Saved: caffe_NaiveBayes_Metrics.csv\n",
      "Repeat       3.000000\n",
      "Accuracy     0.579734\n",
      "Precision    0.555152\n",
      "Recall       0.619259\n",
      "F1           0.472355\n",
      "AUC          0.619259\n",
      "dtype: float64\n",
      "\n",
      "\n",
      "Saved: caffe_NaiveBayes_Metrics.csv\n",
      "Repeat       3.500000\n",
      "Accuracy     0.579942\n",
      "Precision    0.555880\n",
      "Recall       0.639074\n",
      "F1           0.471540\n",
      "AUC          0.639074\n",
      "dtype: float64\n",
      "\n",
      "\n",
      "Saved: caffe_NaiveBayes_Metrics.csv\n",
      "Repeat       4.000000\n",
      "Accuracy     0.565891\n",
      "Precision    0.560207\n",
      "Recall       0.644362\n",
      "F1           0.467065\n",
      "AUC          0.644362\n",
      "dtype: float64\n",
      "\n",
      "\n",
      "Saved: caffe_NaiveBayes_Metrics.csv\n",
      "Repeat       4.500000\n",
      "Accuracy     0.576744\n",
      "Precision    0.558805\n",
      "Recall       0.639794\n",
      "F1           0.473069\n",
      "AUC          0.639794\n",
      "dtype: float64\n",
      "\n",
      "\n",
      "Saved: caffe_NaiveBayes_Metrics.csv\n",
      "Repeat       5.000000\n",
      "Accuracy     0.575053\n",
      "Precision    0.560431\n",
      "Recall       0.645648\n",
      "F1           0.474347\n",
      "AUC          0.645648\n",
      "dtype: float64\n",
      "\n",
      "\n",
      "Saved: caffe_NaiveBayes_Metrics.csv\n",
      "Repeat       5.500000\n",
      "Accuracy     0.576550\n",
      "Precision    0.561945\n",
      "Recall       0.644299\n",
      "F1           0.479886\n",
      "AUC          0.644299\n",
      "dtype: float64\n",
      "\n",
      "\n",
      "Saved: caffe_NaiveBayes_Metrics.csv\n",
      "Repeat       6.000000\n",
      "Accuracy     0.561717\n",
      "Precision    0.560408\n",
      "Recall       0.638743\n",
      "F1           0.471380\n",
      "AUC          0.638743\n",
      "dtype: float64\n",
      "\n",
      "\n",
      "Saved: caffe_NaiveBayes_Metrics.csv\n",
      "Repeat       6.500000\n",
      "Accuracy     0.578904\n",
      "Precision    0.556173\n",
      "Recall       0.628962\n",
      "F1           0.473215\n",
      "AUC          0.628962\n",
      "dtype: float64\n",
      "\n",
      "\n",
      "Saved: caffe_NaiveBayes_Metrics.csv\n",
      "Repeat       7.000000\n",
      "Accuracy     0.575969\n",
      "Precision    0.558577\n",
      "Recall       0.631344\n",
      "F1           0.475155\n",
      "AUC          0.631344\n",
      "dtype: float64\n",
      "\n",
      "\n",
      "Saved: caffe_NaiveBayes_Metrics.csv\n",
      "Repeat       7.500000\n",
      "Accuracy     0.563953\n",
      "Precision    0.556579\n",
      "Recall       0.628864\n",
      "F1           0.466473\n",
      "AUC          0.628864\n",
      "dtype: float64\n",
      "\n",
      "\n",
      "Saved: caffe_NaiveBayes_Metrics.csv\n",
      "Repeat       8.000000\n",
      "Accuracy     0.563611\n",
      "Precision    0.557571\n",
      "Recall       0.628768\n",
      "F1           0.469251\n",
      "AUC          0.628768\n",
      "dtype: float64\n",
      "\n",
      "\n",
      "Saved: caffe_NaiveBayes_Metrics.csv\n",
      "Repeat       8.500000\n",
      "Accuracy     0.571705\n",
      "Precision    0.559432\n",
      "Recall       0.636985\n",
      "F1           0.474824\n",
      "AUC          0.636985\n",
      "dtype: float64\n",
      "\n",
      "\n",
      "Saved: caffe_NaiveBayes_Metrics.csv\n",
      "Repeat       9.000000\n",
      "Accuracy     0.566707\n",
      "Precision    0.559675\n",
      "Recall       0.636413\n",
      "F1           0.473179\n",
      "AUC          0.636413\n",
      "dtype: float64\n",
      "\n",
      "\n",
      "Saved: caffe_NaiveBayes_Metrics.csv\n",
      "Repeat       9.500000\n",
      "Accuracy     0.563372\n",
      "Precision    0.561122\n",
      "Recall       0.638320\n",
      "F1           0.472935\n",
      "AUC          0.638320\n",
      "dtype: float64\n",
      "\n",
      "\n",
      "Saved: caffe_NaiveBayes_Metrics.csv\n",
      "Repeat       10.000000\n",
      "Accuracy      0.558140\n",
      "Precision     0.560995\n",
      "Recall        0.638674\n",
      "F1            0.470004\n",
      "AUC           0.638674\n",
      "dtype: float64\n",
      "\n",
      "\n",
      "Saved: caffe_NaiveBayes_Metrics.csv\n",
      "Repeat       10.500000\n",
      "Accuracy      0.555497\n",
      "Precision     0.560340\n",
      "Recall        0.637945\n",
      "F1            0.468452\n",
      "AUC           0.637945\n",
      "dtype: float64\n",
      "\n",
      "\n",
      "Saved: caffe_NaiveBayes_Metrics.csv\n",
      "Repeat       11.000000\n",
      "Accuracy      0.549545\n",
      "Precision     0.557559\n",
      "Recall        0.631437\n",
      "F1            0.463287\n",
      "AUC           0.631437\n",
      "dtype: float64\n",
      "\n",
      "\n",
      "Saved: caffe_NaiveBayes_Metrics.csv\n",
      "Repeat       11.500000\n",
      "Accuracy      0.551357\n",
      "Precision     0.558209\n",
      "Recall        0.637679\n",
      "F1            0.464303\n",
      "AUC           0.637679\n",
      "dtype: float64\n",
      "\n",
      "\n",
      "Saved: caffe_NaiveBayes_Metrics.csv\n",
      "Repeat       12.000000\n",
      "Accuracy      0.556279\n",
      "Precision     0.559145\n",
      "Recall        0.639593\n",
      "F1            0.468089\n",
      "AUC           0.639593\n",
      "dtype: float64\n",
      "\n",
      "\n",
      "Saved: caffe_NaiveBayes_Metrics.csv\n",
      "Repeat       12.500000\n",
      "Accuracy      0.550984\n",
      "Precision     0.559031\n",
      "Recall        0.637851\n",
      "F1            0.465577\n",
      "AUC           0.637851\n",
      "dtype: float64\n",
      "\n",
      "\n",
      "Saved: caffe_NaiveBayes_Metrics.csv\n",
      "Repeat       13.000000\n",
      "Accuracy      0.553833\n",
      "Precision     0.559334\n",
      "Recall        0.638642\n",
      "F1            0.467785\n",
      "AUC           0.638642\n",
      "dtype: float64\n",
      "\n",
      "\n",
      "Saved: caffe_NaiveBayes_Metrics.csv\n",
      "Repeat       13.500000\n",
      "Accuracy      0.552741\n",
      "Precision     0.558046\n",
      "Recall        0.636152\n",
      "F1            0.466386\n",
      "AUC           0.636152\n",
      "dtype: float64\n",
      "\n",
      "\n",
      "Saved: caffe_NaiveBayes_Metrics.csv\n",
      "Repeat       14.000000\n",
      "Accuracy      0.552125\n",
      "Precision     0.557593\n",
      "Recall        0.637420\n",
      "F1            0.465341\n",
      "AUC           0.637420\n",
      "dtype: float64\n",
      "\n",
      "\n",
      "Saved: caffe_NaiveBayes_Metrics.csv\n",
      "Repeat       14.500000\n",
      "Accuracy      0.550775\n",
      "Precision     0.557756\n",
      "Recall        0.640756\n",
      "F1            0.464268\n",
      "AUC           0.640756\n",
      "dtype: float64\n",
      "\n",
      "\n"
     ]
    }
   ],
   "source": [
    "nb_metrics = []\n",
    "# Load dataset for this iteration\n",
    "data = pd.read_csv(f'{project}_processed_data.csv')\n",
    "X = data[text_col]\n",
    "y = data['class']\n",
    "\n",
    "for repeated_time in range(REPEAT):\n",
    "    \n",
    "\n",
    "    # Train-test split (70/30)\n",
    "    X_train, X_test, y_train, y_test = train_test_split(\n",
    "        X, y, test_size=0.3, random_state=repeated_time, shuffle=True\n",
    "    )\n",
    "\n",
    "    # Apply TF-IDF vectorization\n",
    "    tfidf = TfidfVectorizer(ngram_range=(1, 2), max_features=1000)\n",
    "    X_train_tfidf = tfidf.fit_transform(X_train).toarray()\n",
    "    X_test_tfidf = tfidf.transform(X_test).toarray()\n",
    "\n",
    "    # Train and Evaluate Naive Bayes with Cross-Validation\n",
    "    nb_clf = GaussianNB()\n",
    "    grid = GridSearchCV(nb_clf, params, cv=5, scoring='roc_auc')\n",
    "    grid.fit(X_train_tfidf, y_train)\n",
    "    best_nb = grid.best_estimator_\n",
    "    y_pred_nb = best_nb.predict(X_test_tfidf)\n",
    "    \n",
    "    nb_metrics.append({\n",
    "        \"Repeat\": repeated_time,\n",
    "        \"Accuracy\": accuracy_score(y_test, y_pred_nb),\n",
    "        \"Precision\": precision_score(y_test, y_pred_nb, average='macro'),\n",
    "        \"Recall\": recall_score(y_test, y_pred_nb, average='macro'),\n",
    "        \"F1\": f1_score(y_test, y_pred_nb, average='macro'),\n",
    "        \"AUC\": auc(*roc_curve(y_test, y_pred_nb, pos_label=1)[:2])\n",
    "    })\n",
    "\n",
    "    save_model_metrics(nb_metrics, f'{project}_NaiveBayes_Metrics.csv')"
   ]
  },
  {
   "cell_type": "markdown",
   "metadata": {},
   "source": [
    "##### View progressive results"
   ]
  },
  {
   "cell_type": "code",
   "execution_count": 12,
   "metadata": {},
   "outputs": [
    {
     "data": {
      "text/html": [
       "<div>\n",
       "<style scoped>\n",
       "    .dataframe tbody tr th:only-of-type {\n",
       "        vertical-align: middle;\n",
       "    }\n",
       "\n",
       "    .dataframe tbody tr th {\n",
       "        vertical-align: top;\n",
       "    }\n",
       "\n",
       "    .dataframe thead th {\n",
       "        text-align: right;\n",
       "    }\n",
       "</style>\n",
       "<table border=\"1\" class=\"dataframe\">\n",
       "  <thead>\n",
       "    <tr style=\"text-align: right;\">\n",
       "      <th></th>\n",
       "      <th>Repeat</th>\n",
       "      <th>Accuracy</th>\n",
       "      <th>Precision</th>\n",
       "      <th>Recall</th>\n",
       "      <th>F1</th>\n",
       "      <th>AUC</th>\n",
       "    </tr>\n",
       "  </thead>\n",
       "  <tbody>\n",
       "    <tr>\n",
       "      <th>0</th>\n",
       "      <td>0</td>\n",
       "      <td>0.569767</td>\n",
       "      <td>0.513238</td>\n",
       "      <td>0.538462</td>\n",
       "      <td>0.443220</td>\n",
       "      <td>0.538462</td>\n",
       "    </tr>\n",
       "    <tr>\n",
       "      <th>1</th>\n",
       "      <td>1</td>\n",
       "      <td>0.860465</td>\n",
       "      <td>0.550617</td>\n",
       "      <td>0.529582</td>\n",
       "      <td>0.533454</td>\n",
       "      <td>0.529582</td>\n",
       "    </tr>\n",
       "    <tr>\n",
       "      <th>2</th>\n",
       "      <td>2</td>\n",
       "      <td>0.569767</td>\n",
       "      <td>0.562229</td>\n",
       "      <td>0.607981</td>\n",
       "      <td>0.514569</td>\n",
       "      <td>0.607981</td>\n",
       "    </tr>\n",
       "    <tr>\n",
       "      <th>3</th>\n",
       "      <td>3</td>\n",
       "      <td>0.534884</td>\n",
       "      <td>0.588527</td>\n",
       "      <td>0.694545</td>\n",
       "      <td>0.488095</td>\n",
       "      <td>0.694545</td>\n",
       "    </tr>\n",
       "    <tr>\n",
       "      <th>4</th>\n",
       "      <td>4</td>\n",
       "      <td>0.418605</td>\n",
       "      <td>0.531378</td>\n",
       "      <td>0.577201</td>\n",
       "      <td>0.377894</td>\n",
       "      <td>0.577201</td>\n",
       "    </tr>\n",
       "  </tbody>\n",
       "</table>\n",
       "</div>"
      ],
      "text/plain": [
       "   Repeat  Accuracy  Precision    Recall        F1       AUC\n",
       "0       0  0.569767   0.513238  0.538462  0.443220  0.538462\n",
       "1       1  0.860465   0.550617  0.529582  0.533454  0.529582\n",
       "2       2  0.569767   0.562229  0.607981  0.514569  0.607981\n",
       "3       3  0.534884   0.588527  0.694545  0.488095  0.694545\n",
       "4       4  0.418605   0.531378  0.577201  0.377894  0.577201"
      ]
     },
     "execution_count": 12,
     "metadata": {},
     "output_type": "execute_result"
    }
   ],
   "source": [
    "df = pd.read_csv(f'{baseline_path}/results/{project}_NaiveBayes_Metrics.csv')\n",
    "df.head() "
   ]
  },
  {
   "cell_type": "markdown",
   "metadata": {},
   "source": [
    "##### Save final results to csv file"
   ]
  },
  {
   "cell_type": "code",
   "execution_count": 13,
   "metadata": {},
   "outputs": [
    {
     "name": "stdout",
     "output_type": "stream",
     "text": [
      "Saved: caffe_NaiveBayes_Final_Metrics.csv\n",
      "Total_Repeats    30.000000\n",
      "Avg_Accuracy      0.550775\n",
      "Avg_Precision     0.557756\n",
      "Avg_Recall        0.640756\n",
      "Avg_F1            0.464268\n",
      "Avg_AUC           0.640756\n",
      "dtype: float64\n",
      "\n",
      "\n"
     ]
    }
   ],
   "source": [
    "# === Calculate final averages from all repeats ===\n",
    "final_metrics = {\n",
    "    \"Total_Repeats\": REPEAT,\n",
    "    \"Avg_Accuracy\": np.mean([m[\"Accuracy\"] for m in nb_metrics]),\n",
    "    \"Avg_Precision\": np.mean([m[\"Precision\"] for m in nb_metrics]),\n",
    "    \"Avg_Recall\": np.mean([m[\"Recall\"] for m in nb_metrics]),\n",
    "    \"Avg_F1\": np.mean([m[\"F1\"] for m in nb_metrics]),\n",
    "    \"Avg_AUC\": np.mean([m[\"AUC\"] for m in nb_metrics])\n",
    "}\n",
    "\n",
    "save_model_metrics([final_metrics], f'{project}_NaiveBayes_Final_Metrics.csv')"
   ]
  },
  {
   "cell_type": "markdown",
   "metadata": {},
   "source": [
    "##### Load results for baseline "
   ]
  },
  {
   "cell_type": "code",
   "execution_count": 14,
   "metadata": {},
   "outputs": [
    {
     "data": {
      "text/html": [
       "<div>\n",
       "<style scoped>\n",
       "    .dataframe tbody tr th:only-of-type {\n",
       "        vertical-align: middle;\n",
       "    }\n",
       "\n",
       "    .dataframe tbody tr th {\n",
       "        vertical-align: top;\n",
       "    }\n",
       "\n",
       "    .dataframe thead th {\n",
       "        text-align: right;\n",
       "    }\n",
       "</style>\n",
       "<table border=\"1\" class=\"dataframe\">\n",
       "  <thead>\n",
       "    <tr style=\"text-align: right;\">\n",
       "      <th></th>\n",
       "      <th>Total_Repeats</th>\n",
       "      <th>Avg_Accuracy</th>\n",
       "      <th>Avg_Precision</th>\n",
       "      <th>Avg_Recall</th>\n",
       "      <th>Avg_F1</th>\n",
       "      <th>Avg_AUC</th>\n",
       "    </tr>\n",
       "  </thead>\n",
       "  <tbody>\n",
       "    <tr>\n",
       "      <th>0</th>\n",
       "      <td>30</td>\n",
       "      <td>0.550775</td>\n",
       "      <td>0.557756</td>\n",
       "      <td>0.640756</td>\n",
       "      <td>0.464268</td>\n",
       "      <td>0.640756</td>\n",
       "    </tr>\n",
       "  </tbody>\n",
       "</table>\n",
       "</div>"
      ],
      "text/plain": [
       "   Total_Repeats  Avg_Accuracy  Avg_Precision  Avg_Recall    Avg_F1   Avg_AUC\n",
       "0             30      0.550775       0.557756    0.640756  0.464268  0.640756"
      ]
     },
     "execution_count": 14,
     "metadata": {},
     "output_type": "execute_result"
    }
   ],
   "source": [
    "df = pd.read_csv(f'{baseline_path}/results/{project}_NaiveBayes_Final_Metrics.csv')\n",
    "df.head() "
   ]
  },
  {
   "cell_type": "markdown",
   "metadata": {},
   "source": [
    "### Examine datasets for data leakage and overfitting and class ditribution to know what to expect when it comes to validating my results based on baseline"
   ]
  },
  {
   "cell_type": "code",
   "execution_count": 15,
   "metadata": {},
   "outputs": [
    {
     "name": "stdout",
     "output_type": "stream",
     "text": [
      "\n",
      "🔍 Checking Data Leakage...\n",
      "⚠️ 0 samples from test data are also in training data.\n",
      "✅ No Data Leakage Detected.\n",
      "\n",
      "🔍 Checking Overfitting...\n",
      "📊 Training Accuracy: 0.7500\n",
      "📊 Test Accuracy: 0.5116\n",
      "❌ Possible Overfitting: Model performs much better on training data.\n",
      "\n",
      "Class Distribution in Training Set:\n",
      "class\n",
      "0    173\n",
      "1     27\n",
      "Name: count, dtype: int64\n",
      "\n",
      "Classification Report (Naive Bayes):\n",
      "              precision    recall  f1-score   support\n",
      "\n",
      "           0       1.00      0.47      0.64        80\n",
      "           1       0.12      1.00      0.22         6\n",
      "\n",
      "    accuracy                           0.51        86\n",
      "   macro avg       0.56      0.74      0.43        86\n",
      "weighted avg       0.94      0.51      0.61        86\n",
      "\n"
     ]
    }
   ],
   "source": [
    "\n",
    "\n",
    "#check where these variables are coming from\n",
    "# For baseline Naive Bayes testing:\n",
    "check_data_leakage(X_train_tfidf, X_test_tfidf)\n",
    "check_overfitting(best_nb, X_train_tfidf, y_train, X_test_tfidf, y_test)\n",
    "\n",
    "print(\"\\nClass Distribution in Training Set:\")\n",
    "print(y_train.value_counts())\n",
    "print(\"\\nClassification Report (Naive Bayes):\")\n",
    "print(classification_report(y_test, y_pred_nb))"
   ]
  },
  {
   "cell_type": "markdown",
   "metadata": {},
   "source": [
    "##### Line chart for repeats"
   ]
  },
  {
   "cell_type": "code",
   "execution_count": 13,
   "metadata": {},
   "outputs": [
    {
     "data": {
      "image/png": "[encoded data removed]",
      "text/plain": [
       "<Figure size 800x400 with 1 Axes>"
      ]
     },
     "metadata": {},
     "output_type": "display_data"
    }
   ],
   "source": [
    "plot_metric_trends(f'{baseline_path}/results/{project}_NaiveBayes_Metrics.csv')"
   ]
  },
  {
   "cell_type": "markdown",
   "metadata": {},
   "source": [
    "##### Perform Testing with Random Forest"
   ]
  },
  {
   "cell_type": "code",
   "execution_count": 28,
   "metadata": {},
   "outputs": [
    {
     "name": "stderr",
     "output_type": "stream",
     "text": [
      "c:\\Python312\\Lib\\site-packages\\sklearn\\metrics\\_classification.py:1565: UndefinedMetricWarning: Precision is ill-defined and being set to 0.0 in labels with no predicted samples. Use `zero_division` parameter to control this behavior.\n",
      "  _warn_prf(average, modifier, f\"{metric.capitalize()} is\", len(result))\n",
      "c:\\Python312\\Lib\\site-packages\\sklearn\\metrics\\_classification.py:1565: UndefinedMetricWarning: Precision is ill-defined and being set to 0.0 in labels with no predicted samples. Use `zero_division` parameter to control this behavior.\n",
      "  _warn_prf(average, modifier, f\"{metric.capitalize()} is\", len(result))\n"
     ]
    },
    {
     "name": "stdout",
     "output_type": "stream",
     "text": [
      "Repeat 0: Precision = 0.45348837209302323\n",
      "Repeat 1: Precision = 0.4476744186046512\n"
     ]
    },
    {
     "name": "stderr",
     "output_type": "stream",
     "text": [
      "c:\\Python312\\Lib\\site-packages\\sklearn\\metrics\\_classification.py:1565: UndefinedMetricWarning: Precision is ill-defined and being set to 0.0 in labels with no predicted samples. Use `zero_division` parameter to control this behavior.\n",
      "  _warn_prf(average, modifier, f\"{metric.capitalize()} is\", len(result))\n",
      "c:\\Python312\\Lib\\site-packages\\sklearn\\metrics\\_classification.py:1565: UndefinedMetricWarning: Precision is ill-defined and being set to 0.0 in labels with no predicted samples. Use `zero_division` parameter to control this behavior.\n",
      "  _warn_prf(average, modifier, f\"{metric.capitalize()} is\", len(result))\n"
     ]
    },
    {
     "name": "stdout",
     "output_type": "stream",
     "text": [
      "Repeat 2: Precision = 0.4127906976744186\n",
      "Repeat 3: Precision = 0.436046511627907\n",
      "Repeat 4: Precision = 0.4457831325301205\n",
      "Repeat 5: Precision = 0.9705882352941176\n"
     ]
    },
    {
     "name": "stderr",
     "output_type": "stream",
     "text": [
      "c:\\Python312\\Lib\\site-packages\\sklearn\\metrics\\_classification.py:1565: UndefinedMetricWarning: Precision is ill-defined and being set to 0.0 in labels with no predicted samples. Use `zero_division` parameter to control this behavior.\n",
      "  _warn_prf(average, modifier, f\"{metric.capitalize()} is\", len(result))\n",
      "c:\\Python312\\Lib\\site-packages\\sklearn\\metrics\\_classification.py:1565: UndefinedMetricWarning: Precision is ill-defined and being set to 0.0 in labels with no predicted samples. Use `zero_division` parameter to control this behavior.\n",
      "  _warn_prf(average, modifier, f\"{metric.capitalize()} is\", len(result))\n"
     ]
    },
    {
     "name": "stdout",
     "output_type": "stream",
     "text": [
      "Repeat 6: Precision = 0.436046511627907\n",
      "Repeat 7: Precision = 0.47093023255813954\n"
     ]
    },
    {
     "name": "stderr",
     "output_type": "stream",
     "text": [
      "c:\\Python312\\Lib\\site-packages\\sklearn\\metrics\\_classification.py:1565: UndefinedMetricWarning: Precision is ill-defined and being set to 0.0 in labels with no predicted samples. Use `zero_division` parameter to control this behavior.\n",
      "  _warn_prf(average, modifier, f\"{metric.capitalize()} is\", len(result))\n",
      "c:\\Python312\\Lib\\site-packages\\sklearn\\metrics\\_classification.py:1565: UndefinedMetricWarning: Precision is ill-defined and being set to 0.0 in labels with no predicted samples. Use `zero_division` parameter to control this behavior.\n",
      "  _warn_prf(average, modifier, f\"{metric.capitalize()} is\", len(result))\n"
     ]
    },
    {
     "name": "stdout",
     "output_type": "stream",
     "text": [
      "Repeat 8: Precision = 0.436046511627907\n",
      "Repeat 9: Precision = 0.4418604651162791\n",
      "Repeat 10: Precision = 0.9529411764705882\n",
      "Repeat 11: Precision = 0.4069767441860465\n"
     ]
    },
    {
     "name": "stderr",
     "output_type": "stream",
     "text": [
      "c:\\Python312\\Lib\\site-packages\\sklearn\\metrics\\_classification.py:1565: UndefinedMetricWarning: Precision is ill-defined and being set to 0.0 in labels with no predicted samples. Use `zero_division` parameter to control this behavior.\n",
      "  _warn_prf(average, modifier, f\"{metric.capitalize()} is\", len(result))\n",
      "c:\\Python312\\Lib\\site-packages\\sklearn\\metrics\\_classification.py:1565: UndefinedMetricWarning: Precision is ill-defined and being set to 0.0 in labels with no predicted samples. Use `zero_division` parameter to control this behavior.\n",
      "  _warn_prf(average, modifier, f\"{metric.capitalize()} is\", len(result))\n"
     ]
    },
    {
     "name": "stdout",
     "output_type": "stream",
     "text": [
      "Repeat 12: Precision = 0.43023255813953487\n",
      "Repeat 13: Precision = 0.45930232558139533\n"
     ]
    },
    {
     "name": "stderr",
     "output_type": "stream",
     "text": [
      "c:\\Python312\\Lib\\site-packages\\sklearn\\metrics\\_classification.py:1565: UndefinedMetricWarning: Precision is ill-defined and being set to 0.0 in labels with no predicted samples. Use `zero_division` parameter to control this behavior.\n",
      "  _warn_prf(average, modifier, f\"{metric.capitalize()} is\", len(result))\n",
      "c:\\Python312\\Lib\\site-packages\\sklearn\\metrics\\_classification.py:1565: UndefinedMetricWarning: Precision is ill-defined and being set to 0.0 in labels with no predicted samples. Use `zero_division` parameter to control this behavior.\n",
      "  _warn_prf(average, modifier, f\"{metric.capitalize()} is\", len(result))\n"
     ]
    },
    {
     "name": "stdout",
     "output_type": "stream",
     "text": [
      "Repeat 14: Precision = 0.4186046511627907\n",
      "Repeat 15: Precision = 0.46511627906976744\n"
     ]
    },
    {
     "name": "stderr",
     "output_type": "stream",
     "text": [
      "c:\\Python312\\Lib\\site-packages\\sklearn\\metrics\\_classification.py:1565: UndefinedMetricWarning: Precision is ill-defined and being set to 0.0 in labels with no predicted samples. Use `zero_division` parameter to control this behavior.\n",
      "  _warn_prf(average, modifier, f\"{metric.capitalize()} is\", len(result))\n",
      "c:\\Python312\\Lib\\site-packages\\sklearn\\metrics\\_classification.py:1565: UndefinedMetricWarning: Precision is ill-defined and being set to 0.0 in labels with no predicted samples. Use `zero_division` parameter to control this behavior.\n",
      "  _warn_prf(average, modifier, f\"{metric.capitalize()} is\", len(result))\n"
     ]
    },
    {
     "name": "stdout",
     "output_type": "stream",
     "text": [
      "Repeat 16: Precision = 0.4127906976744186\n",
      "Repeat 17: Precision = 0.45930232558139533\n"
     ]
    },
    {
     "name": "stderr",
     "output_type": "stream",
     "text": [
      "c:\\Python312\\Lib\\site-packages\\sklearn\\metrics\\_classification.py:1565: UndefinedMetricWarning: Precision is ill-defined and being set to 0.0 in labels with no predicted samples. Use `zero_division` parameter to control this behavior.\n",
      "  _warn_prf(average, modifier, f\"{metric.capitalize()} is\", len(result))\n",
      "c:\\Python312\\Lib\\site-packages\\sklearn\\metrics\\_classification.py:1565: UndefinedMetricWarning: Precision is ill-defined and being set to 0.0 in labels with no predicted samples. Use `zero_division` parameter to control this behavior.\n",
      "  _warn_prf(average, modifier, f\"{metric.capitalize()} is\", len(result))\n"
     ]
    },
    {
     "name": "stdout",
     "output_type": "stream",
     "text": [
      "Repeat 18: Precision = 0.43023255813953487\n",
      "Repeat 19: Precision = 0.43023255813953487\n"
     ]
    },
    {
     "name": "stderr",
     "output_type": "stream",
     "text": [
      "c:\\Python312\\Lib\\site-packages\\sklearn\\metrics\\_classification.py:1565: UndefinedMetricWarning: Precision is ill-defined and being set to 0.0 in labels with no predicted samples. Use `zero_division` parameter to control this behavior.\n",
      "  _warn_prf(average, modifier, f\"{metric.capitalize()} is\", len(result))\n",
      "c:\\Python312\\Lib\\site-packages\\sklearn\\metrics\\_classification.py:1565: UndefinedMetricWarning: Precision is ill-defined and being set to 0.0 in labels with no predicted samples. Use `zero_division` parameter to control this behavior.\n",
      "  _warn_prf(average, modifier, f\"{metric.capitalize()} is\", len(result))\n"
     ]
    },
    {
     "name": "stdout",
     "output_type": "stream",
     "text": [
      "Repeat 20: Precision = 0.4476744186046512\n",
      "Repeat 21: Precision = 0.4476744186046512\n"
     ]
    },
    {
     "name": "stderr",
     "output_type": "stream",
     "text": [
      "c:\\Python312\\Lib\\site-packages\\sklearn\\metrics\\_classification.py:1565: UndefinedMetricWarning: Precision is ill-defined and being set to 0.0 in labels with no predicted samples. Use `zero_division` parameter to control this behavior.\n",
      "  _warn_prf(average, modifier, f\"{metric.capitalize()} is\", len(result))\n",
      "c:\\Python312\\Lib\\site-packages\\sklearn\\metrics\\_classification.py:1565: UndefinedMetricWarning: Precision is ill-defined and being set to 0.0 in labels with no predicted samples. Use `zero_division` parameter to control this behavior.\n",
      "  _warn_prf(average, modifier, f\"{metric.capitalize()} is\", len(result))\n"
     ]
    },
    {
     "name": "stdout",
     "output_type": "stream",
     "text": [
      "Repeat 22: Precision = 0.45930232558139533\n",
      "Repeat 23: Precision = 0.46511627906976744\n"
     ]
    },
    {
     "name": "stderr",
     "output_type": "stream",
     "text": [
      "c:\\Python312\\Lib\\site-packages\\sklearn\\metrics\\_classification.py:1565: UndefinedMetricWarning: Precision is ill-defined and being set to 0.0 in labels with no predicted samples. Use `zero_division` parameter to control this behavior.\n",
      "  _warn_prf(average, modifier, f\"{metric.capitalize()} is\", len(result))\n",
      "c:\\Python312\\Lib\\site-packages\\sklearn\\metrics\\_classification.py:1565: UndefinedMetricWarning: Precision is ill-defined and being set to 0.0 in labels with no predicted samples. Use `zero_division` parameter to control this behavior.\n",
      "  _warn_prf(average, modifier, f\"{metric.capitalize()} is\", len(result))\n"
     ]
    },
    {
     "name": "stdout",
     "output_type": "stream",
     "text": [
      "Repeat 24: Precision = 0.4418604651162791\n",
      "Repeat 25: Precision = 0.9294117647058824\n"
     ]
    },
    {
     "name": "stderr",
     "output_type": "stream",
     "text": [
      "c:\\Python312\\Lib\\site-packages\\sklearn\\metrics\\_classification.py:1565: UndefinedMetricWarning: Precision is ill-defined and being set to 0.0 in labels with no predicted samples. Use `zero_division` parameter to control this behavior.\n",
      "  _warn_prf(average, modifier, f\"{metric.capitalize()} is\", len(result))\n"
     ]
    },
    {
     "name": "stdout",
     "output_type": "stream",
     "text": [
      "Repeat 26: Precision = 0.4418604651162791\n",
      "Repeat 27: Precision = 0.9588235294117646\n",
      "Repeat 28: Precision = 0.46511627906976744\n",
      "Repeat 29: Precision = 0.46511627906976744\n",
      "Saved: caffe_RandomForest_Metrics2.csv\n",
      "Repeat       14.500000\n",
      "Accuracy      0.888372\n",
      "Precision     0.511298\n",
      "Recall        0.507346\n",
      "F1            0.484393\n",
      "AUC           0.507346\n",
      "dtype: float64\n",
      "\n",
      "\n"
     ]
    },
    {
     "name": "stderr",
     "output_type": "stream",
     "text": [
      "c:\\Python312\\Lib\\site-packages\\sklearn\\metrics\\_classification.py:1565: UndefinedMetricWarning: Precision is ill-defined and being set to 0.0 in labels with no predicted samples. Use `zero_division` parameter to control this behavior.\n",
      "  _warn_prf(average, modifier, f\"{metric.capitalize()} is\", len(result))\n",
      "c:\\Python312\\Lib\\site-packages\\sklearn\\metrics\\_classification.py:1565: UndefinedMetricWarning: Precision is ill-defined and being set to 0.0 in labels with no predicted samples. Use `zero_division` parameter to control this behavior.\n",
      "  _warn_prf(average, modifier, f\"{metric.capitalize()} is\", len(result))\n"
     ]
    }
   ],
   "source": [
    "rf_metrics = []\n",
    "\n",
    "# Load dataset for this iteration\n",
    "data_rf = pd.read_csv(f'{project}_processed_data.csv')\n",
    "X_rf = data_rf[text_col]\n",
    "y_rf = data_rf['class']\n",
    "\n",
    "for repeated_time in range(REPEAT):\n",
    "    \n",
    "    # Train-test split (70/30)\n",
    "    X_train_rf, X_test_rf, y_train_rf, y_test_rf = train_test_split(\n",
    "        X_rf, y_rf, test_size=0.3, random_state=repeated_time, shuffle=True\n",
    "    )\n",
    "\n",
    "    # Apply TF-IDF vectorization\n",
    "    tfidf_rf = TfidfVectorizer(ngram_range=(1, 2), max_features=1000)\n",
    "    X_train_tfidf_rf = tfidf_rf.fit_transform(X_train_rf).toarray()\n",
    "    X_test_tfidf_rf = tfidf_rf.transform(X_test_rf).toarray()\n",
    "\n",
    "    # Train and Evaluate Random Forest\n",
    "    rf_clf = RandomForestClassifier(n_estimators=100, max_depth=20)\n",
    "    rf_clf.fit(X_train_tfidf_rf, y_train_rf)\n",
    "    y_pred_rf = rf_clf.predict(X_test_tfidf_rf)\n",
    "\n",
    "    rf_metrics.append({\n",
    "        \"Repeat\": repeated_time,\n",
    "        \"Accuracy\": accuracy_score(y_test_rf, y_pred_rf),\n",
    "        \"Precision\": precision_score(y_test_rf, y_pred_rf, average='macro'),\n",
    "        \"Recall\": recall_score(y_test_rf, y_pred_rf, average='macro'),\n",
    "        \"F1\": f1_score(y_test_rf, y_pred_rf, average='macro'),\n",
    "        \"AUC\": auc(*roc_curve(y_test_rf, y_pred_rf, pos_label=1)[:2])\n",
    "    })\n",
    "\n",
    "    precision = precision_score(y_test_rf, y_pred_rf, average='macro', zero_division=0)\n",
    "    print(f\"Repeat {repeated_time}: Precision = {precision}\")\n",
    "\n",
    "save_model_metrics(rf_metrics, f'{project}_RandomForest_Metrics2.csv')\n"
   ]
  },
  {
   "cell_type": "markdown",
   "metadata": {},
   "source": [
    "##### Save results to csv file"
   ]
  },
  {
   "cell_type": "code",
   "execution_count": 17,
   "metadata": {},
   "outputs": [
    {
     "name": "stdout",
     "output_type": "stream",
     "text": [
      "Saved: caffe_RandomForest_Final_Metrics.csv\n",
      "Total_Repeats    30.000000\n",
      "Avg_Accuracy      0.887984\n",
      "Avg_Precision     0.494465\n",
      "Avg_Recall        0.506064\n",
      "Avg_F1            0.481915\n",
      "Avg_AUC           0.506064\n",
      "dtype: float64\n",
      "\n",
      "\n"
     ]
    }
   ],
   "source": [
    "# === Calculate final averages from all repeats ===\n",
    "final_metrics = {\n",
    "    \"Total_Repeats\": REPEAT,\n",
    "    \"Avg_Accuracy\": np.mean([m[\"Accuracy\"] for m in rf_metrics]),\n",
    "    \"Avg_Precision\": np.mean([m[\"Precision\"] for m in rf_metrics]),\n",
    "    \"Avg_Recall\": np.mean([m[\"Recall\"] for m in rf_metrics]),\n",
    "    \"Avg_F1\": np.mean([m[\"F1\"] for m in rf_metrics]),\n",
    "    \"Avg_AUC\": np.mean([m[\"AUC\"] for m in rf_metrics])\n",
    "}\n",
    "\n",
    "save_model_metrics([final_metrics], f'{project}_RandomForest_Final_Metrics.csv')"
   ]
  },
  {
   "cell_type": "markdown",
   "metadata": {},
   "source": [
    "##### Load results for Random Forest "
   ]
  },
  {
   "cell_type": "code",
   "execution_count": 18,
   "metadata": {},
   "outputs": [
    {
     "data": {
      "text/html": [
       "<div>\n",
       "<style scoped>\n",
       "    .dataframe tbody tr th:only-of-type {\n",
       "        vertical-align: middle;\n",
       "    }\n",
       "\n",
       "    .dataframe tbody tr th {\n",
       "        vertical-align: top;\n",
       "    }\n",
       "\n",
       "    .dataframe thead th {\n",
       "        text-align: right;\n",
       "    }\n",
       "</style>\n",
       "<table border=\"1\" class=\"dataframe\">\n",
       "  <thead>\n",
       "    <tr style=\"text-align: right;\">\n",
       "      <th></th>\n",
       "      <th>Total_Repeats</th>\n",
       "      <th>Avg_Accuracy</th>\n",
       "      <th>Avg_Precision</th>\n",
       "      <th>Avg_Recall</th>\n",
       "      <th>Avg_F1</th>\n",
       "      <th>Avg_AUC</th>\n",
       "    </tr>\n",
       "  </thead>\n",
       "  <tbody>\n",
       "    <tr>\n",
       "      <th>0</th>\n",
       "      <td>30</td>\n",
       "      <td>0.887984</td>\n",
       "      <td>0.494465</td>\n",
       "      <td>0.506064</td>\n",
       "      <td>0.481915</td>\n",
       "      <td>0.506064</td>\n",
       "    </tr>\n",
       "  </tbody>\n",
       "</table>\n",
       "</div>"
      ],
      "text/plain": [
       "   Total_Repeats  Avg_Accuracy  Avg_Precision  Avg_Recall    Avg_F1   Avg_AUC\n",
       "0             30      0.887984       0.494465    0.506064  0.481915  0.506064"
      ]
     },
     "execution_count": 18,
     "metadata": {},
     "output_type": "execute_result"
    }
   ],
   "source": [
    "df = pd.read_csv(f'{baseline_path}/results/{project}_RandomForest_Final_Metrics.csv')\n",
    "df.head() "
   ]
  },
  {
   "cell_type": "markdown",
   "metadata": {},
   "source": [
    "##### Line chart Repeats"
   ]
  },
  {
   "cell_type": "code",
   "execution_count": 14,
   "metadata": {},
   "outputs": [
    {
     "data": {
      "image/png": "[encoded data removed]",
      "text/plain": [
       "<Figure size 800x400 with 1 Axes>"
      ]
     },
     "metadata": {},
     "output_type": "display_data"
    }
   ],
   "source": [
    "plot_metric_trends(f'{baseline_path}/results/{project}_RandomForest_Metrics.csv')"
   ]
  },
  {
   "cell_type": "markdown",
   "metadata": {},
   "source": [
    "##### My own improvement: perform testing with the hybrid Model "
   ]
  },
  {
   "cell_type": "code",
   "execution_count": 19,
   "metadata": {},
   "outputs": [
    {
     "name": "stderr",
     "output_type": "stream",
     "text": [
      "c:\\Python312\\Lib\\site-packages\\sklearn\\metrics\\_classification.py:1565: UndefinedMetricWarning: Precision is ill-defined and being set to 0.0 in labels with no predicted samples. Use `zero_division` parameter to control this behavior.\n",
      "  _warn_prf(average, modifier, f\"{metric.capitalize()} is\", len(result))\n",
      "c:\\Python312\\Lib\\site-packages\\sklearn\\metrics\\_classification.py:1565: UndefinedMetricWarning: Precision is ill-defined and being set to 0.0 in labels with no predicted samples. Use `zero_division` parameter to control this behavior.\n",
      "  _warn_prf(average, modifier, f\"{metric.capitalize()} is\", len(result))\n"
     ]
    },
    {
     "name": "stdout",
     "output_type": "stream",
     "text": [
      "Saved: caffe_HybridModel_Metrics.csv\n",
      "Repeat       0.000000\n",
      "Accuracy     0.906977\n",
      "Precision    0.453488\n",
      "Recall       0.500000\n",
      "F1           0.475610\n",
      "AUC          0.500000\n",
      "dtype: float64\n",
      "\n",
      "\n",
      "Saved: caffe_HybridModel_Metrics.csv\n",
      "Repeat       0.500000\n",
      "Accuracy     0.901163\n",
      "Precision    0.450581\n",
      "Recall       0.500000\n",
      "F1           0.474001\n",
      "AUC          0.500000\n",
      "dtype: float64\n",
      "\n",
      "\n"
     ]
    },
    {
     "name": "stderr",
     "output_type": "stream",
     "text": [
      "c:\\Python312\\Lib\\site-packages\\sklearn\\metrics\\_classification.py:1565: UndefinedMetricWarning: Precision is ill-defined and being set to 0.0 in labels with no predicted samples. Use `zero_division` parameter to control this behavior.\n",
      "  _warn_prf(average, modifier, f\"{metric.capitalize()} is\", len(result))\n",
      "c:\\Python312\\Lib\\site-packages\\sklearn\\metrics\\_classification.py:1565: UndefinedMetricWarning: Precision is ill-defined and being set to 0.0 in labels with no predicted samples. Use `zero_division` parameter to control this behavior.\n",
      "  _warn_prf(average, modifier, f\"{metric.capitalize()} is\", len(result))\n"
     ]
    },
    {
     "name": "stdout",
     "output_type": "stream",
     "text": [
      "Saved: caffe_HybridModel_Metrics.csv\n",
      "Repeat       1.000000\n",
      "Accuracy     0.875969\n",
      "Precision    0.437984\n",
      "Recall       0.500000\n",
      "F1           0.466744\n",
      "AUC          0.500000\n",
      "dtype: float64\n",
      "\n",
      "\n",
      "Saved: caffe_HybridModel_Metrics.csv\n",
      "Repeat       1.500000\n",
      "Accuracy     0.875000\n",
      "Precision    0.437500\n",
      "Recall       0.500000\n",
      "F1           0.466518\n",
      "AUC          0.500000\n",
      "dtype: float64\n",
      "\n",
      "\n"
     ]
    },
    {
     "name": "stderr",
     "output_type": "stream",
     "text": [
      "c:\\Python312\\Lib\\site-packages\\sklearn\\metrics\\_classification.py:1565: UndefinedMetricWarning: Precision is ill-defined and being set to 0.0 in labels with no predicted samples. Use `zero_division` parameter to control this behavior.\n",
      "  _warn_prf(average, modifier, f\"{metric.capitalize()} is\", len(result))\n",
      "c:\\Python312\\Lib\\site-packages\\sklearn\\metrics\\_classification.py:1565: UndefinedMetricWarning: Precision is ill-defined and being set to 0.0 in labels with no predicted samples. Use `zero_division` parameter to control this behavior.\n",
      "  _warn_prf(average, modifier, f\"{metric.capitalize()} is\", len(result))\n"
     ]
    },
    {
     "name": "stdout",
     "output_type": "stream",
     "text": [
      "Saved: caffe_HybridModel_Metrics.csv\n",
      "Repeat       2.000000\n",
      "Accuracy     0.879070\n",
      "Precision    0.439535\n",
      "Recall       0.500000\n",
      "F1           0.467693\n",
      "AUC          0.500000\n",
      "dtype: float64\n",
      "\n",
      "\n",
      "Saved: caffe_HybridModel_Metrics.csv\n",
      "Repeat       2.500000\n",
      "Accuracy     0.887597\n",
      "Precision    0.443798\n",
      "Recall       0.500000\n",
      "F1           0.470065\n",
      "AUC          0.500000\n",
      "dtype: float64\n",
      "\n",
      "\n"
     ]
    },
    {
     "name": "stderr",
     "output_type": "stream",
     "text": [
      "c:\\Python312\\Lib\\site-packages\\sklearn\\metrics\\_classification.py:1565: UndefinedMetricWarning: Precision is ill-defined and being set to 0.0 in labels with no predicted samples. Use `zero_division` parameter to control this behavior.\n",
      "  _warn_prf(average, modifier, f\"{metric.capitalize()} is\", len(result))\n",
      "c:\\Python312\\Lib\\site-packages\\sklearn\\metrics\\_classification.py:1565: UndefinedMetricWarning: Precision is ill-defined and being set to 0.0 in labels with no predicted samples. Use `zero_division` parameter to control this behavior.\n",
      "  _warn_prf(average, modifier, f\"{metric.capitalize()} is\", len(result))\n"
     ]
    },
    {
     "name": "stdout",
     "output_type": "stream",
     "text": [
      "Saved: caffe_HybridModel_Metrics.csv\n",
      "Repeat       3.000000\n",
      "Accuracy     0.885382\n",
      "Precision    0.442691\n",
      "Recall       0.500000\n",
      "F1           0.469461\n",
      "AUC          0.500000\n",
      "dtype: float64\n",
      "\n",
      "\n",
      "Saved: caffe_HybridModel_Metrics.csv\n",
      "Repeat       3.500000\n",
      "Accuracy     0.892442\n",
      "Precision    0.446221\n",
      "Recall       0.500000\n",
      "F1           0.471407\n",
      "AUC          0.500000\n",
      "dtype: float64\n",
      "\n",
      "\n"
     ]
    },
    {
     "name": "stderr",
     "output_type": "stream",
     "text": [
      "c:\\Python312\\Lib\\site-packages\\sklearn\\metrics\\_classification.py:1565: UndefinedMetricWarning: Precision is ill-defined and being set to 0.0 in labels with no predicted samples. Use `zero_division` parameter to control this behavior.\n",
      "  _warn_prf(average, modifier, f\"{metric.capitalize()} is\", len(result))\n",
      "c:\\Python312\\Lib\\site-packages\\sklearn\\metrics\\_classification.py:1565: UndefinedMetricWarning: Precision is ill-defined and being set to 0.0 in labels with no predicted samples. Use `zero_division` parameter to control this behavior.\n",
      "  _warn_prf(average, modifier, f\"{metric.capitalize()} is\", len(result))\n"
     ]
    },
    {
     "name": "stdout",
     "output_type": "stream",
     "text": [
      "Saved: caffe_HybridModel_Metrics.csv\n",
      "Repeat       4.000000\n",
      "Accuracy     0.890181\n",
      "Precision    0.445090\n",
      "Recall       0.500000\n",
      "F1           0.470789\n",
      "AUC          0.500000\n",
      "dtype: float64\n",
      "\n",
      "\n",
      "Saved: caffe_HybridModel_Metrics.csv\n",
      "Repeat       4.500000\n",
      "Accuracy     0.889535\n",
      "Precision    0.444767\n",
      "Recall       0.500000\n",
      "F1           0.470623\n",
      "AUC          0.500000\n",
      "dtype: float64\n",
      "\n",
      "\n"
     ]
    },
    {
     "name": "stderr",
     "output_type": "stream",
     "text": [
      "c:\\Python312\\Lib\\site-packages\\sklearn\\metrics\\_classification.py:1565: UndefinedMetricWarning: Precision is ill-defined and being set to 0.0 in labels with no predicted samples. Use `zero_division` parameter to control this behavior.\n",
      "  _warn_prf(average, modifier, f\"{metric.capitalize()} is\", len(result))\n",
      "c:\\Python312\\Lib\\site-packages\\sklearn\\metrics\\_classification.py:1565: UndefinedMetricWarning: Precision is ill-defined and being set to 0.0 in labels with no predicted samples. Use `zero_division` parameter to control this behavior.\n",
      "  _warn_prf(average, modifier, f\"{metric.capitalize()} is\", len(result))\n"
     ]
    },
    {
     "name": "stdout",
     "output_type": "stream",
     "text": [
      "Saved: caffe_HybridModel_Metrics.csv\n",
      "Repeat       5.000000\n",
      "Accuracy     0.890063\n",
      "Precision    0.445032\n",
      "Recall       0.500000\n",
      "F1           0.470784\n",
      "AUC          0.500000\n",
      "dtype: float64\n",
      "\n",
      "\n",
      "Saved: caffe_HybridModel_Metrics.csv\n",
      "Repeat       5.500000\n",
      "Accuracy     0.883721\n",
      "Precision    0.441860\n",
      "Recall       0.500000\n",
      "F1           0.468945\n",
      "AUC          0.500000\n",
      "dtype: float64\n",
      "\n",
      "\n"
     ]
    },
    {
     "name": "stderr",
     "output_type": "stream",
     "text": [
      "c:\\Python312\\Lib\\site-packages\\sklearn\\metrics\\_classification.py:1565: UndefinedMetricWarning: Precision is ill-defined and being set to 0.0 in labels with no predicted samples. Use `zero_division` parameter to control this behavior.\n",
      "  _warn_prf(average, modifier, f\"{metric.capitalize()} is\", len(result))\n"
     ]
    },
    {
     "name": "stdout",
     "output_type": "stream",
     "text": [
      "Saved: caffe_HybridModel_Metrics.csv\n",
      "Repeat       6.000000\n",
      "Accuracy     0.881932\n",
      "Precision    0.440966\n",
      "Recall       0.500000\n",
      "F1           0.468450\n",
      "AUC          0.500000\n",
      "dtype: float64\n",
      "\n",
      "\n"
     ]
    },
    {
     "name": "stderr",
     "output_type": "stream",
     "text": [
      "c:\\Python312\\Lib\\site-packages\\sklearn\\metrics\\_classification.py:1565: UndefinedMetricWarning: Precision is ill-defined and being set to 0.0 in labels with no predicted samples. Use `zero_division` parameter to control this behavior.\n",
      "  _warn_prf(average, modifier, f\"{metric.capitalize()} is\", len(result))\n",
      "c:\\Python312\\Lib\\site-packages\\sklearn\\metrics\\_classification.py:1565: UndefinedMetricWarning: Precision is ill-defined and being set to 0.0 in labels with no predicted samples. Use `zero_division` parameter to control this behavior.\n",
      "  _warn_prf(average, modifier, f\"{metric.capitalize()} is\", len(result))\n"
     ]
    },
    {
     "name": "stdout",
     "output_type": "stream",
     "text": [
      "Saved: caffe_HybridModel_Metrics.csv\n",
      "Repeat       6.500000\n",
      "Accuracy     0.884551\n",
      "Precision    0.442276\n",
      "Recall       0.500000\n",
      "F1           0.469188\n",
      "AUC          0.500000\n",
      "dtype: float64\n",
      "\n",
      "\n",
      "Saved: caffe_HybridModel_Metrics.csv\n",
      "Repeat       7.000000\n",
      "Accuracy     0.881395\n",
      "Precision    0.440698\n",
      "Recall       0.500000\n",
      "F1           0.468289\n",
      "AUC          0.500000\n",
      "dtype: float64\n",
      "\n",
      "\n"
     ]
    },
    {
     "name": "stderr",
     "output_type": "stream",
     "text": [
      "c:\\Python312\\Lib\\site-packages\\sklearn\\metrics\\_classification.py:1565: UndefinedMetricWarning: Precision is ill-defined and being set to 0.0 in labels with no predicted samples. Use `zero_division` parameter to control this behavior.\n",
      "  _warn_prf(average, modifier, f\"{metric.capitalize()} is\", len(result))\n",
      "c:\\Python312\\Lib\\site-packages\\sklearn\\metrics\\_classification.py:1565: UndefinedMetricWarning: Precision is ill-defined and being set to 0.0 in labels with no predicted samples. Use `zero_division` parameter to control this behavior.\n",
      "  _warn_prf(average, modifier, f\"{metric.capitalize()} is\", len(result))\n"
     ]
    },
    {
     "name": "stdout",
     "output_type": "stream",
     "text": [
      "Saved: caffe_HybridModel_Metrics.csv\n",
      "Repeat       7.500000\n",
      "Accuracy     0.884448\n",
      "Precision    0.442224\n",
      "Recall       0.500000\n",
      "F1           0.469141\n",
      "AUC          0.500000\n",
      "dtype: float64\n",
      "\n",
      "\n",
      "Saved: caffe_HybridModel_Metrics.csv\n",
      "Repeat       8.000000\n",
      "Accuracy     0.880985\n",
      "Precision    0.440492\n",
      "Recall       0.500000\n",
      "F1           0.468146\n",
      "AUC          0.500000\n",
      "dtype: float64\n",
      "\n",
      "\n"
     ]
    },
    {
     "name": "stderr",
     "output_type": "stream",
     "text": [
      "c:\\Python312\\Lib\\site-packages\\sklearn\\metrics\\_classification.py:1565: UndefinedMetricWarning: Precision is ill-defined and being set to 0.0 in labels with no predicted samples. Use `zero_division` parameter to control this behavior.\n",
      "  _warn_prf(average, modifier, f\"{metric.capitalize()} is\", len(result))\n",
      "c:\\Python312\\Lib\\site-packages\\sklearn\\metrics\\_classification.py:1565: UndefinedMetricWarning: Precision is ill-defined and being set to 0.0 in labels with no predicted samples. Use `zero_division` parameter to control this behavior.\n",
      "  _warn_prf(average, modifier, f\"{metric.capitalize()} is\", len(result))\n"
     ]
    },
    {
     "name": "stdout",
     "output_type": "stream",
     "text": [
      "Saved: caffe_HybridModel_Metrics.csv\n",
      "Repeat       8.500000\n",
      "Accuracy     0.883075\n",
      "Precision    0.441537\n",
      "Recall       0.500000\n",
      "F1           0.468737\n",
      "AUC          0.500000\n",
      "dtype: float64\n",
      "\n",
      "\n",
      "Saved: caffe_HybridModel_Metrics.csv\n",
      "Repeat       9.000000\n",
      "Accuracy     0.881885\n",
      "Precision    0.440942\n",
      "Recall       0.500000\n",
      "F1           0.468409\n",
      "AUC          0.500000\n",
      "dtype: float64\n",
      "\n",
      "\n"
     ]
    },
    {
     "name": "stderr",
     "output_type": "stream",
     "text": [
      "c:\\Python312\\Lib\\site-packages\\sklearn\\metrics\\_classification.py:1565: UndefinedMetricWarning: Precision is ill-defined and being set to 0.0 in labels with no predicted samples. Use `zero_division` parameter to control this behavior.\n",
      "  _warn_prf(average, modifier, f\"{metric.capitalize()} is\", len(result))\n",
      "c:\\Python312\\Lib\\site-packages\\sklearn\\metrics\\_classification.py:1565: UndefinedMetricWarning: Precision is ill-defined and being set to 0.0 in labels with no predicted samples. Use `zero_division` parameter to control this behavior.\n",
      "  _warn_prf(average, modifier, f\"{metric.capitalize()} is\", len(result))\n"
     ]
    },
    {
     "name": "stdout",
     "output_type": "stream",
     "text": [
      "Saved: caffe_HybridModel_Metrics.csv\n",
      "Repeat       9.500000\n",
      "Accuracy     0.880814\n",
      "Precision    0.440407\n",
      "Recall       0.500000\n",
      "F1           0.468114\n",
      "AUC          0.500000\n",
      "dtype: float64\n",
      "\n",
      "\n",
      "Saved: caffe_HybridModel_Metrics.csv\n",
      "Repeat       10.000000\n",
      "Accuracy      0.881506\n",
      "Precision     0.440753\n",
      "Recall        0.500000\n",
      "F1            0.468317\n",
      "AUC           0.500000\n",
      "dtype: float64\n",
      "\n",
      "\n"
     ]
    },
    {
     "name": "stderr",
     "output_type": "stream",
     "text": [
      "c:\\Python312\\Lib\\site-packages\\sklearn\\metrics\\_classification.py:1565: UndefinedMetricWarning: Precision is ill-defined and being set to 0.0 in labels with no predicted samples. Use `zero_division` parameter to control this behavior.\n",
      "  _warn_prf(average, modifier, f\"{metric.capitalize()} is\", len(result))\n"
     ]
    },
    {
     "name": "stdout",
     "output_type": "stream",
     "text": [
      "Saved: caffe_HybridModel_Metrics.csv\n",
      "Repeat       10.500000\n",
      "Accuracy      0.882135\n",
      "Precision     0.441068\n",
      "Recall        0.500000\n",
      "F1            0.468503\n",
      "AUC           0.500000\n",
      "dtype: float64\n",
      "\n",
      "\n"
     ]
    },
    {
     "name": "stderr",
     "output_type": "stream",
     "text": [
      "c:\\Python312\\Lib\\site-packages\\sklearn\\metrics\\_classification.py:1565: UndefinedMetricWarning: Precision is ill-defined and being set to 0.0 in labels with no predicted samples. Use `zero_division` parameter to control this behavior.\n",
      "  _warn_prf(average, modifier, f\"{metric.capitalize()} is\", len(result))\n"
     ]
    },
    {
     "name": "stdout",
     "output_type": "stream",
     "text": [
      "Saved: caffe_HybridModel_Metrics.csv\n",
      "Repeat       11.000000\n",
      "Accuracy      0.883721\n",
      "Precision     0.441860\n",
      "Recall        0.500000\n",
      "F1            0.468950\n",
      "AUC           0.500000\n",
      "dtype: float64\n",
      "\n",
      "\n",
      "Saved: caffe_HybridModel_Metrics.csv\n",
      "Repeat       11.500000\n",
      "Accuracy      0.885659\n",
      "Precision     0.442829\n",
      "Recall        0.500000\n",
      "F1            0.469491\n",
      "AUC           0.500000\n",
      "dtype: float64\n",
      "\n",
      "\n"
     ]
    },
    {
     "name": "stderr",
     "output_type": "stream",
     "text": [
      "c:\\Python312\\Lib\\site-packages\\sklearn\\metrics\\_classification.py:1565: UndefinedMetricWarning: Precision is ill-defined and being set to 0.0 in labels with no predicted samples. Use `zero_division` parameter to control this behavior.\n",
      "  _warn_prf(average, modifier, f\"{metric.capitalize()} is\", len(result))\n",
      "c:\\Python312\\Lib\\site-packages\\sklearn\\metrics\\_classification.py:1565: UndefinedMetricWarning: Precision is ill-defined and being set to 0.0 in labels with no predicted samples. Use `zero_division` parameter to control this behavior.\n",
      "  _warn_prf(average, modifier, f\"{metric.capitalize()} is\", len(result))\n",
      "c:\\Python312\\Lib\\site-packages\\sklearn\\metrics\\_classification.py:1565: UndefinedMetricWarning: Precision is ill-defined and being set to 0.0 in labels with no predicted samples. Use `zero_division` parameter to control this behavior.\n",
      "  _warn_prf(average, modifier, f\"{metric.capitalize()} is\", len(result))\n"
     ]
    },
    {
     "name": "stdout",
     "output_type": "stream",
     "text": [
      "Saved: caffe_HybridModel_Metrics.csv\n",
      "Repeat       12.000000\n",
      "Accuracy      0.885581\n",
      "Precision     0.442791\n",
      "Recall        0.500000\n",
      "F1            0.469476\n",
      "AUC           0.500000\n",
      "dtype: float64\n",
      "\n",
      "\n",
      "Saved: caffe_HybridModel_Metrics.csv\n",
      "Repeat       12.500000\n",
      "Accuracy      0.884168\n",
      "Precision     0.442084\n",
      "Recall        0.500000\n",
      "F1            0.469078\n",
      "AUC           0.500000\n",
      "dtype: float64\n",
      "\n",
      "\n"
     ]
    },
    {
     "name": "stderr",
     "output_type": "stream",
     "text": [
      "c:\\Python312\\Lib\\site-packages\\sklearn\\metrics\\_classification.py:1565: UndefinedMetricWarning: Precision is ill-defined and being set to 0.0 in labels with no predicted samples. Use `zero_division` parameter to control this behavior.\n",
      "  _warn_prf(average, modifier, f\"{metric.capitalize()} is\", len(result))\n"
     ]
    },
    {
     "name": "stdout",
     "output_type": "stream",
     "text": [
      "Saved: caffe_HybridModel_Metrics.csv\n",
      "Repeat       13.000000\n",
      "Accuracy      0.884152\n",
      "Precision     0.442076\n",
      "Recall        0.500000\n",
      "F1            0.469080\n",
      "AUC           0.500000\n",
      "dtype: float64\n",
      "\n",
      "\n"
     ]
    },
    {
     "name": "stderr",
     "output_type": "stream",
     "text": [
      "c:\\Python312\\Lib\\site-packages\\sklearn\\metrics\\_classification.py:1565: UndefinedMetricWarning: Precision is ill-defined and being set to 0.0 in labels with no predicted samples. Use `zero_division` parameter to control this behavior.\n",
      "  _warn_prf(average, modifier, f\"{metric.capitalize()} is\", len(result))\n"
     ]
    },
    {
     "name": "stdout",
     "output_type": "stream",
     "text": [
      "Saved: caffe_HybridModel_Metrics.csv\n",
      "Repeat       13.500000\n",
      "Accuracy      0.884967\n",
      "Precision     0.442483\n",
      "Recall        0.500000\n",
      "F1            0.469313\n",
      "AUC           0.500000\n",
      "dtype: float64\n",
      "\n",
      "\n",
      "Saved: caffe_HybridModel_Metrics.csv\n",
      "Repeat       14.000000\n",
      "Accuracy      0.886528\n",
      "Precision     0.443264\n",
      "Recall        0.500000\n",
      "F1            0.469748\n",
      "AUC           0.500000\n",
      "dtype: float64\n",
      "\n",
      "\n",
      "Saved: caffe_HybridModel_Metrics.csv\n",
      "Repeat       14.500000\n",
      "Accuracy      0.887984\n",
      "Precision     0.443992\n",
      "Recall        0.500000\n",
      "F1            0.470154\n",
      "AUC           0.500000\n",
      "dtype: float64\n",
      "\n",
      "\n"
     ]
    },
    {
     "name": "stderr",
     "output_type": "stream",
     "text": [
      "c:\\Python312\\Lib\\site-packages\\sklearn\\metrics\\_classification.py:1565: UndefinedMetricWarning: Precision is ill-defined and being set to 0.0 in labels with no predicted samples. Use `zero_division` parameter to control this behavior.\n",
      "  _warn_prf(average, modifier, f\"{metric.capitalize()} is\", len(result))\n",
      "c:\\Python312\\Lib\\site-packages\\sklearn\\metrics\\_classification.py:1565: UndefinedMetricWarning: Precision is ill-defined and being set to 0.0 in labels with no predicted samples. Use `zero_division` parameter to control this behavior.\n",
      "  _warn_prf(average, modifier, f\"{metric.capitalize()} is\", len(result))\n"
     ]
    }
   ],
   "source": [
    "hybrid_metrics = []\n",
    "# Load dataset for this iteration\n",
    "data = pd.read_csv(f'{project}_processed_data.csv')\n",
    "X_hybrid = data[text_col]\n",
    "y_hybrid = data['class']\n",
    "\n",
    "for repeated_time in range(REPEAT):\n",
    "    \n",
    "\n",
    "    X_train_hybrid, X_test_hybrid, y_train_hybrid, y_test_hybrid = train_test_split(\n",
    "        X_hybrid, y_hybrid, test_size=0.3, random_state=repeated_time, shuffle=True\n",
    "    )\n",
    "\n",
    "    tfidf_hybrid = TfidfVectorizer(ngram_range=(1, 2), max_features=1000)\n",
    "    X_train_tfidf_hybrid = tfidf_hybrid.fit_transform(X_train_hybrid).toarray()\n",
    "    X_test_tfidf_hybrid = tfidf_hybrid.transform(X_test_hybrid).toarray()\n",
    "\n",
    "    rf_clf_hybrid = RandomForestClassifier(n_estimators=100, max_depth=20)\n",
    "    rf_clf_hybrid.fit(X_train_tfidf_hybrid, y_train_hybrid)\n",
    "\n",
    "    logreg_clf_hybrid = LogisticRegression(max_iter=2000)\n",
    "    voting_clf_hybrid = VotingClassifier(estimators=[('rf', rf_clf_hybrid), ('logreg', logreg_clf_hybrid)], voting='soft')\n",
    "    voting_clf_hybrid.fit(X_train_tfidf_hybrid, y_train_hybrid)\n",
    "\n",
    "    y_pred_hybrid = voting_clf_hybrid.predict(X_test_tfidf_hybrid)\n",
    "\n",
    "    hybrid_metrics.append({\n",
    "        \"Repeat\": repeated_time,\n",
    "        \"Accuracy\": accuracy_score(y_test_hybrid, y_pred_hybrid),\n",
    "        \"Precision\": precision_score(y_test_hybrid, y_pred_hybrid, average='macro'),\n",
    "        \"Recall\": recall_score(y_test_hybrid, y_pred_hybrid, average='macro'),\n",
    "        \"F1\": f1_score(y_test_hybrid, y_pred_hybrid, average='macro'),\n",
    "        \"AUC\": auc(*roc_curve(y_test_hybrid, y_pred_hybrid, pos_label=1)[:2])\n",
    "    })\n",
    "\n",
    "    save_model_metrics(hybrid_metrics, f'{project}_HybridModel_Metrics.csv')\n"
   ]
  },
  {
   "cell_type": "markdown",
   "metadata": {},
   "source": [
    "##### Save results to csv file"
   ]
  },
  {
   "cell_type": "code",
   "execution_count": 20,
   "metadata": {},
   "outputs": [
    {
     "name": "stdout",
     "output_type": "stream",
     "text": [
      "Saved: caffe_HybridModel_Final_Metrics.csv\n",
      "Total_Repeats    30.000000\n",
      "Avg_Accuracy      0.887984\n",
      "Avg_Precision     0.443992\n",
      "Avg_Recall        0.500000\n",
      "Avg_F1            0.470154\n",
      "Avg_AUC           0.500000\n",
      "dtype: float64\n",
      "\n",
      "\n"
     ]
    }
   ],
   "source": [
    "# === Calculate final averages from all repeats ===\n",
    "final_metrics = {\n",
    "    \"Total_Repeats\": REPEAT,\n",
    "    \"Avg_Accuracy\": np.mean([m[\"Accuracy\"] for m in hybrid_metrics]),\n",
    "    \"Avg_Precision\": np.mean([m[\"Precision\"] for m in hybrid_metrics]),\n",
    "    \"Avg_Recall\": np.mean([m[\"Recall\"] for m in hybrid_metrics]),\n",
    "    \"Avg_F1\": np.mean([m[\"F1\"] for m in hybrid_metrics]),\n",
    "    \"Avg_AUC\": np.mean([m[\"AUC\"] for m in hybrid_metrics])\n",
    "}\n",
    "\n",
    "save_model_metrics([final_metrics], f'{project}_HybridModel_Final_Metrics.csv')"
   ]
  },
  {
   "cell_type": "markdown",
   "metadata": {},
   "source": [
    "##### Load results for Hybrid Model "
   ]
  },
  {
   "cell_type": "code",
   "execution_count": 21,
   "metadata": {},
   "outputs": [
    {
     "data": {
      "text/html": [
       "<div>\n",
       "<style scoped>\n",
       "    .dataframe tbody tr th:only-of-type {\n",
       "        vertical-align: middle;\n",
       "    }\n",
       "\n",
       "    .dataframe tbody tr th {\n",
       "        vertical-align: top;\n",
       "    }\n",
       "\n",
       "    .dataframe thead th {\n",
       "        text-align: right;\n",
       "    }\n",
       "</style>\n",
       "<table border=\"1\" class=\"dataframe\">\n",
       "  <thead>\n",
       "    <tr style=\"text-align: right;\">\n",
       "      <th></th>\n",
       "      <th>Total_Repeats</th>\n",
       "      <th>Avg_Accuracy</th>\n",
       "      <th>Avg_Precision</th>\n",
       "      <th>Avg_Recall</th>\n",
       "      <th>Avg_F1</th>\n",
       "      <th>Avg_AUC</th>\n",
       "    </tr>\n",
       "  </thead>\n",
       "  <tbody>\n",
       "    <tr>\n",
       "      <th>0</th>\n",
       "      <td>30</td>\n",
       "      <td>0.887984</td>\n",
       "      <td>0.443992</td>\n",
       "      <td>0.5</td>\n",
       "      <td>0.470154</td>\n",
       "      <td>0.5</td>\n",
       "    </tr>\n",
       "  </tbody>\n",
       "</table>\n",
       "</div>"
      ],
      "text/plain": [
       "   Total_Repeats  Avg_Accuracy  Avg_Precision  Avg_Recall    Avg_F1  Avg_AUC\n",
       "0             30      0.887984       0.443992         0.5  0.470154      0.5"
      ]
     },
     "execution_count": 21,
     "metadata": {},
     "output_type": "execute_result"
    }
   ],
   "source": [
    "df = pd.read_csv(f'{baseline_path}/results/{project}_HybridModel_Final_Metrics.csv')\n",
    "df.head() "
   ]
  },
  {
   "cell_type": "markdown",
   "metadata": {},
   "source": [
    "##### Line chart across repeats"
   ]
  },
  {
   "cell_type": "code",
   "execution_count": 29,
   "metadata": {},
   "outputs": [
    {
     "data": {
      "image/png": "[encoded data removed]",
      "text/plain": [
       "<Figure size 800x400 with 1 Axes>"
      ]
     },
     "metadata": {},
     "output_type": "display_data"
    }
   ],
   "source": [
    "plot_metric_trends(f'{baseline_path}/results/{project}_HybridModel_Metrics.csv')"
   ]
  },
  {
   "cell_type": "markdown",
   "metadata": {},
   "source": [
    "### Step 3: Validate results"
   ]
  },
  {
   "cell_type": "markdown",
   "metadata": {},
   "source": [
    "###### Now that the training has been complete with the baselineto be able to compare with my own improvements. \n",
    "###### I want to ensure my results can be trusted so, FOR THE HYBRID MODEL, I will test on holdout data, check for data leakage an overfitting. I will also check the class distribution of the training set and perfrom SMOTE to Balance the dataset and retest witht the hybrid model, to see if there any differences in results"
   ]
  },
  {
   "cell_type": "markdown",
   "metadata": {},
   "source": [
    "##### Test Hybrid Model on Holdout Data ---Shoukld this repeat 30 times???"
   ]
  },
  {
   "cell_type": "code",
   "execution_count": 22,
   "metadata": {},
   "outputs": [
    {
     "name": "stderr",
     "output_type": "stream",
     "text": [
      "c:\\Python312\\Lib\\site-packages\\sklearn\\metrics\\_classification.py:1565: UndefinedMetricWarning: Precision is ill-defined and being set to 0.0 in labels with no predicted samples. Use `zero_division` parameter to control this behavior.\n",
      "  _warn_prf(average, modifier, f\"{metric.capitalize()} is\", len(result))\n",
      "c:\\Python312\\Lib\\site-packages\\sklearn\\metrics\\_classification.py:1565: UndefinedMetricWarning: Precision is ill-defined and being set to 0.0 in labels with no predicted samples. Use `zero_division` parameter to control this behavior.\n",
      "  _warn_prf(average, modifier, f\"{metric.capitalize()} is\", len(result))\n",
      "c:\\Python312\\Lib\\site-packages\\sklearn\\metrics\\_classification.py:1565: UndefinedMetricWarning: Precision is ill-defined and being set to 0.0 in labels with no predicted samples. Use `zero_division` parameter to control this behavior.\n",
      "  _warn_prf(average, modifier, f\"{metric.capitalize()} is\", len(result))\n",
      "c:\\Python312\\Lib\\site-packages\\sklearn\\metrics\\_classification.py:1565: UndefinedMetricWarning: Precision is ill-defined and being set to 0.0 in labels with no predicted samples. Use `zero_division` parameter to control this behavior.\n",
      "  _warn_prf(average, modifier, f\"{metric.capitalize()} is\", len(result))\n",
      "c:\\Python312\\Lib\\site-packages\\sklearn\\metrics\\_classification.py:1565: UndefinedMetricWarning: Precision is ill-defined and being set to 0.0 in labels with no predicted samples. Use `zero_division` parameter to control this behavior.\n",
      "  _warn_prf(average, modifier, f\"{metric.capitalize()} is\", len(result))\n",
      "c:\\Python312\\Lib\\site-packages\\sklearn\\metrics\\_classification.py:1565: UndefinedMetricWarning: Precision is ill-defined and being set to 0.0 in labels with no predicted samples. Use `zero_division` parameter to control this behavior.\n",
      "  _warn_prf(average, modifier, f\"{metric.capitalize()} is\", len(result))\n",
      "c:\\Python312\\Lib\\site-packages\\sklearn\\metrics\\_classification.py:1565: UndefinedMetricWarning: Precision is ill-defined and being set to 0.0 in labels with no predicted samples. Use `zero_division` parameter to control this behavior.\n",
      "  _warn_prf(average, modifier, f\"{metric.capitalize()} is\", len(result))\n",
      "c:\\Python312\\Lib\\site-packages\\sklearn\\metrics\\_classification.py:1565: UndefinedMetricWarning: Precision is ill-defined and being set to 0.0 in labels with no predicted samples. Use `zero_division` parameter to control this behavior.\n",
      "  _warn_prf(average, modifier, f\"{metric.capitalize()} is\", len(result))\n",
      "c:\\Python312\\Lib\\site-packages\\sklearn\\metrics\\_classification.py:1565: UndefinedMetricWarning: Precision is ill-defined and being set to 0.0 in labels with no predicted samples. Use `zero_division` parameter to control this behavior.\n",
      "  _warn_prf(average, modifier, f\"{metric.capitalize()} is\", len(result))\n",
      "c:\\Python312\\Lib\\site-packages\\sklearn\\metrics\\_classification.py:1565: UndefinedMetricWarning: Precision is ill-defined and being set to 0.0 in labels with no predicted samples. Use `zero_division` parameter to control this behavior.\n",
      "  _warn_prf(average, modifier, f\"{metric.capitalize()} is\", len(result))\n",
      "c:\\Python312\\Lib\\site-packages\\sklearn\\metrics\\_classification.py:1565: UndefinedMetricWarning: Precision is ill-defined and being set to 0.0 in labels with no predicted samples. Use `zero_division` parameter to control this behavior.\n",
      "  _warn_prf(average, modifier, f\"{metric.capitalize()} is\", len(result))\n",
      "c:\\Python312\\Lib\\site-packages\\sklearn\\metrics\\_classification.py:1565: UndefinedMetricWarning: Precision is ill-defined and being set to 0.0 in labels with no predicted samples. Use `zero_division` parameter to control this behavior.\n",
      "  _warn_prf(average, modifier, f\"{metric.capitalize()} is\", len(result))\n",
      "c:\\Python312\\Lib\\site-packages\\sklearn\\metrics\\_classification.py:1565: UndefinedMetricWarning: Precision is ill-defined and being set to 0.0 in labels with no predicted samples. Use `zero_division` parameter to control this behavior.\n",
      "  _warn_prf(average, modifier, f\"{metric.capitalize()} is\", len(result))\n",
      "c:\\Python312\\Lib\\site-packages\\sklearn\\metrics\\_classification.py:1565: UndefinedMetricWarning: Precision is ill-defined and being set to 0.0 in labels with no predicted samples. Use `zero_division` parameter to control this behavior.\n",
      "  _warn_prf(average, modifier, f\"{metric.capitalize()} is\", len(result))\n",
      "c:\\Python312\\Lib\\site-packages\\sklearn\\metrics\\_classification.py:1565: UndefinedMetricWarning: Precision is ill-defined and being set to 0.0 in labels with no predicted samples. Use `zero_division` parameter to control this behavior.\n",
      "  _warn_prf(average, modifier, f\"{metric.capitalize()} is\", len(result))\n",
      "c:\\Python312\\Lib\\site-packages\\sklearn\\metrics\\_classification.py:1565: UndefinedMetricWarning: Precision is ill-defined and being set to 0.0 in labels with no predicted samples. Use `zero_division` parameter to control this behavior.\n",
      "  _warn_prf(average, modifier, f\"{metric.capitalize()} is\", len(result))\n",
      "c:\\Python312\\Lib\\site-packages\\sklearn\\metrics\\_classification.py:1565: UndefinedMetricWarning: Precision is ill-defined and being set to 0.0 in labels with no predicted samples. Use `zero_division` parameter to control this behavior.\n",
      "  _warn_prf(average, modifier, f\"{metric.capitalize()} is\", len(result))\n",
      "c:\\Python312\\Lib\\site-packages\\sklearn\\metrics\\_classification.py:1565: UndefinedMetricWarning: Precision is ill-defined and being set to 0.0 in labels with no predicted samples. Use `zero_division` parameter to control this behavior.\n",
      "  _warn_prf(average, modifier, f\"{metric.capitalize()} is\", len(result))\n",
      "c:\\Python312\\Lib\\site-packages\\sklearn\\metrics\\_classification.py:1565: UndefinedMetricWarning: Precision is ill-defined and being set to 0.0 in labels with no predicted samples. Use `zero_division` parameter to control this behavior.\n",
      "  _warn_prf(average, modifier, f\"{metric.capitalize()} is\", len(result))\n",
      "c:\\Python312\\Lib\\site-packages\\sklearn\\metrics\\_classification.py:1565: UndefinedMetricWarning: Precision is ill-defined and being set to 0.0 in labels with no predicted samples. Use `zero_division` parameter to control this behavior.\n",
      "  _warn_prf(average, modifier, f\"{metric.capitalize()} is\", len(result))\n",
      "c:\\Python312\\Lib\\site-packages\\sklearn\\metrics\\_classification.py:1565: UndefinedMetricWarning: Precision is ill-defined and being set to 0.0 in labels with no predicted samples. Use `zero_division` parameter to control this behavior.\n",
      "  _warn_prf(average, modifier, f\"{metric.capitalize()} is\", len(result))\n",
      "c:\\Python312\\Lib\\site-packages\\sklearn\\metrics\\_classification.py:1565: UndefinedMetricWarning: Precision is ill-defined and being set to 0.0 in labels with no predicted samples. Use `zero_division` parameter to control this behavior.\n",
      "  _warn_prf(average, modifier, f\"{metric.capitalize()} is\", len(result))\n",
      "c:\\Python312\\Lib\\site-packages\\sklearn\\metrics\\_classification.py:1565: UndefinedMetricWarning: Precision is ill-defined and being set to 0.0 in labels with no predicted samples. Use `zero_division` parameter to control this behavior.\n",
      "  _warn_prf(average, modifier, f\"{metric.capitalize()} is\", len(result))\n",
      "c:\\Python312\\Lib\\site-packages\\sklearn\\metrics\\_classification.py:1565: UndefinedMetricWarning: Precision is ill-defined and being set to 0.0 in labels with no predicted samples. Use `zero_division` parameter to control this behavior.\n",
      "  _warn_prf(average, modifier, f\"{metric.capitalize()} is\", len(result))\n",
      "c:\\Python312\\Lib\\site-packages\\sklearn\\metrics\\_classification.py:1565: UndefinedMetricWarning: Precision is ill-defined and being set to 0.0 in labels with no predicted samples. Use `zero_division` parameter to control this behavior.\n",
      "  _warn_prf(average, modifier, f\"{metric.capitalize()} is\", len(result))\n",
      "c:\\Python312\\Lib\\site-packages\\sklearn\\metrics\\_classification.py:1565: UndefinedMetricWarning: Precision is ill-defined and being set to 0.0 in labels with no predicted samples. Use `zero_division` parameter to control this behavior.\n",
      "  _warn_prf(average, modifier, f\"{metric.capitalize()} is\", len(result))\n",
      "c:\\Python312\\Lib\\site-packages\\sklearn\\metrics\\_classification.py:1565: UndefinedMetricWarning: Precision is ill-defined and being set to 0.0 in labels with no predicted samples. Use `zero_division` parameter to control this behavior.\n",
      "  _warn_prf(average, modifier, f\"{metric.capitalize()} is\", len(result))\n",
      "c:\\Python312\\Lib\\site-packages\\sklearn\\metrics\\_classification.py:1565: UndefinedMetricWarning: Precision is ill-defined and being set to 0.0 in labels with no predicted samples. Use `zero_division` parameter to control this behavior.\n",
      "  _warn_prf(average, modifier, f\"{metric.capitalize()} is\", len(result))\n",
      "c:\\Python312\\Lib\\site-packages\\sklearn\\metrics\\_classification.py:1565: UndefinedMetricWarning: Precision is ill-defined and being set to 0.0 in labels with no predicted samples. Use `zero_division` parameter to control this behavior.\n",
      "  _warn_prf(average, modifier, f\"{metric.capitalize()} is\", len(result))\n"
     ]
    },
    {
     "name": "stdout",
     "output_type": "stream",
     "text": [
      "\n",
      "🔍 Holdout Set Performance (Hybrid Model):\n",
      "              precision    recall  f1-score   support\n",
      "\n",
      "     Non-Bug       0.93      1.00      0.96        27\n",
      "         Bug       0.00      0.00      0.00         2\n",
      "\n",
      "    accuracy                           0.93        29\n",
      "   macro avg       0.47      0.50      0.48        29\n",
      "weighted avg       0.87      0.93      0.90        29\n",
      "\n"
     ]
    },
    {
     "name": "stderr",
     "output_type": "stream",
     "text": [
      "c:\\Python312\\Lib\\site-packages\\sklearn\\metrics\\_classification.py:1565: UndefinedMetricWarning: Precision is ill-defined and being set to 0.0 in labels with no predicted samples. Use `zero_division` parameter to control this behavior.\n",
      "  _warn_prf(average, modifier, f\"{metric.capitalize()} is\", len(result))\n",
      "c:\\Python312\\Lib\\site-packages\\sklearn\\metrics\\_classification.py:1565: UndefinedMetricWarning: Precision is ill-defined and being set to 0.0 in labels with no predicted samples. Use `zero_division` parameter to control this behavior.\n",
      "  _warn_prf(average, modifier, f\"{metric.capitalize()} is\", len(result))\n",
      "c:\\Python312\\Lib\\site-packages\\sklearn\\metrics\\_classification.py:1565: UndefinedMetricWarning: Precision is ill-defined and being set to 0.0 in labels with no predicted samples. Use `zero_division` parameter to control this behavior.\n",
      "  _warn_prf(average, modifier, f\"{metric.capitalize()} is\", len(result))\n",
      "c:\\Python312\\Lib\\site-packages\\sklearn\\metrics\\_classification.py:1565: UndefinedMetricWarning: Precision is ill-defined and being set to 0.0 in labels with no predicted samples. Use `zero_division` parameter to control this behavior.\n",
      "  _warn_prf(average, modifier, f\"{metric.capitalize()} is\", len(result))\n"
     ]
    }
   ],
   "source": [
    "###0 IS A NONBUG, SO IT IS WHAT SHOULD BE PRE4DICTED AS NONBUG\n",
    "\n",
    "# Define function to test trained hybrid model on holdout set\n",
    "def test_on_holdout_hybrid(model):\n",
    "    holdout_data_hybrid = pd.read_csv(f'{project}_processed_data_holdout.csv')\n",
    "    holdout_text_hybrid = holdout_data_hybrid[text_col]\n",
    "    holdout_labels_hybrid = holdout_data_hybrid['class']\n",
    "\n",
    "    tfidf_hybrid_holdout = TfidfVectorizer(ngram_range=(1, 2), max_features=1000)\n",
    "    X_holdout_hybrid = tfidf_hybrid_holdout.fit_transform(holdout_text_hybrid).toarray()\n",
    "\n",
    "    holdout_preds_hybrid = model.predict(X_holdout_hybrid)\n",
    "    print(\"\\n🔍 Holdout Set Performance (Hybrid Model):\")\n",
    "    print(classification_report(holdout_labels_hybrid, holdout_preds_hybrid, target_names=['Non-Bug', 'Bug']))\n",
    "\n",
    "    # Load full processed dataset\n",
    "data = pd.read_csv(f'{project}_processed_data.csv')\n",
    "\n",
    "# Create holdout split (90% train/test, 10% holdout)\n",
    "train_test_data, holdout_data = train_test_split(data, test_size=0.1, random_state=42)\n",
    "\n",
    "# Save to CSV for consistent usage across notebooks\n",
    "train_test_data.to_csv(f'{project}_processed_train_test_data_holdout.csv', index=False)\n",
    "holdout_data.to_csv(f'{project}_processed_data_holdout.csv', index=False)\n",
    "\n",
    "\n",
    "\n",
    "\n",
    "hybrid_holdout_metrics = []\n",
    "\n",
    "# Load 90% dataset for training/testing splits\n",
    "data_hybrid_holdout = pd.read_csv(f'{project}_processed_train_test_data_holdout.csv')\n",
    "X_hybrid_holdout = data_hybrid_holdout[text_col]\n",
    "y_hybrid_holdout = data_hybrid_holdout['class']\n",
    "\n",
    "for repeated_time in range(REPEAT):\n",
    "    # Split into 70/30\n",
    "    X_train_hybrid, X_test_hybrid, y_train_hybrid, y_test_hybrid = train_test_split(\n",
    "        X_hybrid_holdout, y_hybrid_holdout, test_size=0.3, random_state=repeated_time, shuffle=True\n",
    "    )\n",
    "\n",
    "    # TF-IDF\n",
    "    tfidf_hybrid = TfidfVectorizer(ngram_range=(1, 2), max_features=1000)\n",
    "    X_train_tfidf_hybrid = tfidf_hybrid.fit_transform(X_train_hybrid).toarray()\n",
    "    X_test_tfidf_hybrid = tfidf_hybrid.transform(X_test_hybrid).toarray()\n",
    "\n",
    "    # Random Forest\n",
    "    rf_clf_hybrid = RandomForestClassifier(n_estimators=100, max_depth=20)\n",
    "    rf_clf_hybrid.fit(X_train_tfidf_hybrid, y_train_hybrid)\n",
    "\n",
    "    # Hybrid Model: Random Forest + Logistic Regression\n",
    "    logreg_clf_hybrid = LogisticRegression(max_iter=2000)\n",
    "    voting_clf_hybrid = VotingClassifier(estimators=[\n",
    "        ('rf', rf_clf_hybrid), \n",
    "        ('logreg', logreg_clf_hybrid)\n",
    "    ], voting='soft')\n",
    "    voting_clf_hybrid.fit(X_train_tfidf_hybrid, y_train_hybrid)\n",
    "    y_pred_hybrid = voting_clf_hybrid.predict(X_test_tfidf_hybrid)\n",
    "\n",
    "    # Save metrics for each repeat\n",
    "    hybrid_holdout_metrics.append({\n",
    "        \"Repeat\": repeated_time,\n",
    "        \"Accuracy\": accuracy_score(y_test_hybrid, y_pred_hybrid),\n",
    "        \"Precision\": precision_score(y_test_hybrid, y_pred_hybrid, average='macro'),\n",
    "        \"Recall\": recall_score(y_test_hybrid, y_pred_hybrid, average='macro'),\n",
    "        \"F1\": f1_score(y_test_hybrid, y_pred_hybrid, average='macro'),\n",
    "        \"AUC\": auc(*roc_curve(y_test_hybrid, y_pred_hybrid, pos_label=1)[:2])\n",
    "    })\n",
    "\n",
    "# Save all repeated metrics to CSV\n",
    "#save_model_metrics(hybrid_holdout_metrics, f'{project}_HybridModel_Holdout_Metrics.csv')\n",
    "\n",
    "\n",
    "\n",
    "# Evaluate on true holdout portion\n",
    "test_on_holdout_hybrid(voting_clf_hybrid)\n"
   ]
  },
  {
   "cell_type": "markdown",
   "metadata": {},
   "source": [
    "##### Save results to csv file"
   ]
  },
  {
   "cell_type": "code",
   "execution_count": 23,
   "metadata": {},
   "outputs": [],
   "source": [
    "## Save results here"
   ]
  },
  {
   "cell_type": "markdown",
   "metadata": {},
   "source": [
    "##### Load results for test on holdout"
   ]
  },
  {
   "cell_type": "code",
   "execution_count": 24,
   "metadata": {},
   "outputs": [],
   "source": [
    "#df = pd.read_csv(\"processed_data_holdout.csv\")\n",
    "#df.head() "
   ]
  },
  {
   "cell_type": "markdown",
   "metadata": {},
   "source": [
    "##### Check for data leakage and overfitting"
   ]
  },
  {
   "cell_type": "code",
   "execution_count": 25,
   "metadata": {},
   "outputs": [
    {
     "name": "stdout",
     "output_type": "stream",
     "text": [
      "\n",
      "🔍 Checking Data Leakage...\n",
      "⚠️ 0 samples from test data are also in training data.\n",
      "✅ No Data Leakage Detected.\n",
      "\n",
      "🔍 Checking Overfitting...\n",
      "📊 Training Accuracy: 0.8939\n",
      "📊 Test Accuracy: 0.8846\n",
      "✅ No significant overfitting detected.\n"
     ]
    }
   ],
   "source": [
    "#check where these variables are coming from\n",
    "check_data_leakage(X_train_tfidf_hybrid, X_test_tfidf_hybrid)\n",
    "check_overfitting(voting_clf_hybrid, X_train_tfidf_hybrid, y_train_hybrid, X_test_tfidf_hybrid, y_test_hybrid)"
   ]
  },
  {
   "cell_type": "markdown",
   "metadata": {},
   "source": [
    "##### Check class distribution "
   ]
  },
  {
   "cell_type": "code",
   "execution_count": 26,
   "metadata": {},
   "outputs": [
    {
     "name": "stdout",
     "output_type": "stream",
     "text": [
      "\n",
      "Class Distribution in Training Set:\n",
      "class\n",
      "0    157\n",
      "1     22\n",
      "Name: count, dtype: int64\n",
      "\n",
      "Classification Report:\n",
      "              precision    recall  f1-score   support\n",
      "\n",
      "           0       0.88      1.00      0.94        69\n",
      "           1       0.00      0.00      0.00         9\n",
      "\n",
      "    accuracy                           0.88        78\n",
      "   macro avg       0.44      0.50      0.47        78\n",
      "weighted avg       0.78      0.88      0.83        78\n",
      "\n"
     ]
    },
    {
     "name": "stderr",
     "output_type": "stream",
     "text": [
      "c:\\Python312\\Lib\\site-packages\\sklearn\\metrics\\_classification.py:1565: UndefinedMetricWarning: Precision is ill-defined and being set to 0.0 in labels with no predicted samples. Use `zero_division` parameter to control this behavior.\n",
      "  _warn_prf(average, modifier, f\"{metric.capitalize()} is\", len(result))\n",
      "c:\\Python312\\Lib\\site-packages\\sklearn\\metrics\\_classification.py:1565: UndefinedMetricWarning: Precision is ill-defined and being set to 0.0 in labels with no predicted samples. Use `zero_division` parameter to control this behavior.\n",
      "  _warn_prf(average, modifier, f\"{metric.capitalize()} is\", len(result))\n",
      "c:\\Python312\\Lib\\site-packages\\sklearn\\metrics\\_classification.py:1565: UndefinedMetricWarning: Precision is ill-defined and being set to 0.0 in labels with no predicted samples. Use `zero_division` parameter to control this behavior.\n",
      "  _warn_prf(average, modifier, f\"{metric.capitalize()} is\", len(result))\n"
     ]
    }
   ],
   "source": [
    "print(\"\\nClass Distribution in Training Set:\")\n",
    "print(y_train_hybrid.value_counts())\n",
    "print(\"\\nClassification Report:\")\n",
    "print(classification_report(y_test_hybrid, y_pred_hybrid))"
   ]
  },
  {
   "cell_type": "markdown",
   "metadata": {},
   "source": [
    "##### Perform Smote to Balance Dataset and Test Hybrid Model "
   ]
  },
  {
   "cell_type": "code",
   "execution_count": 27,
   "metadata": {},
   "outputs": [
    {
     "name": "stderr",
     "output_type": "stream",
     "text": [
      "c:\\Python312\\Lib\\site-packages\\sklearn\\metrics\\_classification.py:1565: UndefinedMetricWarning: Precision is ill-defined and being set to 0.0 in labels with no predicted samples. Use `zero_division` parameter to control this behavior.\n",
      "  _warn_prf(average, modifier, f\"{metric.capitalize()} is\", len(result))\n",
      "c:\\Python312\\Lib\\site-packages\\sklearn\\metrics\\_classification.py:1565: UndefinedMetricWarning: Precision is ill-defined and being set to 0.0 in labels with no predicted samples. Use `zero_division` parameter to control this behavior.\n",
      "  _warn_prf(average, modifier, f\"{metric.capitalize()} is\", len(result))\n"
     ]
    },
    {
     "name": "stdout",
     "output_type": "stream",
     "text": [
      "Saved: caffe_SMOTE_HybridModel_Metrics.csv\n",
      "Repeat       14.500000\n",
      "Accuracy      0.892636\n",
      "Precision     0.720467\n",
      "Recall        0.573950\n",
      "F1            0.587670\n",
      "AUC           0.573950\n",
      "dtype: float64\n",
      "\n",
      "\n"
     ]
    },
    {
     "name": "stderr",
     "output_type": "stream",
     "text": [
      "c:\\Python312\\Lib\\site-packages\\sklearn\\metrics\\_classification.py:1565: UndefinedMetricWarning: Precision is ill-defined and being set to 0.0 in labels with no predicted samples. Use `zero_division` parameter to control this behavior.\n",
      "  _warn_prf(average, modifier, f\"{metric.capitalize()} is\", len(result))\n"
     ]
    }
   ],
   "source": [
    "smote_hybrid_metrics = []\n",
    "\n",
    "# Load dataset for SMOTE-based training\n",
    "data_smote_hybrid = pd.read_csv(f'{project}_processed_data.csv')\n",
    "X_smote_hybrid = data_smote_hybrid[text_col]\n",
    "y_smote_hybrid = data_smote_hybrid['class']\n",
    "\n",
    "for repeated_time in range(REPEAT):\n",
    "    # Train-test split (70/30)\n",
    "    X_train_smote, X_test_smote, y_train_smote, y_test_smote = train_test_split(\n",
    "        X_smote_hybrid, y_smote_hybrid, test_size=0.3, random_state=repeated_time, shuffle=True\n",
    "    )\n",
    "\n",
    "    # TF-IDF vectorization\n",
    "    tfidf_smote = TfidfVectorizer(ngram_range=(1, 2), max_features=1000)\n",
    "    X_train_tfidf_smote = tfidf_smote.fit_transform(X_train_smote).toarray()\n",
    "    X_test_tfidf_smote = tfidf_smote.transform(X_test_smote).toarray()\n",
    "\n",
    "    # Train Hybrid Model\n",
    "    rf_clf_smote = RandomForestClassifier(n_estimators=100, max_depth=20)\n",
    "    logreg_clf_smote = LogisticRegression(max_iter=2000)\n",
    "    hybrid_clf_smote = VotingClassifier(\n",
    "        estimators=[('rf', rf_clf_smote), ('logreg', logreg_clf_smote)],\n",
    "        voting='soft'\n",
    "    )\n",
    "\n",
    "    # Apply SMOTE to balance training data\n",
    "    smote = SMOTE()\n",
    "    X_train_balanced, y_train_balanced = smote.fit_resample(X_train_tfidf_smote, y_train_smote)\n",
    "\n",
    "    # Train on balanced data\n",
    "    hybrid_clf_smote.fit(X_train_balanced, y_train_balanced)\n",
    "\n",
    "    # Predict on original (unbalanced) test set\n",
    "    y_pred_smote_hybrid = hybrid_clf_smote.predict(X_test_tfidf_smote)\n",
    "\n",
    "    # Collect metrics\n",
    "    smote_hybrid_metrics.append({\n",
    "        \"Repeat\": repeated_time,\n",
    "        \"Accuracy\": accuracy_score(y_test_smote, y_pred_smote_hybrid),\n",
    "        \"Precision\": precision_score(y_test_smote, y_pred_smote_hybrid, average='macro'),\n",
    "        \"Recall\": recall_score(y_test_smote, y_pred_smote_hybrid, average='macro'),\n",
    "        \"F1\": f1_score(y_test_smote, y_pred_smote_hybrid, average='macro'),\n",
    "        \"AUC\": auc(*roc_curve(y_test_smote, y_pred_smote_hybrid, pos_label=1)[:2])\n",
    "    })\n",
    "\n",
    "# Save metrics after all repeats\n",
    "save_model_metrics(smote_hybrid_metrics, f'{project}_SMOTE_HybridModel_Metrics.csv')\n"
   ]
  },
  {
   "cell_type": "markdown",
   "metadata": {},
   "source": [
    "##### Save and load results"
   ]
  },
  {
   "cell_type": "code",
   "execution_count": 28,
   "metadata": {},
   "outputs": [
    {
     "name": "stdout",
     "output_type": "stream",
     "text": [
      "Saved: caffe_SMOTE_HybridModel_Final_Metrics.csv\n",
      "Total_Repeats    30.000000\n",
      "Avg_Accuracy      0.892636\n",
      "Avg_Precision     0.720467\n",
      "Avg_Recall        0.573950\n",
      "Avg_F1            0.587670\n",
      "Avg_AUC           0.573950\n",
      "dtype: float64\n",
      "\n",
      "\n"
     ]
    }
   ],
   "source": [
    "# === Calculate final averages from all repeats ===\n",
    "final_metrics = {\n",
    "    \"Total_Repeats\": REPEAT,\n",
    "    \"Avg_Accuracy\": np.mean([m[\"Accuracy\"] for m in smote_hybrid_metrics]),\n",
    "    \"Avg_Precision\": np.mean([m[\"Precision\"] for m in smote_hybrid_metrics]),\n",
    "    \"Avg_Recall\": np.mean([m[\"Recall\"] for m in smote_hybrid_metrics]),\n",
    "    \"Avg_F1\": np.mean([m[\"F1\"] for m in smote_hybrid_metrics]),\n",
    "    \"Avg_AUC\": np.mean([m[\"AUC\"] for m in smote_hybrid_metrics])\n",
    "}\n",
    "\n",
    "save_model_metrics([final_metrics], f'{project}_SMOTE_HybridModel_Final_Metrics.csv')"
   ]
  },
  {
   "cell_type": "code",
   "execution_count": 29,
   "metadata": {},
   "outputs": [
    {
     "data": {
      "text/html": [
       "<div>\n",
       "<style scoped>\n",
       "    .dataframe tbody tr th:only-of-type {\n",
       "        vertical-align: middle;\n",
       "    }\n",
       "\n",
       "    .dataframe tbody tr th {\n",
       "        vertical-align: top;\n",
       "    }\n",
       "\n",
       "    .dataframe thead th {\n",
       "        text-align: right;\n",
       "    }\n",
       "</style>\n",
       "<table border=\"1\" class=\"dataframe\">\n",
       "  <thead>\n",
       "    <tr style=\"text-align: right;\">\n",
       "      <th></th>\n",
       "      <th>Total_Repeats</th>\n",
       "      <th>Avg_Accuracy</th>\n",
       "      <th>Avg_Precision</th>\n",
       "      <th>Avg_Recall</th>\n",
       "      <th>Avg_F1</th>\n",
       "      <th>Avg_AUC</th>\n",
       "    </tr>\n",
       "  </thead>\n",
       "  <tbody>\n",
       "    <tr>\n",
       "      <th>0</th>\n",
       "      <td>30</td>\n",
       "      <td>0.892636</td>\n",
       "      <td>0.720467</td>\n",
       "      <td>0.57395</td>\n",
       "      <td>0.58767</td>\n",
       "      <td>0.57395</td>\n",
       "    </tr>\n",
       "  </tbody>\n",
       "</table>\n",
       "</div>"
      ],
      "text/plain": [
       "   Total_Repeats  Avg_Accuracy  Avg_Precision  Avg_Recall   Avg_F1  Avg_AUC\n",
       "0             30      0.892636       0.720467     0.57395  0.58767  0.57395"
      ]
     },
     "execution_count": 29,
     "metadata": {},
     "output_type": "execute_result"
    }
   ],
   "source": [
    "df = pd.read_csv(f'{baseline_path}/results/{project}_SMOTE_HybridModel_Final_Metrics.csv')\n",
    "df.head() "
   ]
  },
  {
   "cell_type": "code",
   "execution_count": 30,
   "metadata": {},
   "outputs": [
    {
     "name": "stdout",
     "output_type": "stream",
     "text": [
      "\n",
      "🔍 Checking Data Leakage...\n",
      "⚠️ 0 samples from test data are also in training data.\n",
      "✅ No Data Leakage Detected.\n",
      "\n",
      "🔍 Checking Overfitting...\n",
      "📊 Training Accuracy: 1.0000\n",
      "📊 Test Accuracy: 0.9302\n",
      "✅ No significant overfitting detected.\n",
      "\n",
      "Original Class Distribution in Training Set (Before SMOTE):\n",
      "class\n",
      "0    173\n",
      "1     27\n",
      "Name: count, dtype: int64\n",
      "\n",
      "Balanced Class Distribution After SMOTE:\n",
      "class\n",
      "0    173\n",
      "1    173\n",
      "Name: count, dtype: int64\n",
      "\n",
      "Classification Report (SMOTE Hybrid Model):\n",
      "              precision    recall  f1-score   support\n",
      "\n",
      "           0       0.93      1.00      0.96        80\n",
      "           1       0.00      0.00      0.00         6\n",
      "\n",
      "    accuracy                           0.93        86\n",
      "   macro avg       0.47      0.50      0.48        86\n",
      "weighted avg       0.87      0.93      0.90        86\n",
      "\n"
     ]
    },
    {
     "name": "stderr",
     "output_type": "stream",
     "text": [
      "c:\\Python312\\Lib\\site-packages\\sklearn\\metrics\\_classification.py:1565: UndefinedMetricWarning: Precision is ill-defined and being set to 0.0 in labels with no predicted samples. Use `zero_division` parameter to control this behavior.\n",
      "  _warn_prf(average, modifier, f\"{metric.capitalize()} is\", len(result))\n",
      "c:\\Python312\\Lib\\site-packages\\sklearn\\metrics\\_classification.py:1565: UndefinedMetricWarning: Precision is ill-defined and being set to 0.0 in labels with no predicted samples. Use `zero_division` parameter to control this behavior.\n",
      "  _warn_prf(average, modifier, f\"{metric.capitalize()} is\", len(result))\n",
      "c:\\Python312\\Lib\\site-packages\\sklearn\\metrics\\_classification.py:1565: UndefinedMetricWarning: Precision is ill-defined and being set to 0.0 in labels with no predicted samples. Use `zero_division` parameter to control this behavior.\n",
      "  _warn_prf(average, modifier, f\"{metric.capitalize()} is\", len(result))\n"
     ]
    }
   ],
   "source": [
    "# ✅ Data Leakage Check (only makes sense for original training data before SMOTE)\n",
    "check_data_leakage(X_train_tfidf_smote, X_test_tfidf_smote)\n",
    "\n",
    "# ✅ Overfitting Check (use SMOTE-balanced training data and unbalanced test data)\n",
    "check_overfitting(hybrid_clf_smote, X_train_balanced, y_train_balanced, X_test_tfidf_smote, y_test_smote)\n",
    "\n",
    "# ✅ Class Distribution\n",
    "print(\"\\nOriginal Class Distribution in Training Set (Before SMOTE):\")\n",
    "print(y_train_smote.value_counts())\n",
    "\n",
    "print(\"\\nBalanced Class Distribution After SMOTE:\")\n",
    "print(pd.Series(y_train_balanced).value_counts())\n",
    "\n",
    "# ✅ Classification Report\n",
    "print(\"\\nClassification Report (SMOTE Hybrid Model):\")\n",
    "print(classification_report(y_test_smote, y_pred_smote_hybrid))"
   ]
  }
 ],
 "metadata": {
  "kernelspec": {
   "display_name": "Python 3",
   "language": "python",
   "name": "python3"
  },
  "language_info": {
   "codemirror_mode": {
    "name": "ipython",
    "version": 3
   },
   "file_extension": ".py",
   "mimetype": "text/x-python",
   "name": "python",
   "nbconvert_exporter": "python",
   "pygments_lexer": "ipython3",
   "version": "3.12.1"
  }
 },
 "nbformat": 4,
 "nbformat_minor": 2
}
