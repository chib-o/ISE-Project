{
 "cells": [
  {
   "cell_type": "markdown",
   "metadata": {},
   "source": [
    "# Imports and setup"
   ]
  },
  {
   "cell_type": "code",
   "execution_count": 1,
   "metadata": {},
   "outputs": [
    {
     "name": "stderr",
     "output_type": "stream",
     "text": [
      "[nltk_data] Downloading package stopwords to\n",
      "[nltk_data]     C:\\Users\\chibu\\AppData\\Roaming\\nltk_data...\n",
      "[nltk_data]   Package stopwords is already up-to-date!\n"
     ]
    }
   ],
   "source": [
    "########## 1. Import required libraries ##########\n",
    "\n",
    "import pandas as pd\n",
    "import numpy as np\n",
    "import re\n",
    "import math\n",
    "import pandas as pd\n",
    "import matplotlib.pyplot as plt\n",
    "\n",
    "# Text and feature engineering\n",
    "from sklearn.feature_extraction.text import TfidfVectorizer\n",
    "\n",
    "# Evaluation and tuning\n",
    "from sklearn.model_selection import train_test_split, GridSearchCV\n",
    "from sklearn.metrics import (accuracy_score, precision_score, recall_score,\n",
    "                             f1_score, roc_curve, auc, classification_report)\n",
    "\n",
    "# Classifiers\n",
    "from sklearn.naive_bayes import GaussianNB\n",
    "from sklearn.ensemble import RandomForestClassifier, VotingClassifier\n",
    "from sklearn.linear_model import LogisticRegression\n",
    "from imblearn.over_sampling import SMOTE\n",
    "\n",
    "# Text cleaning & stopwords\n",
    "import nltk\n",
    "nltk.download('stopwords')\n",
    "from nltk.corpus import stopwords"
   ]
  },
  {
   "cell_type": "markdown",
   "metadata": {},
   "source": [
    "### Step 1: Preprocess and Save Processed Data to CSV "
   ]
  },
  {
   "cell_type": "markdown",
   "metadata": {},
   "source": [
    "##### Functions to preprocess data"
   ]
  },
  {
   "cell_type": "code",
   "execution_count": 2,
   "metadata": {},
   "outputs": [],
   "source": [
    "########## 2. Define text preprocessing methods ##########\n",
    "\n",
    "def remove_html(text):\n",
    "    \"\"\"Remove HTML tags using a regex.\"\"\"\n",
    "    html = re.compile(r'<.*?>')\n",
    "    return html.sub(r'', text)\n",
    "\n",
    "def remove_emoji(text):\n",
    "    \"\"\"Remove emojis using a regex pattern.\"\"\"\n",
    "    emoji_pattern = re.compile(\"[\" u\"\\U0001F600-\\U0001F64F\"  \n",
    "                               u\"\\U0001F300-\\U0001F5FF\"  \n",
    "                               u\"\\U0001F680-\\U0001F6FF\"  \n",
    "                               u\"\\U0001F1E0-\\U0001F1FF\"  \n",
    "                               u\"\\U00002702-\\U000027B0\"  \n",
    "                               u\"\\U000024C2-\\U0001F251\" \"]+\", flags=re.UNICODE)\n",
    "    return emoji_pattern.sub(r'', text)\n",
    "\n",
    "def remove_stopwords(text):\n",
    "    stop_words = set(stopwords.words('english'))\n",
    "    custom_stopwords = {}  # Define your custom stopwords here\n",
    "    stop_words.update(custom_stopwords)\n",
    "    return \" \".join([word for word in text.split() if word.lower() not in stop_words])\n",
    "\n",
    "def clean_str(string):\n",
    "    \"\"\"\n",
    "    Clean text by removing non-alphanumeric characters,\n",
    "    and convert it to lowercase.\n",
    "    \"\"\"\n",
    "    string = re.sub(r\"[^A-Za-z0-9(),.!?\\'\\`]\", \" \", string)\n",
    "    string = re.sub(r\"\\'s\", \" \\'s\", string)\n",
    "    string = re.sub(r\"\\'ve\", \" \\'ve\", string)\n",
    "    string = re.sub(r\"\\)\", \" ) \", string)\n",
    "    string = re.sub(r\"\\?\", \" ? \", string)\n",
    "    string = re.sub(r\"\\s{2,}\", \" \", string)\n",
    "    string = re.sub(r\"\\\\\", \"\", string)\n",
    "    string = re.sub(r\"\\'\", \"\", string)\n",
    "    string = re.sub(r\"\\\"\", \"\", string)\n",
    "    return string.strip().lower()\n",
    "\n",
    "def check_data_leakage(X_train, X_test):\n",
    "    train_set = set(map(tuple, X_train))\n",
    "    test_set = set(map(tuple, X_test))\n",
    "\n",
    "    leaked_samples = train_set.intersection(test_set)\n",
    "    print(\"\\n🔍 Checking Data Leakage...\")\n",
    "    print(f\"⚠️ {len(leaked_samples)} samples from test data are also in training data.\")\n",
    "\n",
    "    if len(leaked_samples) > 0:\n",
    "        print(\"❌ Data Leakage Detected! Test data should not exist in training set.\")\n",
    "    else:\n",
    "        print(\"✅ No Data Leakage Detected.\")\n",
    "\n",
    "##COMAPRES TEST ACCURACY TO TRAIN ACCURACY\n",
    "def check_overfitting(model, X_train, y_train, X_test, y_test):\n",
    "    train_preds = model.predict(X_train)\n",
    "    test_preds = model.predict(X_test)\n",
    "    train_acc = accuracy_score(y_train, train_preds)\n",
    "    test_acc = accuracy_score(y_test, test_preds)\n",
    "    \n",
    "    print(\"\\n🔍 Checking Overfitting...\")\n",
    "    print(f\"📊 Training Accuracy: {train_acc:.4f}\")\n",
    "    print(f\"📊 Test Accuracy: {test_acc:.4f}\")\n",
    "\n",
    "    if train_acc > test_acc + 0.10:\n",
    "        print(\"❌ Possible Overfitting: Model performs much better on training data.\")\n",
    "    else:\n",
    "        print(\"✅ No significant overfitting detected.\")\n",
    "\n",
    "# Line Chart (Trend over Repeats)\n",
    "def plot_metric_trends(csv_path):\n",
    "    df = pd.read_csv(csv_path)\n",
    "    plt.figure(figsize=(8, 4))\n",
    "    metric_columns = ['Accuracy', 'Precision', 'Recall', 'F1', 'AUC']\n",
    "\n",
    "    for metric in metric_columns:\n",
    "        plt.plot(df['Repeat'], df[metric], marker='o', label=metric)\n",
    "\n",
    "    # Chart styling\n",
    "    plt.xlabel(\"Repeat\")\n",
    "    plt.ylabel(\"Score\")\n",
    "    plt.legend(loc='upper center', bbox_to_anchor=(0.5, 1.15), ncol=len(metric_columns), frameon=False)\n",
    "    plt.grid(True, linestyle='--', alpha=0.3)\n",
    "    plt.tight_layout()\n",
    "    plt.show()"
   ]
  },
  {
   "cell_type": "markdown",
   "metadata": {},
   "source": [
    "##### Download and read data, save to csv files for repeatable use"
   ]
  },
  {
   "cell_type": "code",
   "execution_count": 3,
   "metadata": {},
   "outputs": [],
   "source": [
    "########## 3. Download & read data ##########\n",
    "project = 'pytorch'\n",
    "text_col = 'Title+Body'\n"
   ]
  },
  {
   "cell_type": "code",
   "execution_count": 5,
   "metadata": {},
   "outputs": [],
   "source": [
    "path = f'C:/Users/chibu/Documents/ISE-solution-main/Coursework/datasets/{project}.csv'\n",
    "\n",
    "data = pd.read_csv(path).fillna('')\n",
    "data['Title+Body'] = data.apply(lambda row: row['Title'] + '. ' + row['Body'] if pd.notna(row['Body']) else row['Title'], axis=1)\n",
    "#text_col = 'Title+Body'\n",
    "\n",
    "data[text_col] = data[text_col].apply(remove_html)\n",
    "data[text_col] = data[text_col].apply(remove_emoji)\n",
    "data[text_col] = data[text_col].apply(remove_stopwords)\n",
    "data[text_col] = data[text_col].apply(clean_str)\n",
    "\n",
    "data.to_csv(f'{project}_processed_data.csv', index=False)\n"
   ]
  },
  {
   "cell_type": "markdown",
   "metadata": {},
   "source": [
    "##### Load and check datasets in Title+Body Files"
   ]
  },
  {
   "cell_type": "code",
   "execution_count": 4,
   "metadata": {},
   "outputs": [
    {
     "data": {
      "text/html": [
       "<div>\n",
       "<style scoped>\n",
       "    .dataframe tbody tr th:only-of-type {\n",
       "        vertical-align: middle;\n",
       "    }\n",
       "\n",
       "    .dataframe tbody tr th {\n",
       "        vertical-align: top;\n",
       "    }\n",
       "\n",
       "    .dataframe thead th {\n",
       "        text-align: right;\n",
       "    }\n",
       "</style>\n",
       "<table border=\"1\" class=\"dataframe\">\n",
       "  <thead>\n",
       "    <tr style=\"text-align: right;\">\n",
       "      <th></th>\n",
       "      <th>Unnamed: 0</th>\n",
       "      <th>Repository</th>\n",
       "      <th>Number</th>\n",
       "      <th>State</th>\n",
       "      <th>Title</th>\n",
       "      <th>Body</th>\n",
       "      <th>Labels</th>\n",
       "      <th>Comments</th>\n",
       "      <th>Codes</th>\n",
       "      <th>Commands</th>\n",
       "      <th>class</th>\n",
       "      <th>related</th>\n",
       "      <th>Title+Body</th>\n",
       "    </tr>\n",
       "  </thead>\n",
       "  <tbody>\n",
       "    <tr>\n",
       "      <th>0</th>\n",
       "      <td>0</td>\n",
       "      <td>pytorch</td>\n",
       "      <td>15872</td>\n",
       "      <td>closed</td>\n",
       "      <td>GPU memory usage is very high at the beginning...</td>\n",
       "      <td>## 🐛 Bug\\r\\n\\r\\nAt the beginning of the traini...</td>\n",
       "      <td>NaN</td>\n",
       "      <td>['This is because you are using cudnn.benchmar...</td>\n",
       "      <td>['\\r\\nCollecting environment information...\\r\\...</td>\n",
       "      <td>['334']</td>\n",
       "      <td>1</td>\n",
       "      <td>0</td>\n",
       "      <td>gpu memory usage high beginning training.. bug...</td>\n",
       "    </tr>\n",
       "    <tr>\n",
       "      <th>1</th>\n",
       "      <td>1</td>\n",
       "      <td>pytorch</td>\n",
       "      <td>8710</td>\n",
       "      <td>closed</td>\n",
       "      <td>Incorrect calculation for torch.nn.MSELoss</td>\n",
       "      <td>## Issue description\\r\\ntorch.nn.MSELoss seems...</td>\n",
       "      <td>NaN</td>\n",
       "      <td>['Actually it is `0.01` and `0.00983`. But sti...</td>\n",
       "      <td>['\\r\\nIn [10]: preds = torch.ones(5, 68, 64, 6...</td>\n",
       "      <td>[]</td>\n",
       "      <td>1</td>\n",
       "      <td>1</td>\n",
       "      <td>incorrect calculation torch.nn.mseloss. issue ...</td>\n",
       "    </tr>\n",
       "    <tr>\n",
       "      <th>2</th>\n",
       "      <td>2</td>\n",
       "      <td>pytorch</td>\n",
       "      <td>13843</td>\n",
       "      <td>closed</td>\n",
       "      <td>Possible CPU-side memory leak even when fittin...</td>\n",
       "      <td>## 🐛 Bug\\r\\n\\r\\nA possible CPU-side memory lea...</td>\n",
       "      <td>todo</td>\n",
       "      <td>['This is probably the cudnn memory leak at ht...</td>\n",
       "      <td>[\"\\r\\ndevice = 'cuda'\\r\\nmodel = SkipThought(l...</td>\n",
       "      <td>['conda', 'pip']</td>\n",
       "      <td>1</td>\n",
       "      <td>1</td>\n",
       "      <td>possible cpu side memory leak even fitting gpu...</td>\n",
       "    </tr>\n",
       "    <tr>\n",
       "      <th>3</th>\n",
       "      <td>3</td>\n",
       "      <td>pytorch</td>\n",
       "      <td>537</td>\n",
       "      <td>closed</td>\n",
       "      <td>Initial call to .cuda() very slow with Titan X</td>\n",
       "      <td>The first call to .cuda() takes more than one ...</td>\n",
       "      <td>high priority</td>\n",
       "      <td>['you installed with Conda.\\r\\nYour Titan-X is...</td>\n",
       "      <td>['\\r\\nimport torch\\r\\nfrom datetime import dat...</td>\n",
       "      <td>[]</td>\n",
       "      <td>1</td>\n",
       "      <td>1</td>\n",
       "      <td>initial call .cuda( ) slow titan x. first call...</td>\n",
       "    </tr>\n",
       "    <tr>\n",
       "      <th>4</th>\n",
       "      <td>4</td>\n",
       "      <td>pytorch</td>\n",
       "      <td>7714</td>\n",
       "      <td>closed</td>\n",
       "      <td>Very slow for gradient penalty!</td>\n",
       "      <td>Gradient penalty (GP) here means we minimize L...</td>\n",
       "      <td>NaN</td>\n",
       "      <td>['Gradient penalty requires computing second o...</td>\n",
       "      <td>['\\r\\nwithout : 0.065s\\r\\nwith GP: 0.330s\\r\\n'...</td>\n",
       "      <td>[]</td>\n",
       "      <td>1</td>\n",
       "      <td>0</td>\n",
       "      <td>slow gradient penalty!. gradient penalty (gp )...</td>\n",
       "    </tr>\n",
       "  </tbody>\n",
       "</table>\n",
       "</div>"
      ],
      "text/plain": [
       "   Unnamed: 0 Repository  Number   State  \\\n",
       "0           0    pytorch   15872  closed   \n",
       "1           1    pytorch    8710  closed   \n",
       "2           2    pytorch   13843  closed   \n",
       "3           3    pytorch     537  closed   \n",
       "4           4    pytorch    7714  closed   \n",
       "\n",
       "                                               Title  \\\n",
       "0  GPU memory usage is very high at the beginning...   \n",
       "1         Incorrect calculation for torch.nn.MSELoss   \n",
       "2  Possible CPU-side memory leak even when fittin...   \n",
       "3     Initial call to .cuda() very slow with Titan X   \n",
       "4                    Very slow for gradient penalty!   \n",
       "\n",
       "                                                Body         Labels  \\\n",
       "0  ## 🐛 Bug\\r\\n\\r\\nAt the beginning of the traini...            NaN   \n",
       "1  ## Issue description\\r\\ntorch.nn.MSELoss seems...            NaN   \n",
       "2  ## 🐛 Bug\\r\\n\\r\\nA possible CPU-side memory lea...           todo   \n",
       "3  The first call to .cuda() takes more than one ...  high priority   \n",
       "4  Gradient penalty (GP) here means we minimize L...            NaN   \n",
       "\n",
       "                                            Comments  \\\n",
       "0  ['This is because you are using cudnn.benchmar...   \n",
       "1  ['Actually it is `0.01` and `0.00983`. But sti...   \n",
       "2  ['This is probably the cudnn memory leak at ht...   \n",
       "3  ['you installed with Conda.\\r\\nYour Titan-X is...   \n",
       "4  ['Gradient penalty requires computing second o...   \n",
       "\n",
       "                                               Codes          Commands  class  \\\n",
       "0  ['\\r\\nCollecting environment information...\\r\\...           ['334']      1   \n",
       "1  ['\\r\\nIn [10]: preds = torch.ones(5, 68, 64, 6...                []      1   \n",
       "2  [\"\\r\\ndevice = 'cuda'\\r\\nmodel = SkipThought(l...  ['conda', 'pip']      1   \n",
       "3  ['\\r\\nimport torch\\r\\nfrom datetime import dat...                []      1   \n",
       "4  ['\\r\\nwithout : 0.065s\\r\\nwith GP: 0.330s\\r\\n'...                []      1   \n",
       "\n",
       "   related                                         Title+Body  \n",
       "0        0  gpu memory usage high beginning training.. bug...  \n",
       "1        1  incorrect calculation torch.nn.mseloss. issue ...  \n",
       "2        1  possible cpu side memory leak even fitting gpu...  \n",
       "3        1  initial call .cuda( ) slow titan x. first call...  \n",
       "4        0  slow gradient penalty!. gradient penalty (gp )...  "
      ]
     },
     "execution_count": 4,
     "metadata": {},
     "output_type": "execute_result"
    }
   ],
   "source": [
    "baseline_path = 'C:/Users/chibu/Documents/ISE-solution-main/Coursework/trial2'\n",
    "\n",
    "df = pd.read_csv(f'{project}_processed_data.csv')\n",
    "df.head()"
   ]
  },
  {
   "cell_type": "markdown",
   "metadata": {},
   "source": [
    "### Step 2: Configure parameters and start training"
   ]
  },
  {
   "cell_type": "markdown",
   "metadata": {},
   "source": [
    "##### Set values, params and load csv files"
   ]
  },
  {
   "cell_type": "code",
   "execution_count": 7,
   "metadata": {},
   "outputs": [],
   "source": [
    "# Number of repeated experiments\n",
    "REPEAT = 30\n",
    "\n",
    "# Output CSV file name\n",
    "results_dir = \"C:/Users/chibu/Documents/ISE-solution-main/Coursework/trial2/results\"\n",
    "out_csv_name = f\"{results_dir}/{project}_Results.csv\"\n",
    "\n",
    "# Convert and save metrics for all models\n",
    "def save_model_metrics(metrics_list, filename):\n",
    "    df = pd.DataFrame(metrics_list)\n",
    "    df.to_csv(f\"{results_dir}/{filename}\", index=False)\n",
    "    print(f\"Saved: {filename}\")\n",
    "    print(df.mean(numeric_only=True))\n",
    "    print(\"\\n\")\n",
    "\n",
    "# Hyperparameter grid for Naive Bayes\n",
    "params = {'var_smoothing': np.logspace(-12, 0, 13)}\n",
    "\n",
    "# Lists to store metrics across repeated runs\n",
    "accuracies, precisions, recalls, f1_scores, auc_values = [], [], [], [], []"
   ]
  },
  {
   "cell_type": "markdown",
   "metadata": {},
   "source": [
    "##### Perform Testing on Baseline code from Lab 1"
   ]
  },
  {
   "cell_type": "code",
   "execution_count": 8,
   "metadata": {},
   "outputs": [
    {
     "name": "stdout",
     "output_type": "stream",
     "text": [
      "Saved: pytorch_NaiveBayes_Metrics.csv\n",
      "Repeat       0.000000\n",
      "Accuracy     0.676991\n",
      "Precision    0.636032\n",
      "Recall       0.800018\n",
      "F1           0.604051\n",
      "AUC          0.800018\n",
      "dtype: float64\n",
      "\n",
      "\n",
      "Saved: pytorch_NaiveBayes_Metrics.csv\n",
      "Repeat       0.500000\n",
      "Accuracy     0.672566\n",
      "Precision    0.637161\n",
      "Recall       0.784200\n",
      "F1           0.605640\n",
      "AUC          0.784200\n",
      "dtype: float64\n",
      "\n",
      "\n",
      "Saved: pytorch_NaiveBayes_Metrics.csv\n",
      "Repeat       1.000000\n",
      "Accuracy     0.650442\n",
      "Precision    0.624578\n",
      "Recall       0.770813\n",
      "F1           0.581731\n",
      "AUC          0.770813\n",
      "dtype: float64\n",
      "\n",
      "\n",
      "Saved: pytorch_NaiveBayes_Metrics.csv\n",
      "Repeat       1.500000\n",
      "Accuracy     0.647124\n",
      "Precision    0.617661\n",
      "Recall       0.763980\n",
      "F1           0.573507\n",
      "AUC          0.763980\n",
      "dtype: float64\n",
      "\n",
      "\n",
      "Saved: pytorch_NaiveBayes_Metrics.csv\n",
      "Repeat       2.000000\n",
      "Accuracy     0.651327\n",
      "Precision    0.621471\n",
      "Recall       0.770096\n",
      "F1           0.578904\n",
      "AUC          0.770096\n",
      "dtype: float64\n",
      "\n",
      "\n",
      "Saved: pytorch_NaiveBayes_Metrics.csv\n",
      "Repeat       2.500000\n",
      "Accuracy     0.644543\n",
      "Precision    0.616724\n",
      "Recall       0.769086\n",
      "F1           0.569902\n",
      "AUC          0.769086\n",
      "dtype: float64\n",
      "\n",
      "\n",
      "Saved: pytorch_NaiveBayes_Metrics.csv\n",
      "Repeat       3.000000\n",
      "Accuracy     0.654867\n",
      "Precision    0.618697\n",
      "Recall       0.772242\n",
      "F1           0.577083\n",
      "AUC          0.772242\n",
      "dtype: float64\n",
      "\n",
      "\n",
      "Saved: pytorch_NaiveBayes_Metrics.csv\n",
      "Repeat       3.500000\n",
      "Accuracy     0.654867\n",
      "Precision    0.616090\n",
      "Recall       0.769694\n",
      "F1           0.574639\n",
      "AUC          0.769694\n",
      "dtype: float64\n",
      "\n",
      "\n",
      "Saved: pytorch_NaiveBayes_Metrics.csv\n",
      "Repeat       4.000000\n",
      "Accuracy     0.654376\n",
      "Precision    0.616487\n",
      "Recall       0.766861\n",
      "F1           0.575546\n",
      "AUC          0.766861\n",
      "dtype: float64\n",
      "\n",
      "\n",
      "Saved: pytorch_NaiveBayes_Metrics.csv\n",
      "Repeat       4.500000\n",
      "Accuracy     0.653540\n",
      "Precision    0.620040\n",
      "Recall       0.767924\n",
      "F1           0.578342\n",
      "AUC          0.767924\n",
      "dtype: float64\n",
      "\n",
      "\n",
      "Saved: pytorch_NaiveBayes_Metrics.csv\n",
      "Repeat       5.000000\n",
      "Accuracy     0.652454\n",
      "Precision    0.618387\n",
      "Recall       0.766050\n",
      "F1           0.576355\n",
      "AUC          0.766050\n",
      "dtype: float64\n",
      "\n",
      "\n",
      "Saved: pytorch_NaiveBayes_Metrics.csv\n",
      "Repeat       5.500000\n",
      "Accuracy     0.649336\n",
      "Precision    0.617544\n",
      "Recall       0.766027\n",
      "F1           0.573691\n",
      "AUC          0.766027\n",
      "dtype: float64\n",
      "\n",
      "\n",
      "Saved: pytorch_NaiveBayes_Metrics.csv\n",
      "Repeat       6.000000\n",
      "Accuracy     0.649762\n",
      "Precision    0.618537\n",
      "Recall       0.765582\n",
      "F1           0.575191\n",
      "AUC          0.765582\n",
      "dtype: float64\n",
      "\n",
      "\n",
      "Saved: pytorch_NaiveBayes_Metrics.csv\n",
      "Repeat       6.500000\n",
      "Accuracy     0.648546\n",
      "Precision    0.618393\n",
      "Recall       0.765178\n",
      "F1           0.574487\n",
      "AUC          0.765178\n",
      "dtype: float64\n",
      "\n",
      "\n",
      "Saved: pytorch_NaiveBayes_Metrics.csv\n",
      "Repeat       7.000000\n",
      "Accuracy     0.646903\n",
      "Precision    0.617678\n",
      "Recall       0.763510\n",
      "F1           0.573178\n",
      "AUC          0.763510\n",
      "dtype: float64\n",
      "\n",
      "\n",
      "Saved: pytorch_NaiveBayes_Metrics.csv\n",
      "Repeat       7.500000\n",
      "Accuracy     0.645188\n",
      "Precision    0.615865\n",
      "Recall       0.761544\n",
      "F1           0.570564\n",
      "AUC          0.761544\n",
      "dtype: float64\n",
      "\n",
      "\n",
      "Saved: pytorch_NaiveBayes_Metrics.csv\n",
      "Repeat       8.000000\n",
      "Accuracy     0.646278\n",
      "Precision    0.616805\n",
      "Recall       0.763359\n",
      "F1           0.571906\n",
      "AUC          0.763359\n",
      "dtype: float64\n",
      "\n",
      "\n",
      "Saved: pytorch_NaiveBayes_Metrics.csv\n",
      "Repeat       8.500000\n",
      "Accuracy     0.645034\n",
      "Precision    0.615819\n",
      "Recall       0.764989\n",
      "F1           0.569832\n",
      "AUC          0.764989\n",
      "dtype: float64\n",
      "\n",
      "\n",
      "Saved: pytorch_NaiveBayes_Metrics.csv\n",
      "Repeat       9.000000\n",
      "Accuracy     0.642059\n",
      "Precision    0.615747\n",
      "Recall       0.763369\n",
      "F1           0.568292\n",
      "AUC          0.763369\n",
      "dtype: float64\n",
      "\n",
      "\n",
      "Saved: pytorch_NaiveBayes_Metrics.csv\n",
      "Repeat       9.500000\n",
      "Accuracy     0.639602\n",
      "Precision    0.615793\n",
      "Recall       0.763584\n",
      "F1           0.566771\n",
      "AUC          0.763584\n",
      "dtype: float64\n",
      "\n",
      "\n",
      "Saved: pytorch_NaiveBayes_Metrics.csv\n",
      "Repeat       10.000000\n",
      "Accuracy      0.640118\n",
      "Precision     0.617443\n",
      "Recall        0.765045\n",
      "F1            0.568438\n",
      "AUC           0.765045\n",
      "dtype: float64\n",
      "\n",
      "\n",
      "Saved: pytorch_NaiveBayes_Metrics.csv\n",
      "Repeat       10.500000\n",
      "Accuracy      0.640788\n",
      "Precision     0.616566\n",
      "Recall        0.762717\n",
      "F1            0.568354\n",
      "AUC           0.762717\n",
      "dtype: float64\n",
      "\n",
      "\n",
      "Saved: pytorch_NaiveBayes_Metrics.csv\n",
      "Repeat       11.000000\n",
      "Accuracy      0.640439\n",
      "Precision     0.615980\n",
      "Recall        0.761878\n",
      "F1            0.567726\n",
      "AUC           0.761878\n",
      "dtype: float64\n",
      "\n",
      "\n",
      "Saved: pytorch_NaiveBayes_Metrics.csv\n",
      "Repeat       11.500000\n",
      "Accuracy      0.640671\n",
      "Precision     0.615985\n",
      "Recall        0.762770\n",
      "F1            0.567741\n",
      "AUC           0.762770\n",
      "dtype: float64\n",
      "\n",
      "\n",
      "Saved: pytorch_NaiveBayes_Metrics.csv\n",
      "Repeat       12.000000\n",
      "Accuracy      0.640708\n",
      "Precision     0.615680\n",
      "Recall        0.762821\n",
      "F1            0.567458\n",
      "AUC           0.762821\n",
      "dtype: float64\n",
      "\n",
      "\n",
      "Saved: pytorch_NaiveBayes_Metrics.csv\n",
      "Repeat       12.500000\n",
      "Accuracy      0.642954\n",
      "Precision     0.616077\n",
      "Recall        0.764117\n",
      "F1            0.568929\n",
      "AUC           0.764117\n",
      "dtype: float64\n",
      "\n",
      "\n",
      "Saved: pytorch_NaiveBayes_Metrics.csv\n",
      "Repeat       13.000000\n",
      "Accuracy      0.645198\n",
      "Precision     0.616218\n",
      "Recall        0.763387\n",
      "F1            0.570424\n",
      "AUC           0.763387\n",
      "dtype: float64\n",
      "\n",
      "\n",
      "Saved: pytorch_NaiveBayes_Metrics.csv\n",
      "Repeat       13.500000\n",
      "Accuracy      0.643805\n",
      "Precision     0.615237\n",
      "Recall        0.762631\n",
      "F1            0.568683\n",
      "AUC           0.762631\n",
      "dtype: float64\n",
      "\n",
      "\n",
      "Saved: pytorch_NaiveBayes_Metrics.csv\n",
      "Repeat       14.000000\n",
      "Accuracy      0.643271\n",
      "Precision     0.615688\n",
      "Recall        0.762027\n",
      "F1            0.569006\n",
      "AUC           0.762027\n",
      "dtype: float64\n",
      "\n",
      "\n",
      "Saved: pytorch_NaiveBayes_Metrics.csv\n",
      "Repeat       14.500000\n",
      "Accuracy      0.641888\n",
      "Precision     0.615774\n",
      "Recall        0.761836\n",
      "F1            0.568303\n",
      "AUC           0.761836\n",
      "dtype: float64\n",
      "\n",
      "\n"
     ]
    }
   ],
   "source": [
    "nb_metrics = []\n",
    "# Load dataset for this iteration\n",
    "data = pd.read_csv(f'{project}_processed_data.csv')\n",
    "X = data[text_col]\n",
    "y = data['class']\n",
    "\n",
    "for repeated_time in range(REPEAT):\n",
    "    \n",
    "\n",
    "    # Train-test split (70/30)\n",
    "    X_train, X_test, y_train, y_test = train_test_split(\n",
    "        X, y, test_size=0.3, random_state=repeated_time, shuffle=True\n",
    "    )\n",
    "\n",
    "    # Apply TF-IDF vectorization\n",
    "    tfidf = TfidfVectorizer(ngram_range=(1, 2), max_features=1000)\n",
    "    X_train_tfidf = tfidf.fit_transform(X_train).toarray()\n",
    "    X_test_tfidf = tfidf.transform(X_test).toarray()\n",
    "\n",
    "    # Train and Evaluate Naive Bayes with Cross-Validation\n",
    "    nb_clf = GaussianNB()\n",
    "    grid = GridSearchCV(nb_clf, params, cv=5, scoring='roc_auc')\n",
    "    grid.fit(X_train_tfidf, y_train)\n",
    "    best_nb = grid.best_estimator_\n",
    "    y_pred_nb = best_nb.predict(X_test_tfidf)\n",
    "    \n",
    "    nb_metrics.append({\n",
    "        \"Repeat\": repeated_time,\n",
    "        \"Accuracy\": accuracy_score(y_test, y_pred_nb),\n",
    "        \"Precision\": precision_score(y_test, y_pred_nb, average='macro'),\n",
    "        \"Recall\": recall_score(y_test, y_pred_nb, average='macro'),\n",
    "        \"F1\": f1_score(y_test, y_pred_nb, average='macro'),\n",
    "        \"AUC\": auc(*roc_curve(y_test, y_pred_nb, pos_label=1)[:2])\n",
    "    })\n",
    "\n",
    "    save_model_metrics(nb_metrics, f'{project}_NaiveBayes_Metrics.csv')"
   ]
  },
  {
   "cell_type": "markdown",
   "metadata": {},
   "source": [
    "##### View progressive results"
   ]
  },
  {
   "cell_type": "code",
   "execution_count": 9,
   "metadata": {},
   "outputs": [
    {
     "data": {
      "text/html": [
       "<div>\n",
       "<style scoped>\n",
       "    .dataframe tbody tr th:only-of-type {\n",
       "        vertical-align: middle;\n",
       "    }\n",
       "\n",
       "    .dataframe tbody tr th {\n",
       "        vertical-align: top;\n",
       "    }\n",
       "\n",
       "    .dataframe thead th {\n",
       "        text-align: right;\n",
       "    }\n",
       "</style>\n",
       "<table border=\"1\" class=\"dataframe\">\n",
       "  <thead>\n",
       "    <tr style=\"text-align: right;\">\n",
       "      <th></th>\n",
       "      <th>Repeat</th>\n",
       "      <th>Accuracy</th>\n",
       "      <th>Precision</th>\n",
       "      <th>Recall</th>\n",
       "      <th>F1</th>\n",
       "      <th>AUC</th>\n",
       "    </tr>\n",
       "  </thead>\n",
       "  <tbody>\n",
       "    <tr>\n",
       "      <th>0</th>\n",
       "      <td>0</td>\n",
       "      <td>0.676991</td>\n",
       "      <td>0.636032</td>\n",
       "      <td>0.800018</td>\n",
       "      <td>0.604051</td>\n",
       "      <td>0.800018</td>\n",
       "    </tr>\n",
       "    <tr>\n",
       "      <th>1</th>\n",
       "      <td>1</td>\n",
       "      <td>0.668142</td>\n",
       "      <td>0.638290</td>\n",
       "      <td>0.768382</td>\n",
       "      <td>0.607230</td>\n",
       "      <td>0.768382</td>\n",
       "    </tr>\n",
       "    <tr>\n",
       "      <th>2</th>\n",
       "      <td>2</td>\n",
       "      <td>0.606195</td>\n",
       "      <td>0.599412</td>\n",
       "      <td>0.744038</td>\n",
       "      <td>0.533913</td>\n",
       "      <td>0.744038</td>\n",
       "    </tr>\n",
       "    <tr>\n",
       "      <th>3</th>\n",
       "      <td>3</td>\n",
       "      <td>0.637168</td>\n",
       "      <td>0.596911</td>\n",
       "      <td>0.743483</td>\n",
       "      <td>0.548836</td>\n",
       "      <td>0.743483</td>\n",
       "    </tr>\n",
       "    <tr>\n",
       "      <th>4</th>\n",
       "      <td>4</td>\n",
       "      <td>0.668142</td>\n",
       "      <td>0.636712</td>\n",
       "      <td>0.794558</td>\n",
       "      <td>0.600490</td>\n",
       "      <td>0.794558</td>\n",
       "    </tr>\n",
       "  </tbody>\n",
       "</table>\n",
       "</div>"
      ],
      "text/plain": [
       "   Repeat  Accuracy  Precision    Recall        F1       AUC\n",
       "0       0  0.676991   0.636032  0.800018  0.604051  0.800018\n",
       "1       1  0.668142   0.638290  0.768382  0.607230  0.768382\n",
       "2       2  0.606195   0.599412  0.744038  0.533913  0.744038\n",
       "3       3  0.637168   0.596911  0.743483  0.548836  0.743483\n",
       "4       4  0.668142   0.636712  0.794558  0.600490  0.794558"
      ]
     },
     "execution_count": 9,
     "metadata": {},
     "output_type": "execute_result"
    }
   ],
   "source": [
    "df = pd.read_csv(f'{baseline_path}/results/{project}_NaiveBayes_Metrics.csv')\n",
    "df.head() "
   ]
  },
  {
   "cell_type": "markdown",
   "metadata": {},
   "source": [
    "##### Save final results to csv file"
   ]
  },
  {
   "cell_type": "code",
   "execution_count": 10,
   "metadata": {},
   "outputs": [
    {
     "name": "stdout",
     "output_type": "stream",
     "text": [
      "Saved: pytorch_NaiveBayes_Final_Metrics.csv\n",
      "Total_Repeats    30.000000\n",
      "Avg_Accuracy      0.641888\n",
      "Avg_Precision     0.615774\n",
      "Avg_Recall        0.761836\n",
      "Avg_F1            0.568303\n",
      "Avg_AUC           0.761836\n",
      "dtype: float64\n",
      "\n",
      "\n"
     ]
    }
   ],
   "source": [
    "# === Calculate final averages from all repeats ===\n",
    "final_metrics = {\n",
    "    \"Total_Repeats\": REPEAT,\n",
    "    \"Avg_Accuracy\": np.mean([m[\"Accuracy\"] for m in nb_metrics]),\n",
    "    \"Avg_Precision\": np.mean([m[\"Precision\"] for m in nb_metrics]),\n",
    "    \"Avg_Recall\": np.mean([m[\"Recall\"] for m in nb_metrics]),\n",
    "    \"Avg_F1\": np.mean([m[\"F1\"] for m in nb_metrics]),\n",
    "    \"Avg_AUC\": np.mean([m[\"AUC\"] for m in nb_metrics])\n",
    "}\n",
    "\n",
    "save_model_metrics([final_metrics], f'{project}_NaiveBayes_Final_Metrics.csv')"
   ]
  },
  {
   "cell_type": "markdown",
   "metadata": {},
   "source": [
    "##### Load results for baseline "
   ]
  },
  {
   "cell_type": "code",
   "execution_count": 11,
   "metadata": {},
   "outputs": [
    {
     "data": {
      "text/html": [
       "<div>\n",
       "<style scoped>\n",
       "    .dataframe tbody tr th:only-of-type {\n",
       "        vertical-align: middle;\n",
       "    }\n",
       "\n",
       "    .dataframe tbody tr th {\n",
       "        vertical-align: top;\n",
       "    }\n",
       "\n",
       "    .dataframe thead th {\n",
       "        text-align: right;\n",
       "    }\n",
       "</style>\n",
       "<table border=\"1\" class=\"dataframe\">\n",
       "  <thead>\n",
       "    <tr style=\"text-align: right;\">\n",
       "      <th></th>\n",
       "      <th>Total_Repeats</th>\n",
       "      <th>Avg_Accuracy</th>\n",
       "      <th>Avg_Precision</th>\n",
       "      <th>Avg_Recall</th>\n",
       "      <th>Avg_F1</th>\n",
       "      <th>Avg_AUC</th>\n",
       "    </tr>\n",
       "  </thead>\n",
       "  <tbody>\n",
       "    <tr>\n",
       "      <th>0</th>\n",
       "      <td>30</td>\n",
       "      <td>0.641888</td>\n",
       "      <td>0.615774</td>\n",
       "      <td>0.761836</td>\n",
       "      <td>0.568303</td>\n",
       "      <td>0.761836</td>\n",
       "    </tr>\n",
       "  </tbody>\n",
       "</table>\n",
       "</div>"
      ],
      "text/plain": [
       "   Total_Repeats  Avg_Accuracy  Avg_Precision  Avg_Recall    Avg_F1   Avg_AUC\n",
       "0             30      0.641888       0.615774    0.761836  0.568303  0.761836"
      ]
     },
     "execution_count": 11,
     "metadata": {},
     "output_type": "execute_result"
    }
   ],
   "source": [
    "df = pd.read_csv(f'{baseline_path}/results/{project}_NaiveBayes_Final_Metrics.csv')\n",
    "df.head() "
   ]
  },
  {
   "cell_type": "markdown",
   "metadata": {},
   "source": [
    "### Examine datasets for data leakage and overfitting and class ditribution to know what to expect when it comes to validating my results based on baseline"
   ]
  },
  {
   "cell_type": "code",
   "execution_count": 12,
   "metadata": {},
   "outputs": [
    {
     "name": "stdout",
     "output_type": "stream",
     "text": [
      "\n",
      "🔍 Checking Data Leakage...\n",
      "⚠️ 1 samples from test data are also in training data.\n",
      "❌ Data Leakage Detected! Test data should not exist in training set.\n",
      "\n",
      "🔍 Checking Overfitting...\n",
      "📊 Training Accuracy: 0.7129\n",
      "📊 Test Accuracy: 0.6018\n",
      "❌ Possible Overfitting: Model performs much better on training data.\n",
      "\n",
      "Class Distribution in Training Set:\n",
      "class\n",
      "0    461\n",
      "1     65\n",
      "Name: count, dtype: int64\n",
      "\n",
      "Classification Report (Naive Bayes):\n",
      "              precision    recall  f1-score   support\n",
      "\n",
      "           0       0.99      0.55      0.70       196\n",
      "           1       0.25      0.97      0.39        30\n",
      "\n",
      "    accuracy                           0.60       226\n",
      "   macro avg       0.62      0.76      0.55       226\n",
      "weighted avg       0.89      0.60      0.66       226\n",
      "\n"
     ]
    }
   ],
   "source": [
    "\n",
    "\n",
    "#check where these variables are coming from\n",
    "# For baseline Naive Bayes testing:\n",
    "check_data_leakage(X_train_tfidf, X_test_tfidf)\n",
    "check_overfitting(best_nb, X_train_tfidf, y_train, X_test_tfidf, y_test)\n",
    "\n",
    "print(\"\\nClass Distribution in Training Set:\")\n",
    "print(y_train.value_counts())\n",
    "print(\"\\nClassification Report (Naive Bayes):\")\n",
    "print(classification_report(y_test, y_pred_nb))"
   ]
  },
  {
   "cell_type": "markdown",
   "metadata": {},
   "source": [
    "##### Line chart repeats"
   ]
  },
  {
   "cell_type": "code",
   "execution_count": 5,
   "metadata": {},
   "outputs": [
    {
     "data": {
      "image/png": "[encoded data removed]",
      "text/plain": [
       "<Figure size 800x400 with 1 Axes>"
      ]
     },
     "metadata": {},
     "output_type": "display_data"
    }
   ],
   "source": [
    "plot_metric_trends(f'{baseline_path}/results/{project}_NaiveBayes_Metrics.csv')"
   ]
  },
  {
   "cell_type": "markdown",
   "metadata": {},
   "source": [
    "##### Perform Testing with Random Forest"
   ]
  },
  {
   "cell_type": "code",
   "execution_count": 13,
   "metadata": {},
   "outputs": [
    {
     "name": "stderr",
     "output_type": "stream",
     "text": [
      "c:\\Python312\\Lib\\site-packages\\sklearn\\metrics\\_classification.py:1565: UndefinedMetricWarning: Precision is ill-defined and being set to 0.0 in labels with no predicted samples. Use `zero_division` parameter to control this behavior.\n",
      "  _warn_prf(average, modifier, f\"{metric.capitalize()} is\", len(result))\n"
     ]
    },
    {
     "name": "stdout",
     "output_type": "stream",
     "text": [
      "Saved: pytorch_RandomForest_Metrics.csv\n",
      "Repeat       0.000000\n",
      "Accuracy     0.871681\n",
      "Precision    0.435841\n",
      "Recall       0.500000\n",
      "F1           0.465721\n",
      "AUC          0.500000\n",
      "dtype: float64\n",
      "\n",
      "\n"
     ]
    },
    {
     "name": "stderr",
     "output_type": "stream",
     "text": [
      "c:\\Python312\\Lib\\site-packages\\sklearn\\metrics\\_classification.py:1565: UndefinedMetricWarning: Precision is ill-defined and being set to 0.0 in labels with no predicted samples. Use `zero_division` parameter to control this behavior.\n",
      "  _warn_prf(average, modifier, f\"{metric.capitalize()} is\", len(result))\n"
     ]
    },
    {
     "name": "stdout",
     "output_type": "stream",
     "text": [
      "Saved: pytorch_RandomForest_Metrics.csv\n",
      "Repeat       0.500000\n",
      "Accuracy     0.860619\n",
      "Precision    0.430310\n",
      "Recall       0.500000\n",
      "F1           0.462526\n",
      "AUC          0.500000\n",
      "dtype: float64\n",
      "\n",
      "\n",
      "Saved: pytorch_RandomForest_Metrics.csv\n",
      "Repeat       1.000000\n",
      "Accuracy     0.870206\n",
      "Precision    0.546714\n",
      "Recall       0.511987\n",
      "F1           0.488155\n",
      "AUC          0.511987\n",
      "dtype: float64\n",
      "\n",
      "\n",
      "Saved: pytorch_RandomForest_Metrics.csv\n",
      "Repeat       1.500000\n",
      "Accuracy     0.876106\n",
      "Precision    0.646702\n",
      "Recall       0.513990\n",
      "F1           0.493690\n",
      "AUC          0.513990\n",
      "dtype: float64\n",
      "\n",
      "\n"
     ]
    },
    {
     "name": "stderr",
     "output_type": "stream",
     "text": [
      "c:\\Python312\\Lib\\site-packages\\sklearn\\metrics\\_classification.py:1565: UndefinedMetricWarning: Precision is ill-defined and being set to 0.0 in labels with no predicted samples. Use `zero_division` parameter to control this behavior.\n",
      "  _warn_prf(average, modifier, f\"{metric.capitalize()} is\", len(result))\n"
     ]
    },
    {
     "name": "stdout",
     "output_type": "stream",
     "text": [
      "Saved: pytorch_RandomForest_Metrics.csv\n",
      "Repeat       2.000000\n",
      "Accuracy     0.874336\n",
      "Precision    0.604087\n",
      "Recall       0.511192\n",
      "F1           0.487843\n",
      "AUC          0.511192\n",
      "dtype: float64\n",
      "\n",
      "\n",
      "Saved: pytorch_RandomForest_Metrics.csv\n",
      "Repeat       2.500000\n",
      "Accuracy     0.879056\n",
      "Precision    0.620899\n",
      "Recall       0.516086\n",
      "F1           0.498386\n",
      "AUC          0.516086\n",
      "dtype: float64\n",
      "\n",
      "\n",
      "Saved: pytorch_RandomForest_Metrics.csv\n",
      "Repeat       3.000000\n",
      "Accuracy     0.880531\n",
      "Precision    0.667084\n",
      "Recall       0.519079\n",
      "F1           0.504247\n",
      "AUC          0.519079\n",
      "dtype: float64\n",
      "\n",
      "\n",
      "Saved: pytorch_RandomForest_Metrics.csv\n",
      "Repeat       3.500000\n",
      "Accuracy     0.883296\n",
      "Precision    0.702560\n",
      "Recall       0.521902\n",
      "F1           0.510104\n",
      "AUC          0.521902\n",
      "dtype: float64\n",
      "\n",
      "\n"
     ]
    },
    {
     "name": "stderr",
     "output_type": "stream",
     "text": [
      "c:\\Python312\\Lib\\site-packages\\sklearn\\metrics\\_classification.py:1565: UndefinedMetricWarning: Precision is ill-defined and being set to 0.0 in labels with no predicted samples. Use `zero_division` parameter to control this behavior.\n",
      "  _warn_prf(average, modifier, f\"{metric.capitalize()} is\", len(result))\n"
     ]
    },
    {
     "name": "stdout",
     "output_type": "stream",
     "text": [
      "Saved: pytorch_RandomForest_Metrics.csv\n",
      "Repeat       4.000000\n",
      "Accuracy     0.880531\n",
      "Precision    0.672187\n",
      "Recall       0.519469\n",
      "F1           0.504748\n",
      "AUC          0.519469\n",
      "dtype: float64\n",
      "\n",
      "\n",
      "Saved: pytorch_RandomForest_Metrics.csv\n",
      "Repeat       4.500000\n",
      "Accuracy     0.876549\n",
      "Precision    0.696968\n",
      "Recall       0.518873\n",
      "F1           0.502557\n",
      "AUC          0.518873\n",
      "dtype: float64\n",
      "\n",
      "\n",
      "Saved: pytorch_RandomForest_Metrics.csv\n",
      "Repeat       5.000000\n",
      "Accuracy     0.876911\n",
      "Precision    0.673810\n",
      "Recall       0.516930\n",
      "F1           0.499437\n",
      "AUC          0.516930\n",
      "dtype: float64\n",
      "\n",
      "\n",
      "Saved: pytorch_RandomForest_Metrics.csv\n",
      "Repeat       5.500000\n",
      "Accuracy     0.877950\n",
      "Precision    0.696363\n",
      "Recall       0.517122\n",
      "F1           0.500119\n",
      "AUC          0.517122\n",
      "dtype: float64\n",
      "\n",
      "\n"
     ]
    },
    {
     "name": "stderr",
     "output_type": "stream",
     "text": [
      "c:\\Python312\\Lib\\site-packages\\sklearn\\metrics\\_classification.py:1565: UndefinedMetricWarning: Precision is ill-defined and being set to 0.0 in labels with no predicted samples. Use `zero_division` parameter to control this behavior.\n",
      "  _warn_prf(average, modifier, f\"{metric.capitalize()} is\", len(result))\n"
     ]
    },
    {
     "name": "stdout",
     "output_type": "stream",
     "text": [
      "Saved: pytorch_RandomForest_Metrics.csv\n",
      "Repeat       6.000000\n",
      "Accuracy     0.876106\n",
      "Precision    0.675642\n",
      "Recall       0.515805\n",
      "F1           0.497081\n",
      "AUC          0.515805\n",
      "dtype: float64\n",
      "\n",
      "\n",
      "Saved: pytorch_RandomForest_Metrics.csv\n",
      "Repeat       6.500000\n",
      "Accuracy     0.876106\n",
      "Precision    0.694366\n",
      "Recall       0.515907\n",
      "F1           0.497301\n",
      "AUC          0.515907\n",
      "dtype: float64\n",
      "\n",
      "\n"
     ]
    },
    {
     "name": "stderr",
     "output_type": "stream",
     "text": [
      "c:\\Python312\\Lib\\site-packages\\sklearn\\metrics\\_classification.py:1565: UndefinedMetricWarning: Precision is ill-defined and being set to 0.0 in labels with no predicted samples. Use `zero_division` parameter to control this behavior.\n",
      "  _warn_prf(average, modifier, f\"{metric.capitalize()} is\", len(result))\n"
     ]
    },
    {
     "name": "stdout",
     "output_type": "stream",
     "text": [
      "Saved: pytorch_RandomForest_Metrics.csv\n",
      "Repeat       7.000000\n",
      "Accuracy     0.875811\n",
      "Precision    0.677131\n",
      "Recall       0.514847\n",
      "F1           0.495196\n",
      "AUC          0.514847\n",
      "dtype: float64\n",
      "\n",
      "\n"
     ]
    },
    {
     "name": "stderr",
     "output_type": "stream",
     "text": [
      "c:\\Python312\\Lib\\site-packages\\sklearn\\metrics\\_classification.py:1565: UndefinedMetricWarning: Precision is ill-defined and being set to 0.0 in labels with no predicted samples. Use `zero_division` parameter to control this behavior.\n",
      "  _warn_prf(average, modifier, f\"{metric.capitalize()} is\", len(result))\n"
     ]
    },
    {
     "name": "stdout",
     "output_type": "stream",
     "text": [
      "Saved: pytorch_RandomForest_Metrics.csv\n",
      "Repeat       7.500000\n",
      "Accuracy     0.876936\n",
      "Precision    0.662741\n",
      "Recall       0.513919\n",
      "F1           0.493744\n",
      "AUC          0.513919\n",
      "dtype: float64\n",
      "\n",
      "\n",
      "Saved: pytorch_RandomForest_Metrics.csv\n",
      "Repeat       8.000000\n",
      "Accuracy     0.876627\n",
      "Precision    0.664198\n",
      "Recall       0.513965\n",
      "F1           0.493983\n",
      "AUC          0.513965\n",
      "dtype: float64\n",
      "\n",
      "\n",
      "Saved: pytorch_RandomForest_Metrics.csv\n",
      "Repeat       8.500000\n",
      "Accuracy     0.878810\n",
      "Precision    0.680497\n",
      "Recall       0.515835\n",
      "F1           0.497918\n",
      "AUC          0.515835\n",
      "dtype: float64\n",
      "\n",
      "\n",
      "Saved: pytorch_RandomForest_Metrics.csv\n",
      "Repeat       9.000000\n",
      "Accuracy     0.877969\n",
      "Precision    0.693688\n",
      "Recall       0.515824\n",
      "F1           0.497675\n",
      "AUC          0.515824\n",
      "dtype: float64\n",
      "\n",
      "\n",
      "Saved: pytorch_RandomForest_Metrics.csv\n",
      "Repeat       9.500000\n",
      "Accuracy     0.877876\n",
      "Precision    0.693490\n",
      "Recall       0.515799\n",
      "F1           0.497800\n",
      "AUC          0.515799\n",
      "dtype: float64\n",
      "\n",
      "\n",
      "Saved: pytorch_RandomForest_Metrics.csv\n",
      "Repeat       10.000000\n",
      "Accuracy      0.876738\n",
      "Precision     0.704593\n",
      "Recall        0.515747\n",
      "F1            0.497381\n",
      "AUC           0.515747\n",
      "dtype: float64\n",
      "\n",
      "\n"
     ]
    },
    {
     "name": "stderr",
     "output_type": "stream",
     "text": [
      "c:\\Python312\\Lib\\site-packages\\sklearn\\metrics\\_classification.py:1565: UndefinedMetricWarning: Precision is ill-defined and being set to 0.0 in labels with no predicted samples. Use `zero_division` parameter to control this behavior.\n",
      "  _warn_prf(average, modifier, f\"{metric.capitalize()} is\", len(result))\n"
     ]
    },
    {
     "name": "stdout",
     "output_type": "stream",
     "text": [
      "Saved: pytorch_RandomForest_Metrics.csv\n",
      "Repeat       10.500000\n",
      "Accuracy      0.876508\n",
      "Precision     0.692377\n",
      "Recall        0.515031\n",
      "F1            0.495942\n",
      "AUC           0.515031\n",
      "dtype: float64\n",
      "\n",
      "\n"
     ]
    },
    {
     "name": "stderr",
     "output_type": "stream",
     "text": [
      "c:\\Python312\\Lib\\site-packages\\sklearn\\metrics\\_classification.py:1565: UndefinedMetricWarning: Precision is ill-defined and being set to 0.0 in labels with no predicted samples. Use `zero_division` parameter to control this behavior.\n",
      "  _warn_prf(average, modifier, f\"{metric.capitalize()} is\", len(result))\n"
     ]
    },
    {
     "name": "stdout",
     "output_type": "stream",
     "text": [
      "Saved: pytorch_RandomForest_Metrics.csv\n",
      "Repeat       11.000000\n",
      "Accuracy      0.876683\n",
      "Precision     0.681416\n",
      "Recall        0.514378\n",
      "F1            0.494737\n",
      "AUC           0.514378\n",
      "dtype: float64\n",
      "\n",
      "\n"
     ]
    },
    {
     "name": "stderr",
     "output_type": "stream",
     "text": [
      "c:\\Python312\\Lib\\site-packages\\sklearn\\metrics\\_classification.py:1565: UndefinedMetricWarning: Precision is ill-defined and being set to 0.0 in labels with no predicted samples. Use `zero_division` parameter to control this behavior.\n",
      "  _warn_prf(average, modifier, f\"{metric.capitalize()} is\", len(result))\n"
     ]
    },
    {
     "name": "stdout",
     "output_type": "stream",
     "text": [
      "Saved: pytorch_RandomForest_Metrics.csv\n",
      "Repeat       11.500000\n",
      "Accuracy      0.877028\n",
      "Precision     0.671460\n",
      "Recall        0.513779\n",
      "F1            0.493685\n",
      "AUC           0.513779\n",
      "dtype: float64\n",
      "\n",
      "\n"
     ]
    },
    {
     "name": "stderr",
     "output_type": "stream",
     "text": [
      "c:\\Python312\\Lib\\site-packages\\sklearn\\metrics\\_classification.py:1565: UndefinedMetricWarning: Precision is ill-defined and being set to 0.0 in labels with no predicted samples. Use `zero_division` parameter to control this behavior.\n",
      "  _warn_prf(average, modifier, f\"{metric.capitalize()} is\", len(result))\n"
     ]
    },
    {
     "name": "stdout",
     "output_type": "stream",
     "text": [
      "Saved: pytorch_RandomForest_Metrics.csv\n",
      "Repeat       12.000000\n",
      "Accuracy      0.877345\n",
      "Precision     0.662301\n",
      "Recall        0.513228\n",
      "F1            0.492717\n",
      "AUC           0.513228\n",
      "dtype: float64\n",
      "\n",
      "\n",
      "Saved: pytorch_RandomForest_Metrics.csv\n",
      "Repeat       12.500000\n",
      "Accuracy      0.877468\n",
      "Precision     0.653836\n",
      "Recall        0.512623\n",
      "F1            0.491775\n",
      "AUC           0.512623\n",
      "dtype: float64\n",
      "\n",
      "\n",
      "Saved: pytorch_RandomForest_Metrics.csv\n",
      "Repeat       13.000000\n",
      "Accuracy      0.876926\n",
      "Precision     0.651903\n",
      "Recall        0.512583\n",
      "F1            0.491832\n",
      "AUC           0.512583\n",
      "dtype: float64\n",
      "\n",
      "\n",
      "Saved: pytorch_RandomForest_Metrics.csv\n",
      "Repeat       13.500000\n",
      "Accuracy      0.878319\n",
      "Precision     0.662807\n",
      "Recall        0.515240\n",
      "F1            0.496616\n",
      "AUC           0.515240\n",
      "dtype: float64\n",
      "\n",
      "\n",
      "Saved: pytorch_RandomForest_Metrics.csv\n",
      "Repeat       14.000000\n",
      "Accuracy      0.877785\n",
      "Precision     0.672027\n",
      "Recall        0.516685\n",
      "F1            0.498976\n",
      "AUC           0.516685\n",
      "dtype: float64\n",
      "\n",
      "\n",
      "Saved: pytorch_RandomForest_Metrics.csv\n",
      "Repeat       14.500000\n",
      "Accuracy      0.877581\n",
      "Precision     0.675311\n",
      "Recall        0.517154\n",
      "F1            0.499876\n",
      "AUC           0.517154\n",
      "dtype: float64\n",
      "\n",
      "\n"
     ]
    }
   ],
   "source": [
    "rf_metrics = []\n",
    "\n",
    "# Load dataset for this iteration\n",
    "data_rf = pd.read_csv(f'{project}_processed_data.csv')\n",
    "X_rf = data_rf[text_col]\n",
    "y_rf = data_rf['class']\n",
    "\n",
    "for repeated_time in range(REPEAT):\n",
    "    \n",
    "    # Train-test split (70/30)\n",
    "    X_train_rf, X_test_rf, y_train_rf, y_test_rf = train_test_split(\n",
    "        X_rf, y_rf, test_size=0.3, random_state=repeated_time, shuffle=True\n",
    "    )\n",
    "\n",
    "    # Apply TF-IDF vectorization\n",
    "    tfidf_rf = TfidfVectorizer(ngram_range=(1, 2), max_features=1000)\n",
    "    X_train_tfidf_rf = tfidf_rf.fit_transform(X_train_rf).toarray()\n",
    "    X_test_tfidf_rf = tfidf_rf.transform(X_test_rf).toarray()\n",
    "\n",
    "    # Train and Evaluate Random Forest\n",
    "    rf_clf = RandomForestClassifier(n_estimators=100, max_depth=20)\n",
    "    rf_clf.fit(X_train_tfidf_rf, y_train_rf)\n",
    "    y_pred_rf = rf_clf.predict(X_test_tfidf_rf)\n",
    "\n",
    "    rf_metrics.append({\n",
    "        \"Repeat\": repeated_time,\n",
    "        \"Accuracy\": accuracy_score(y_test_rf, y_pred_rf),\n",
    "        \"Precision\": precision_score(y_test_rf, y_pred_rf, average='macro'),\n",
    "        \"Recall\": recall_score(y_test_rf, y_pred_rf, average='macro'),\n",
    "        \"F1\": f1_score(y_test_rf, y_pred_rf, average='macro'),\n",
    "        \"AUC\": auc(*roc_curve(y_test_rf, y_pred_rf, pos_label=1)[:2])\n",
    "    })\n",
    "\n",
    "    save_model_metrics(rf_metrics, f'{project}_RandomForest_Metrics.csv')\n"
   ]
  },
  {
   "cell_type": "markdown",
   "metadata": {},
   "source": [
    "##### Save results to csv file"
   ]
  },
  {
   "cell_type": "code",
   "execution_count": 14,
   "metadata": {},
   "outputs": [
    {
     "name": "stdout",
     "output_type": "stream",
     "text": [
      "Saved: pytorch_RandomForest_Final_Metrics.csv\n",
      "Total_Repeats    30.000000\n",
      "Avg_Accuracy      0.877581\n",
      "Avg_Precision     0.675311\n",
      "Avg_Recall        0.517154\n",
      "Avg_F1            0.499876\n",
      "Avg_AUC           0.517154\n",
      "dtype: float64\n",
      "\n",
      "\n"
     ]
    }
   ],
   "source": [
    "# === Calculate final averages from all repeats ===\n",
    "final_metrics = {\n",
    "    \"Total_Repeats\": REPEAT,\n",
    "    \"Avg_Accuracy\": np.mean([m[\"Accuracy\"] for m in rf_metrics]),\n",
    "    \"Avg_Precision\": np.mean([m[\"Precision\"] for m in rf_metrics]),\n",
    "    \"Avg_Recall\": np.mean([m[\"Recall\"] for m in rf_metrics]),\n",
    "    \"Avg_F1\": np.mean([m[\"F1\"] for m in rf_metrics]),\n",
    "    \"Avg_AUC\": np.mean([m[\"AUC\"] for m in rf_metrics])\n",
    "}\n",
    "\n",
    "save_model_metrics([final_metrics], f'{project}_RandomForest_Final_Metrics.csv')"
   ]
  },
  {
   "cell_type": "markdown",
   "metadata": {},
   "source": [
    "##### Load results for Random Forest "
   ]
  },
  {
   "cell_type": "code",
   "execution_count": 15,
   "metadata": {},
   "outputs": [
    {
     "data": {
      "text/html": [
       "<div>\n",
       "<style scoped>\n",
       "    .dataframe tbody tr th:only-of-type {\n",
       "        vertical-align: middle;\n",
       "    }\n",
       "\n",
       "    .dataframe tbody tr th {\n",
       "        vertical-align: top;\n",
       "    }\n",
       "\n",
       "    .dataframe thead th {\n",
       "        text-align: right;\n",
       "    }\n",
       "</style>\n",
       "<table border=\"1\" class=\"dataframe\">\n",
       "  <thead>\n",
       "    <tr style=\"text-align: right;\">\n",
       "      <th></th>\n",
       "      <th>Total_Repeats</th>\n",
       "      <th>Avg_Accuracy</th>\n",
       "      <th>Avg_Precision</th>\n",
       "      <th>Avg_Recall</th>\n",
       "      <th>Avg_F1</th>\n",
       "      <th>Avg_AUC</th>\n",
       "    </tr>\n",
       "  </thead>\n",
       "  <tbody>\n",
       "    <tr>\n",
       "      <th>0</th>\n",
       "      <td>30</td>\n",
       "      <td>0.877581</td>\n",
       "      <td>0.675311</td>\n",
       "      <td>0.517154</td>\n",
       "      <td>0.499876</td>\n",
       "      <td>0.517154</td>\n",
       "    </tr>\n",
       "  </tbody>\n",
       "</table>\n",
       "</div>"
      ],
      "text/plain": [
       "   Total_Repeats  Avg_Accuracy  Avg_Precision  Avg_Recall    Avg_F1   Avg_AUC\n",
       "0             30      0.877581       0.675311    0.517154  0.499876  0.517154"
      ]
     },
     "execution_count": 15,
     "metadata": {},
     "output_type": "execute_result"
    }
   ],
   "source": [
    "df = pd.read_csv(f'{baseline_path}/results/{project}_RandomForest_Final_Metrics.csv')\n",
    "df.head() "
   ]
  },
  {
   "cell_type": "markdown",
   "metadata": {},
   "source": [
    "##### Line chart repeat"
   ]
  },
  {
   "cell_type": "code",
   "execution_count": 6,
   "metadata": {},
   "outputs": [
    {
     "data": {
      "image/png": "[encoded data removed]",
      "text/plain": [
       "<Figure size 800x400 with 1 Axes>"
      ]
     },
     "metadata": {},
     "output_type": "display_data"
    }
   ],
   "source": [
    "plot_metric_trends(f'{baseline_path}/results/{project}_RandomForest_Metrics.csv')"
   ]
  },
  {
   "cell_type": "markdown",
   "metadata": {},
   "source": [
    "##### My own improvement: perform testing with the hybrid Model "
   ]
  },
  {
   "cell_type": "code",
   "execution_count": 16,
   "metadata": {},
   "outputs": [
    {
     "name": "stderr",
     "output_type": "stream",
     "text": [
      "c:\\Python312\\Lib\\site-packages\\sklearn\\metrics\\_classification.py:1565: UndefinedMetricWarning: Precision is ill-defined and being set to 0.0 in labels with no predicted samples. Use `zero_division` parameter to control this behavior.\n",
      "  _warn_prf(average, modifier, f\"{metric.capitalize()} is\", len(result))\n"
     ]
    },
    {
     "name": "stdout",
     "output_type": "stream",
     "text": [
      "Saved: pytorch_HybridModel_Metrics.csv\n",
      "Repeat       0.000000\n",
      "Accuracy     0.871681\n",
      "Precision    0.435841\n",
      "Recall       0.500000\n",
      "F1           0.465721\n",
      "AUC          0.500000\n",
      "dtype: float64\n",
      "\n",
      "\n"
     ]
    },
    {
     "name": "stderr",
     "output_type": "stream",
     "text": [
      "c:\\Python312\\Lib\\site-packages\\sklearn\\metrics\\_classification.py:1565: UndefinedMetricWarning: Precision is ill-defined and being set to 0.0 in labels with no predicted samples. Use `zero_division` parameter to control this behavior.\n",
      "  _warn_prf(average, modifier, f\"{metric.capitalize()} is\", len(result))\n"
     ]
    },
    {
     "name": "stdout",
     "output_type": "stream",
     "text": [
      "Saved: pytorch_HybridModel_Metrics.csv\n",
      "Repeat       0.500000\n",
      "Accuracy     0.860619\n",
      "Precision    0.430310\n",
      "Recall       0.500000\n",
      "F1           0.462526\n",
      "AUC          0.500000\n",
      "dtype: float64\n",
      "\n",
      "\n"
     ]
    },
    {
     "name": "stderr",
     "output_type": "stream",
     "text": [
      "c:\\Python312\\Lib\\site-packages\\sklearn\\metrics\\_classification.py:1565: UndefinedMetricWarning: Precision is ill-defined and being set to 0.0 in labels with no predicted samples. Use `zero_division` parameter to control this behavior.\n",
      "  _warn_prf(average, modifier, f\"{metric.capitalize()} is\", len(result))\n"
     ]
    },
    {
     "name": "stdout",
     "output_type": "stream",
     "text": [
      "Saved: pytorch_HybridModel_Metrics.csv\n",
      "Repeat       1.000000\n",
      "Accuracy     0.868732\n",
      "Precision    0.434366\n",
      "Recall       0.500000\n",
      "F1           0.464845\n",
      "AUC          0.500000\n",
      "dtype: float64\n",
      "\n",
      "\n"
     ]
    },
    {
     "name": "stderr",
     "output_type": "stream",
     "text": [
      "c:\\Python312\\Lib\\site-packages\\sklearn\\metrics\\_classification.py:1565: UndefinedMetricWarning: Precision is ill-defined and being set to 0.0 in labels with no predicted samples. Use `zero_division` parameter to control this behavior.\n",
      "  _warn_prf(average, modifier, f\"{metric.capitalize()} is\", len(result))\n"
     ]
    },
    {
     "name": "stdout",
     "output_type": "stream",
     "text": [
      "Saved: pytorch_HybridModel_Metrics.csv\n",
      "Repeat       1.500000\n",
      "Accuracy     0.873894\n",
      "Precision    0.436947\n",
      "Recall       0.500000\n",
      "F1           0.466315\n",
      "AUC          0.500000\n",
      "dtype: float64\n",
      "\n",
      "\n"
     ]
    },
    {
     "name": "stderr",
     "output_type": "stream",
     "text": [
      "c:\\Python312\\Lib\\site-packages\\sklearn\\metrics\\_classification.py:1565: UndefinedMetricWarning: Precision is ill-defined and being set to 0.0 in labels with no predicted samples. Use `zero_division` parameter to control this behavior.\n",
      "  _warn_prf(average, modifier, f\"{metric.capitalize()} is\", len(result))\n"
     ]
    },
    {
     "name": "stdout",
     "output_type": "stream",
     "text": [
      "Saved: pytorch_HybridModel_Metrics.csv\n",
      "Repeat       2.000000\n",
      "Accuracy     0.872566\n",
      "Precision    0.436283\n",
      "Recall       0.500000\n",
      "F1           0.465943\n",
      "AUC          0.500000\n",
      "dtype: float64\n",
      "\n",
      "\n",
      "Saved: pytorch_HybridModel_Metrics.csv\n",
      "Repeat       2.500000\n",
      "Accuracy     0.878319\n",
      "Precision    0.522458\n",
      "Recall       0.503788\n",
      "F1           0.474786\n",
      "AUC          0.503788\n",
      "dtype: float64\n",
      "\n",
      "\n"
     ]
    },
    {
     "name": "stderr",
     "output_type": "stream",
     "text": [
      "c:\\Python312\\Lib\\site-packages\\sklearn\\metrics\\_classification.py:1565: UndefinedMetricWarning: Precision is ill-defined and being set to 0.0 in labels with no predicted samples. Use `zero_division` parameter to control this behavior.\n",
      "  _warn_prf(average, modifier, f\"{metric.capitalize()} is\", len(result))\n"
     ]
    },
    {
     "name": "stdout",
     "output_type": "stream",
     "text": [
      "Saved: pytorch_HybridModel_Metrics.csv\n",
      "Repeat       3.000000\n",
      "Accuracy     0.878635\n",
      "Precision    0.510716\n",
      "Recall       0.503247\n",
      "F1           0.473851\n",
      "AUC          0.503247\n",
      "dtype: float64\n",
      "\n",
      "\n",
      "Saved: pytorch_HybridModel_Metrics.csv\n",
      "Repeat       3.500000\n",
      "Accuracy     0.881084\n",
      "Precision    0.565488\n",
      "Recall       0.505445\n",
      "F1           0.478753\n",
      "AUC          0.505445\n",
      "dtype: float64\n",
      "\n",
      "\n"
     ]
    },
    {
     "name": "stderr",
     "output_type": "stream",
     "text": [
      "c:\\Python312\\Lib\\site-packages\\sklearn\\metrics\\_classification.py:1565: UndefinedMetricWarning: Precision is ill-defined and being set to 0.0 in labels with no predicted samples. Use `zero_division` parameter to control this behavior.\n",
      "  _warn_prf(average, modifier, f\"{metric.capitalize()} is\", len(result))\n"
     ]
    },
    {
     "name": "stdout",
     "output_type": "stream",
     "text": [
      "Saved: pytorch_HybridModel_Metrics.csv\n",
      "Repeat       4.000000\n",
      "Accuracy     0.878564\n",
      "Precision    0.550345\n",
      "Recall       0.504840\n",
      "F1           0.476881\n",
      "AUC          0.504840\n",
      "dtype: float64\n",
      "\n",
      "\n"
     ]
    },
    {
     "name": "stderr",
     "output_type": "stream",
     "text": [
      "c:\\Python312\\Lib\\site-packages\\sklearn\\metrics\\_classification.py:1565: UndefinedMetricWarning: Precision is ill-defined and being set to 0.0 in labels with no predicted samples. Use `zero_division` parameter to control this behavior.\n",
      "  _warn_prf(average, modifier, f\"{metric.capitalize()} is\", len(result))\n"
     ]
    },
    {
     "name": "stdout",
     "output_type": "stream",
     "text": [
      "Saved: pytorch_HybridModel_Metrics.csv\n",
      "Repeat       4.500000\n",
      "Accuracy     0.874336\n",
      "Precision    0.537125\n",
      "Recall       0.504356\n",
      "F1           0.474735\n",
      "AUC          0.504356\n",
      "dtype: float64\n",
      "\n",
      "\n"
     ]
    },
    {
     "name": "stderr",
     "output_type": "stream",
     "text": [
      "c:\\Python312\\Lib\\site-packages\\sklearn\\metrics\\_classification.py:1565: UndefinedMetricWarning: Precision is ill-defined and being set to 0.0 in labels with no predicted samples. Use `zero_division` parameter to control this behavior.\n",
      "  _warn_prf(average, modifier, f\"{metric.capitalize()} is\", len(result))\n"
     ]
    },
    {
     "name": "stdout",
     "output_type": "stream",
     "text": [
      "Saved: pytorch_HybridModel_Metrics.csv\n",
      "Repeat       5.000000\n",
      "Accuracy     0.875302\n",
      "Precision    0.528521\n",
      "Recall       0.503960\n",
      "F1           0.474257\n",
      "AUC          0.503960\n",
      "dtype: float64\n",
      "\n",
      "\n"
     ]
    },
    {
     "name": "stderr",
     "output_type": "stream",
     "text": [
      "c:\\Python312\\Lib\\site-packages\\sklearn\\metrics\\_classification.py:1565: UndefinedMetricWarning: Precision is ill-defined and being set to 0.0 in labels with no predicted samples. Use `zero_division` parameter to control this behavior.\n",
      "  _warn_prf(average, modifier, f\"{metric.capitalize()} is\", len(result))\n"
     ]
    },
    {
     "name": "stdout",
     "output_type": "stream",
     "text": [
      "Saved: pytorch_HybridModel_Metrics.csv\n",
      "Repeat       5.500000\n",
      "Accuracy     0.876106\n",
      "Precision    0.521350\n",
      "Recall       0.503630\n",
      "F1           0.473860\n",
      "AUC          0.503630\n",
      "dtype: float64\n",
      "\n",
      "\n"
     ]
    },
    {
     "name": "stderr",
     "output_type": "stream",
     "text": [
      "c:\\Python312\\Lib\\site-packages\\sklearn\\metrics\\_classification.py:1565: UndefinedMetricWarning: Precision is ill-defined and being set to 0.0 in labels with no predicted samples. Use `zero_division` parameter to control this behavior.\n",
      "  _warn_prf(average, modifier, f\"{metric.capitalize()} is\", len(result))\n"
     ]
    },
    {
     "name": "stdout",
     "output_type": "stream",
     "text": [
      "Saved: pytorch_HybridModel_Metrics.csv\n",
      "Repeat       6.000000\n",
      "Accuracy     0.874404\n",
      "Precision    0.514092\n",
      "Recall       0.503351\n",
      "F1           0.472841\n",
      "AUC          0.503351\n",
      "dtype: float64\n",
      "\n",
      "\n"
     ]
    },
    {
     "name": "stderr",
     "output_type": "stream",
     "text": [
      "c:\\Python312\\Lib\\site-packages\\sklearn\\metrics\\_classification.py:1565: UndefinedMetricWarning: Precision is ill-defined and being set to 0.0 in labels with no predicted samples. Use `zero_division` parameter to control this behavior.\n",
      "  _warn_prf(average, modifier, f\"{metric.capitalize()} is\", len(result))\n"
     ]
    },
    {
     "name": "stdout",
     "output_type": "stream",
     "text": [
      "Saved: pytorch_HybridModel_Metrics.csv\n",
      "Repeat       6.500000\n",
      "Accuracy     0.874210\n",
      "Precision    0.508503\n",
      "Recall       0.503111\n",
      "F1           0.472333\n",
      "AUC          0.503111\n",
      "dtype: float64\n",
      "\n",
      "\n"
     ]
    },
    {
     "name": "stderr",
     "output_type": "stream",
     "text": [
      "c:\\Python312\\Lib\\site-packages\\sklearn\\metrics\\_classification.py:1565: UndefinedMetricWarning: Precision is ill-defined and being set to 0.0 in labels with no predicted samples. Use `zero_division` parameter to control this behavior.\n",
      "  _warn_prf(average, modifier, f\"{metric.capitalize()} is\", len(result))\n"
     ]
    },
    {
     "name": "stdout",
     "output_type": "stream",
     "text": [
      "Saved: pytorch_HybridModel_Metrics.csv\n",
      "Repeat       7.000000\n",
      "Accuracy     0.874041\n",
      "Precision    0.503658\n",
      "Recall       0.502904\n",
      "F1           0.471892\n",
      "AUC          0.502904\n",
      "dtype: float64\n",
      "\n",
      "\n"
     ]
    },
    {
     "name": "stderr",
     "output_type": "stream",
     "text": [
      "c:\\Python312\\Lib\\site-packages\\sklearn\\metrics\\_classification.py:1565: UndefinedMetricWarning: Precision is ill-defined and being set to 0.0 in labels with no predicted samples. Use `zero_division` parameter to control this behavior.\n",
      "  _warn_prf(average, modifier, f\"{metric.capitalize()} is\", len(result))\n"
     ]
    },
    {
     "name": "stdout",
     "output_type": "stream",
     "text": [
      "Saved: pytorch_HybridModel_Metrics.csv\n",
      "Repeat       7.500000\n",
      "Accuracy     0.875277\n",
      "Precision    0.500111\n",
      "Recall       0.502723\n",
      "F1           0.471896\n",
      "AUC          0.502723\n",
      "dtype: float64\n",
      "\n",
      "\n",
      "Saved: pytorch_HybridModel_Metrics.csv\n",
      "Repeat       8.000000\n",
      "Accuracy     0.874805\n",
      "Precision    0.496314\n",
      "Recall       0.502413\n",
      "F1           0.471459\n",
      "AUC          0.502413\n",
      "dtype: float64\n",
      "\n",
      "\n",
      "Saved: pytorch_HybridModel_Metrics.csv\n",
      "Repeat       8.500000\n",
      "Accuracy     0.876844\n",
      "Precision    0.521827\n",
      "Recall       0.503602\n",
      "F1           0.474277\n",
      "AUC          0.503602\n",
      "dtype: float64\n",
      "\n",
      "\n",
      "Saved: pytorch_HybridModel_Metrics.csv\n",
      "Repeat       9.000000\n",
      "Accuracy     0.876106\n",
      "Precision    0.543369\n",
      "Recall       0.504235\n",
      "F1           0.475279\n",
      "AUC          0.504235\n",
      "dtype: float64\n",
      "\n",
      "\n",
      "Saved: pytorch_HybridModel_Metrics.csv\n",
      "Repeat       9.500000\n",
      "Accuracy     0.876106\n",
      "Precision    0.550687\n",
      "Recall       0.504789\n",
      "F1           0.476523\n",
      "AUC          0.504789\n",
      "dtype: float64\n",
      "\n",
      "\n"
     ]
    },
    {
     "name": "stderr",
     "output_type": "stream",
     "text": [
      "c:\\Python312\\Lib\\site-packages\\sklearn\\metrics\\_classification.py:1565: UndefinedMetricWarning: Precision is ill-defined and being set to 0.0 in labels with no predicted samples. Use `zero_division` parameter to control this behavior.\n",
      "  _warn_prf(average, modifier, f\"{metric.capitalize()} is\", len(result))\n"
     ]
    },
    {
     "name": "stdout",
     "output_type": "stream",
     "text": [
      "Saved: pytorch_HybridModel_Metrics.csv\n",
      "Repeat       10.000000\n",
      "Accuracy      0.874842\n",
      "Precision     0.544691\n",
      "Recall        0.504561\n",
      "F1            0.475704\n",
      "AUC           0.504561\n",
      "dtype: float64\n",
      "\n",
      "\n",
      "Saved: pytorch_HybridModel_Metrics.csv\n",
      "Repeat       10.500000\n",
      "Accuracy      0.874899\n",
      "Precision     0.562559\n",
      "Recall        0.505138\n",
      "F1            0.476816\n",
      "AUC           0.505138\n",
      "dtype: float64\n",
      "\n",
      "\n"
     ]
    },
    {
     "name": "stderr",
     "output_type": "stream",
     "text": [
      "c:\\Python312\\Lib\\site-packages\\sklearn\\metrics\\_classification.py:1565: UndefinedMetricWarning: Precision is ill-defined and being set to 0.0 in labels with no predicted samples. Use `zero_division` parameter to control this behavior.\n",
      "  _warn_prf(average, modifier, f\"{metric.capitalize()} is\", len(result))\n"
     ]
    },
    {
     "name": "stdout",
     "output_type": "stream",
     "text": [
      "Saved: pytorch_HybridModel_Metrics.csv\n",
      "Repeat       11.000000\n",
      "Accuracy      0.875144\n",
      "Precision     0.557242\n",
      "Recall        0.504914\n",
      "F1            0.476443\n",
      "AUC           0.504914\n",
      "dtype: float64\n",
      "\n",
      "\n",
      "Saved: pytorch_HybridModel_Metrics.csv\n",
      "Repeat       11.500000\n",
      "Accuracy      0.875737\n",
      "Precision     0.573375\n",
      "Recall        0.505511\n",
      "F1            0.477742\n",
      "AUC           0.505511\n",
      "dtype: float64\n",
      "\n",
      "\n"
     ]
    },
    {
     "name": "stderr",
     "output_type": "stream",
     "text": [
      "c:\\Python312\\Lib\\site-packages\\sklearn\\metrics\\_classification.py:1565: UndefinedMetricWarning: Precision is ill-defined and being set to 0.0 in labels with no predicted samples. Use `zero_division` parameter to control this behavior.\n",
      "  _warn_prf(average, modifier, f\"{metric.capitalize()} is\", len(result))\n"
     ]
    },
    {
     "name": "stdout",
     "output_type": "stream",
     "text": [
      "Saved: pytorch_HybridModel_Metrics.csv\n",
      "Repeat       12.000000\n",
      "Accuracy      0.876106\n",
      "Precision     0.568139\n",
      "Recall        0.505290\n",
      "F1            0.477412\n",
      "AUC           0.505290\n",
      "dtype: float64\n",
      "\n",
      "\n"
     ]
    },
    {
     "name": "stderr",
     "output_type": "stream",
     "text": [
      "c:\\Python312\\Lib\\site-packages\\sklearn\\metrics\\_classification.py:1565: UndefinedMetricWarning: Precision is ill-defined and being set to 0.0 in labels with no predicted samples. Use `zero_division` parameter to control this behavior.\n",
      "  _warn_prf(average, modifier, f\"{metric.capitalize()} is\", len(result))\n"
     ]
    },
    {
     "name": "stdout",
     "output_type": "stream",
     "text": [
      "Saved: pytorch_HybridModel_Metrics.csv\n",
      "Repeat       12.500000\n",
      "Accuracy      0.876447\n",
      "Precision     0.563306\n",
      "Recall        0.505087\n",
      "F1            0.477107\n",
      "AUC           0.505087\n",
      "dtype: float64\n",
      "\n",
      "\n",
      "Saved: pytorch_HybridModel_Metrics.csv\n",
      "Repeat       13.000000\n",
      "Accuracy      0.876270\n",
      "Precision     0.577093\n",
      "Recall        0.505516\n",
      "F1            0.477874\n",
      "AUC           0.505516\n",
      "dtype: float64\n",
      "\n",
      "\n"
     ]
    },
    {
     "name": "stderr",
     "output_type": "stream",
     "text": [
      "c:\\Python312\\Lib\\site-packages\\sklearn\\metrics\\_classification.py:1565: UndefinedMetricWarning: Precision is ill-defined and being set to 0.0 in labels with no predicted samples. Use `zero_division` parameter to control this behavior.\n",
      "  _warn_prf(average, modifier, f\"{metric.capitalize()} is\", len(result))\n"
     ]
    },
    {
     "name": "stdout",
     "output_type": "stream",
     "text": [
      "Saved: pytorch_HybridModel_Metrics.csv\n",
      "Repeat       13.500000\n",
      "Accuracy      0.877054\n",
      "Precision     0.572522\n",
      "Recall        0.505319\n",
      "F1            0.477707\n",
      "AUC           0.505319\n",
      "dtype: float64\n",
      "\n",
      "\n"
     ]
    },
    {
     "name": "stderr",
     "output_type": "stream",
     "text": [
      "c:\\Python312\\Lib\\site-packages\\sklearn\\metrics\\_classification.py:1565: UndefinedMetricWarning: Precision is ill-defined and being set to 0.0 in labels with no predicted samples. Use `zero_division` parameter to control this behavior.\n",
      "  _warn_prf(average, modifier, f\"{metric.capitalize()} is\", len(result))\n"
     ]
    },
    {
     "name": "stdout",
     "output_type": "stream",
     "text": [
      "Saved: pytorch_HybridModel_Metrics.csv\n",
      "Repeat       14.000000\n",
      "Accuracy      0.875954\n",
      "Precision     0.567351\n",
      "Recall        0.505135\n",
      "F1            0.477028\n",
      "AUC           0.505135\n",
      "dtype: float64\n",
      "\n",
      "\n",
      "Saved: pytorch_HybridModel_Metrics.csv\n",
      "Repeat       14.500000\n",
      "Accuracy      0.875811\n",
      "Precision     0.579625\n",
      "Recall        0.505520\n",
      "F1            0.477721\n",
      "AUC           0.505520\n",
      "dtype: float64\n",
      "\n",
      "\n"
     ]
    }
   ],
   "source": [
    "hybrid_metrics = []\n",
    "# Load dataset for this iteration\n",
    "data = pd.read_csv(f'{project}_processed_data.csv')\n",
    "X_hybrid = data[text_col]\n",
    "y_hybrid = data['class']\n",
    "\n",
    "for repeated_time in range(REPEAT):\n",
    "    \n",
    "\n",
    "    X_train_hybrid, X_test_hybrid, y_train_hybrid, y_test_hybrid = train_test_split(\n",
    "        X_hybrid, y_hybrid, test_size=0.3, random_state=repeated_time, shuffle=True\n",
    "    )\n",
    "\n",
    "    tfidf_hybrid = TfidfVectorizer(ngram_range=(1, 2), max_features=1000)\n",
    "    X_train_tfidf_hybrid = tfidf_hybrid.fit_transform(X_train_hybrid).toarray()\n",
    "    X_test_tfidf_hybrid = tfidf_hybrid.transform(X_test_hybrid).toarray()\n",
    "\n",
    "    rf_clf_hybrid = RandomForestClassifier(n_estimators=100, max_depth=20)\n",
    "    rf_clf_hybrid.fit(X_train_tfidf_hybrid, y_train_hybrid)\n",
    "\n",
    "    logreg_clf_hybrid = LogisticRegression(max_iter=2000)\n",
    "    voting_clf_hybrid = VotingClassifier(estimators=[('rf', rf_clf_hybrid), ('logreg', logreg_clf_hybrid)], voting='soft')\n",
    "    voting_clf_hybrid.fit(X_train_tfidf_hybrid, y_train_hybrid)\n",
    "\n",
    "    y_pred_hybrid = voting_clf_hybrid.predict(X_test_tfidf_hybrid)\n",
    "\n",
    "    hybrid_metrics.append({\n",
    "        \"Repeat\": repeated_time,\n",
    "        \"Accuracy\": accuracy_score(y_test_hybrid, y_pred_hybrid),\n",
    "        \"Precision\": precision_score(y_test_hybrid, y_pred_hybrid, average='macro'),\n",
    "        \"Recall\": recall_score(y_test_hybrid, y_pred_hybrid, average='macro'),\n",
    "        \"F1\": f1_score(y_test_hybrid, y_pred_hybrid, average='macro'),\n",
    "        \"AUC\": auc(*roc_curve(y_test_hybrid, y_pred_hybrid, pos_label=1)[:2])\n",
    "    })\n",
    "\n",
    "    save_model_metrics(hybrid_metrics, f'{project}_HybridModel_Metrics.csv')\n"
   ]
  },
  {
   "cell_type": "markdown",
   "metadata": {},
   "source": [
    "##### Save results to csv file"
   ]
  },
  {
   "cell_type": "code",
   "execution_count": 17,
   "metadata": {},
   "outputs": [
    {
     "name": "stdout",
     "output_type": "stream",
     "text": [
      "Saved: pytorch_HybridModel_Final_Metrics.csv\n",
      "Total_Repeats    30.000000\n",
      "Avg_Accuracy      0.875811\n",
      "Avg_Precision     0.579625\n",
      "Avg_Recall        0.505520\n",
      "Avg_F1            0.477721\n",
      "Avg_AUC           0.505520\n",
      "dtype: float64\n",
      "\n",
      "\n"
     ]
    }
   ],
   "source": [
    "# === Calculate final averages from all repeats ===\n",
    "final_metrics = {\n",
    "    \"Total_Repeats\": REPEAT,\n",
    "    \"Avg_Accuracy\": np.mean([m[\"Accuracy\"] for m in hybrid_metrics]),\n",
    "    \"Avg_Precision\": np.mean([m[\"Precision\"] for m in hybrid_metrics]),\n",
    "    \"Avg_Recall\": np.mean([m[\"Recall\"] for m in hybrid_metrics]),\n",
    "    \"Avg_F1\": np.mean([m[\"F1\"] for m in hybrid_metrics]),\n",
    "    \"Avg_AUC\": np.mean([m[\"AUC\"] for m in hybrid_metrics])\n",
    "}\n",
    "\n",
    "save_model_metrics([final_metrics], f'{project}_HybridModel_Final_Metrics.csv')"
   ]
  },
  {
   "cell_type": "markdown",
   "metadata": {},
   "source": [
    "##### Load results for Hybrid Model "
   ]
  },
  {
   "cell_type": "code",
   "execution_count": 18,
   "metadata": {},
   "outputs": [
    {
     "data": {
      "text/html": [
       "<div>\n",
       "<style scoped>\n",
       "    .dataframe tbody tr th:only-of-type {\n",
       "        vertical-align: middle;\n",
       "    }\n",
       "\n",
       "    .dataframe tbody tr th {\n",
       "        vertical-align: top;\n",
       "    }\n",
       "\n",
       "    .dataframe thead th {\n",
       "        text-align: right;\n",
       "    }\n",
       "</style>\n",
       "<table border=\"1\" class=\"dataframe\">\n",
       "  <thead>\n",
       "    <tr style=\"text-align: right;\">\n",
       "      <th></th>\n",
       "      <th>Total_Repeats</th>\n",
       "      <th>Avg_Accuracy</th>\n",
       "      <th>Avg_Precision</th>\n",
       "      <th>Avg_Recall</th>\n",
       "      <th>Avg_F1</th>\n",
       "      <th>Avg_AUC</th>\n",
       "    </tr>\n",
       "  </thead>\n",
       "  <tbody>\n",
       "    <tr>\n",
       "      <th>0</th>\n",
       "      <td>30</td>\n",
       "      <td>0.875811</td>\n",
       "      <td>0.579625</td>\n",
       "      <td>0.50552</td>\n",
       "      <td>0.477721</td>\n",
       "      <td>0.50552</td>\n",
       "    </tr>\n",
       "  </tbody>\n",
       "</table>\n",
       "</div>"
      ],
      "text/plain": [
       "   Total_Repeats  Avg_Accuracy  Avg_Precision  Avg_Recall    Avg_F1  Avg_AUC\n",
       "0             30      0.875811       0.579625     0.50552  0.477721  0.50552"
      ]
     },
     "execution_count": 18,
     "metadata": {},
     "output_type": "execute_result"
    }
   ],
   "source": [
    "df = pd.read_csv(f'{baseline_path}/results/{project}_HybridModel_Final_Metrics.csv')\n",
    "df.head() "
   ]
  },
  {
   "cell_type": "markdown",
   "metadata": {},
   "source": [
    "##### Line chart repeats"
   ]
  },
  {
   "cell_type": "code",
   "execution_count": 7,
   "metadata": {},
   "outputs": [
    {
     "data": {
      "image/png": "[encoded data removed]",
      "text/plain": [
       "<Figure size 800x400 with 1 Axes>"
      ]
     },
     "metadata": {},
     "output_type": "display_data"
    }
   ],
   "source": [
    "plot_metric_trends(f'{baseline_path}/results/{project}_HybridModel_Metrics.csv')"
   ]
  },
  {
   "cell_type": "markdown",
   "metadata": {},
   "source": [
    "### Step 3: Validate results"
   ]
  },
  {
   "cell_type": "markdown",
   "metadata": {},
   "source": [
    "###### Now that the training has been complete with the baselineto be able to compare with my own improvements. \n",
    "###### I want to ensure my results can be trusted so, FOR THE HYBRID MODEL, I will test on holdout data, check for data leakage an overfitting. I will also check the class distribution of the training set and perfrom SMOTE to Balance the dataset and retest witht the hybrid model, to see if there any differences in results"
   ]
  },
  {
   "cell_type": "markdown",
   "metadata": {},
   "source": [
    "##### Test Hybrid Model on Holdout Data ---Shoukld this repeat 30 times???"
   ]
  },
  {
   "cell_type": "code",
   "execution_count": 19,
   "metadata": {},
   "outputs": [
    {
     "name": "stderr",
     "output_type": "stream",
     "text": [
      "c:\\Python312\\Lib\\site-packages\\sklearn\\metrics\\_classification.py:1565: UndefinedMetricWarning: Precision is ill-defined and being set to 0.0 in labels with no predicted samples. Use `zero_division` parameter to control this behavior.\n",
      "  _warn_prf(average, modifier, f\"{metric.capitalize()} is\", len(result))\n",
      "c:\\Python312\\Lib\\site-packages\\sklearn\\metrics\\_classification.py:1565: UndefinedMetricWarning: Precision is ill-defined and being set to 0.0 in labels with no predicted samples. Use `zero_division` parameter to control this behavior.\n",
      "  _warn_prf(average, modifier, f\"{metric.capitalize()} is\", len(result))\n",
      "c:\\Python312\\Lib\\site-packages\\sklearn\\metrics\\_classification.py:1565: UndefinedMetricWarning: Precision is ill-defined and being set to 0.0 in labels with no predicted samples. Use `zero_division` parameter to control this behavior.\n",
      "  _warn_prf(average, modifier, f\"{metric.capitalize()} is\", len(result))\n",
      "c:\\Python312\\Lib\\site-packages\\sklearn\\metrics\\_classification.py:1565: UndefinedMetricWarning: Precision is ill-defined and being set to 0.0 in labels with no predicted samples. Use `zero_division` parameter to control this behavior.\n",
      "  _warn_prf(average, modifier, f\"{metric.capitalize()} is\", len(result))\n",
      "c:\\Python312\\Lib\\site-packages\\sklearn\\metrics\\_classification.py:1565: UndefinedMetricWarning: Precision is ill-defined and being set to 0.0 in labels with no predicted samples. Use `zero_division` parameter to control this behavior.\n",
      "  _warn_prf(average, modifier, f\"{metric.capitalize()} is\", len(result))\n",
      "c:\\Python312\\Lib\\site-packages\\sklearn\\metrics\\_classification.py:1565: UndefinedMetricWarning: Precision is ill-defined and being set to 0.0 in labels with no predicted samples. Use `zero_division` parameter to control this behavior.\n",
      "  _warn_prf(average, modifier, f\"{metric.capitalize()} is\", len(result))\n",
      "c:\\Python312\\Lib\\site-packages\\sklearn\\metrics\\_classification.py:1565: UndefinedMetricWarning: Precision is ill-defined and being set to 0.0 in labels with no predicted samples. Use `zero_division` parameter to control this behavior.\n",
      "  _warn_prf(average, modifier, f\"{metric.capitalize()} is\", len(result))\n",
      "c:\\Python312\\Lib\\site-packages\\sklearn\\metrics\\_classification.py:1565: UndefinedMetricWarning: Precision is ill-defined and being set to 0.0 in labels with no predicted samples. Use `zero_division` parameter to control this behavior.\n",
      "  _warn_prf(average, modifier, f\"{metric.capitalize()} is\", len(result))\n",
      "c:\\Python312\\Lib\\site-packages\\sklearn\\metrics\\_classification.py:1565: UndefinedMetricWarning: Precision is ill-defined and being set to 0.0 in labels with no predicted samples. Use `zero_division` parameter to control this behavior.\n",
      "  _warn_prf(average, modifier, f\"{metric.capitalize()} is\", len(result))\n",
      "c:\\Python312\\Lib\\site-packages\\sklearn\\metrics\\_classification.py:1565: UndefinedMetricWarning: Precision is ill-defined and being set to 0.0 in labels with no predicted samples. Use `zero_division` parameter to control this behavior.\n",
      "  _warn_prf(average, modifier, f\"{metric.capitalize()} is\", len(result))\n",
      "c:\\Python312\\Lib\\site-packages\\sklearn\\metrics\\_classification.py:1565: UndefinedMetricWarning: Precision is ill-defined and being set to 0.0 in labels with no predicted samples. Use `zero_division` parameter to control this behavior.\n",
      "  _warn_prf(average, modifier, f\"{metric.capitalize()} is\", len(result))\n",
      "c:\\Python312\\Lib\\site-packages\\sklearn\\metrics\\_classification.py:1565: UndefinedMetricWarning: Precision is ill-defined and being set to 0.0 in labels with no predicted samples. Use `zero_division` parameter to control this behavior.\n",
      "  _warn_prf(average, modifier, f\"{metric.capitalize()} is\", len(result))\n",
      "c:\\Python312\\Lib\\site-packages\\sklearn\\metrics\\_classification.py:1565: UndefinedMetricWarning: Precision is ill-defined and being set to 0.0 in labels with no predicted samples. Use `zero_division` parameter to control this behavior.\n",
      "  _warn_prf(average, modifier, f\"{metric.capitalize()} is\", len(result))\n",
      "c:\\Python312\\Lib\\site-packages\\sklearn\\metrics\\_classification.py:1565: UndefinedMetricWarning: Precision is ill-defined and being set to 0.0 in labels with no predicted samples. Use `zero_division` parameter to control this behavior.\n",
      "  _warn_prf(average, modifier, f\"{metric.capitalize()} is\", len(result))\n",
      "c:\\Python312\\Lib\\site-packages\\sklearn\\metrics\\_classification.py:1565: UndefinedMetricWarning: Precision is ill-defined and being set to 0.0 in labels with no predicted samples. Use `zero_division` parameter to control this behavior.\n",
      "  _warn_prf(average, modifier, f\"{metric.capitalize()} is\", len(result))\n",
      "c:\\Python312\\Lib\\site-packages\\sklearn\\metrics\\_classification.py:1565: UndefinedMetricWarning: Precision is ill-defined and being set to 0.0 in labels with no predicted samples. Use `zero_division` parameter to control this behavior.\n",
      "  _warn_prf(average, modifier, f\"{metric.capitalize()} is\", len(result))\n",
      "c:\\Python312\\Lib\\site-packages\\sklearn\\metrics\\_classification.py:1565: UndefinedMetricWarning: Precision is ill-defined and being set to 0.0 in labels with no predicted samples. Use `zero_division` parameter to control this behavior.\n",
      "  _warn_prf(average, modifier, f\"{metric.capitalize()} is\", len(result))\n",
      "c:\\Python312\\Lib\\site-packages\\sklearn\\metrics\\_classification.py:1565: UndefinedMetricWarning: Precision is ill-defined and being set to 0.0 in labels with no predicted samples. Use `zero_division` parameter to control this behavior.\n",
      "  _warn_prf(average, modifier, f\"{metric.capitalize()} is\", len(result))\n",
      "c:\\Python312\\Lib\\site-packages\\sklearn\\metrics\\_classification.py:1565: UndefinedMetricWarning: Precision is ill-defined and being set to 0.0 in labels with no predicted samples. Use `zero_division` parameter to control this behavior.\n",
      "  _warn_prf(average, modifier, f\"{metric.capitalize()} is\", len(result))\n",
      "c:\\Python312\\Lib\\site-packages\\sklearn\\metrics\\_classification.py:1565: UndefinedMetricWarning: Precision is ill-defined and being set to 0.0 in labels with no predicted samples. Use `zero_division` parameter to control this behavior.\n",
      "  _warn_prf(average, modifier, f\"{metric.capitalize()} is\", len(result))\n",
      "c:\\Python312\\Lib\\site-packages\\sklearn\\metrics\\_classification.py:1565: UndefinedMetricWarning: Precision is ill-defined and being set to 0.0 in labels with no predicted samples. Use `zero_division` parameter to control this behavior.\n",
      "  _warn_prf(average, modifier, f\"{metric.capitalize()} is\", len(result))\n",
      "c:\\Python312\\Lib\\site-packages\\sklearn\\metrics\\_classification.py:1565: UndefinedMetricWarning: Precision is ill-defined and being set to 0.0 in labels with no predicted samples. Use `zero_division` parameter to control this behavior.\n",
      "  _warn_prf(average, modifier, f\"{metric.capitalize()} is\", len(result))\n",
      "c:\\Python312\\Lib\\site-packages\\sklearn\\metrics\\_classification.py:1565: UndefinedMetricWarning: Precision is ill-defined and being set to 0.0 in labels with no predicted samples. Use `zero_division` parameter to control this behavior.\n",
      "  _warn_prf(average, modifier, f\"{metric.capitalize()} is\", len(result))\n",
      "c:\\Python312\\Lib\\site-packages\\sklearn\\metrics\\_classification.py:1565: UndefinedMetricWarning: Precision is ill-defined and being set to 0.0 in labels with no predicted samples. Use `zero_division` parameter to control this behavior.\n",
      "  _warn_prf(average, modifier, f\"{metric.capitalize()} is\", len(result))\n",
      "c:\\Python312\\Lib\\site-packages\\sklearn\\metrics\\_classification.py:1565: UndefinedMetricWarning: Precision is ill-defined and being set to 0.0 in labels with no predicted samples. Use `zero_division` parameter to control this behavior.\n",
      "  _warn_prf(average, modifier, f\"{metric.capitalize()} is\", len(result))\n",
      "c:\\Python312\\Lib\\site-packages\\sklearn\\metrics\\_classification.py:1565: UndefinedMetricWarning: Precision is ill-defined and being set to 0.0 in labels with no predicted samples. Use `zero_division` parameter to control this behavior.\n",
      "  _warn_prf(average, modifier, f\"{metric.capitalize()} is\", len(result))\n",
      "c:\\Python312\\Lib\\site-packages\\sklearn\\metrics\\_classification.py:1565: UndefinedMetricWarning: Precision is ill-defined and being set to 0.0 in labels with no predicted samples. Use `zero_division` parameter to control this behavior.\n",
      "  _warn_prf(average, modifier, f\"{metric.capitalize()} is\", len(result))\n"
     ]
    },
    {
     "name": "stdout",
     "output_type": "stream",
     "text": [
      "\n",
      "🔍 Holdout Set Performance (Hybrid Model):\n",
      "              precision    recall  f1-score   support\n",
      "\n",
      "     Non-Bug       0.87      1.00      0.93        66\n",
      "         Bug       0.00      0.00      0.00        10\n",
      "\n",
      "    accuracy                           0.87        76\n",
      "   macro avg       0.43      0.50      0.46        76\n",
      "weighted avg       0.75      0.87      0.81        76\n",
      "\n"
     ]
    },
    {
     "name": "stderr",
     "output_type": "stream",
     "text": [
      "c:\\Python312\\Lib\\site-packages\\sklearn\\metrics\\_classification.py:1565: UndefinedMetricWarning: Precision is ill-defined and being set to 0.0 in labels with no predicted samples. Use `zero_division` parameter to control this behavior.\n",
      "  _warn_prf(average, modifier, f\"{metric.capitalize()} is\", len(result))\n",
      "c:\\Python312\\Lib\\site-packages\\sklearn\\metrics\\_classification.py:1565: UndefinedMetricWarning: Precision is ill-defined and being set to 0.0 in labels with no predicted samples. Use `zero_division` parameter to control this behavior.\n",
      "  _warn_prf(average, modifier, f\"{metric.capitalize()} is\", len(result))\n",
      "c:\\Python312\\Lib\\site-packages\\sklearn\\metrics\\_classification.py:1565: UndefinedMetricWarning: Precision is ill-defined and being set to 0.0 in labels with no predicted samples. Use `zero_division` parameter to control this behavior.\n",
      "  _warn_prf(average, modifier, f\"{metric.capitalize()} is\", len(result))\n",
      "c:\\Python312\\Lib\\site-packages\\sklearn\\metrics\\_classification.py:1565: UndefinedMetricWarning: Precision is ill-defined and being set to 0.0 in labels with no predicted samples. Use `zero_division` parameter to control this behavior.\n",
      "  _warn_prf(average, modifier, f\"{metric.capitalize()} is\", len(result))\n"
     ]
    }
   ],
   "source": [
    "###0 IS A NONBUG, SO IT IS WHAT SHOULD BE PRE4DICTED AS NONBUG\n",
    "\n",
    "# Define function to test trained hybrid model on holdout set\n",
    "def test_on_holdout_hybrid(model):\n",
    "    holdout_data_hybrid = pd.read_csv(f'{project}_processed_data_holdout.csv')\n",
    "    holdout_text_hybrid = holdout_data_hybrid[text_col]\n",
    "    holdout_labels_hybrid = holdout_data_hybrid['class']\n",
    "\n",
    "    tfidf_hybrid_holdout = TfidfVectorizer(ngram_range=(1, 2), max_features=1000)\n",
    "    X_holdout_hybrid = tfidf_hybrid_holdout.fit_transform(holdout_text_hybrid).toarray()\n",
    "\n",
    "    holdout_preds_hybrid = model.predict(X_holdout_hybrid)\n",
    "    print(\"\\n🔍 Holdout Set Performance (Hybrid Model):\")\n",
    "    print(classification_report(holdout_labels_hybrid, holdout_preds_hybrid, target_names=['Non-Bug', 'Bug']))\n",
    "\n",
    "    # Load full processed dataset\n",
    "data = pd.read_csv(f'{project}_processed_data.csv')\n",
    "\n",
    "# Create holdout split (90% train/test, 10% holdout)\n",
    "train_test_data, holdout_data = train_test_split(data, test_size=0.1, random_state=42)\n",
    "\n",
    "# Save to CSV for consistent usage across notebooks\n",
    "train_test_data.to_csv(f'{project}_processed_train_test_data_holdout.csv', index=False)\n",
    "holdout_data.to_csv(f'{project}_processed_data_holdout.csv', index=False)\n",
    "\n",
    "\n",
    "\n",
    "\n",
    "hybrid_holdout_metrics = []\n",
    "\n",
    "# Load 90% dataset for training/testing splits\n",
    "data_hybrid_holdout = pd.read_csv(f'{project}_processed_train_test_data_holdout.csv')\n",
    "X_hybrid_holdout = data_hybrid_holdout[text_col]\n",
    "y_hybrid_holdout = data_hybrid_holdout['class']\n",
    "\n",
    "for repeated_time in range(REPEAT):\n",
    "    # Split into 70/30\n",
    "    X_train_hybrid, X_test_hybrid, y_train_hybrid, y_test_hybrid = train_test_split(\n",
    "        X_hybrid_holdout, y_hybrid_holdout, test_size=0.3, random_state=repeated_time, shuffle=True\n",
    "    )\n",
    "\n",
    "    # TF-IDF\n",
    "    tfidf_hybrid = TfidfVectorizer(ngram_range=(1, 2), max_features=1000)\n",
    "    X_train_tfidf_hybrid = tfidf_hybrid.fit_transform(X_train_hybrid).toarray()\n",
    "    X_test_tfidf_hybrid = tfidf_hybrid.transform(X_test_hybrid).toarray()\n",
    "\n",
    "    # Random Forest\n",
    "    rf_clf_hybrid = RandomForestClassifier(n_estimators=100, max_depth=20)\n",
    "    rf_clf_hybrid.fit(X_train_tfidf_hybrid, y_train_hybrid)\n",
    "\n",
    "    # Hybrid Model: Random Forest + Logistic Regression\n",
    "    logreg_clf_hybrid = LogisticRegression(max_iter=2000)\n",
    "    voting_clf_hybrid = VotingClassifier(estimators=[\n",
    "        ('rf', rf_clf_hybrid), \n",
    "        ('logreg', logreg_clf_hybrid)\n",
    "    ], voting='soft')\n",
    "    voting_clf_hybrid.fit(X_train_tfidf_hybrid, y_train_hybrid)\n",
    "    y_pred_hybrid = voting_clf_hybrid.predict(X_test_tfidf_hybrid)\n",
    "\n",
    "    # Save metrics for each repeat\n",
    "    hybrid_holdout_metrics.append({\n",
    "        \"Repeat\": repeated_time,\n",
    "        \"Accuracy\": accuracy_score(y_test_hybrid, y_pred_hybrid),\n",
    "        \"Precision\": precision_score(y_test_hybrid, y_pred_hybrid, average='macro'),\n",
    "        \"Recall\": recall_score(y_test_hybrid, y_pred_hybrid, average='macro'),\n",
    "        \"F1\": f1_score(y_test_hybrid, y_pred_hybrid, average='macro'),\n",
    "        \"AUC\": auc(*roc_curve(y_test_hybrid, y_pred_hybrid, pos_label=1)[:2])\n",
    "    })\n",
    "\n",
    "# Save all repeated metrics to CSV\n",
    "#save_model_metrics(hybrid_holdout_metrics, f'{project}_HybridModel_Holdout_Metrics.csv')\n",
    "\n",
    "\n",
    "\n",
    "# Evaluate on true holdout portion\n",
    "test_on_holdout_hybrid(voting_clf_hybrid)\n"
   ]
  },
  {
   "cell_type": "markdown",
   "metadata": {},
   "source": [
    "##### Save results to csv file"
   ]
  },
  {
   "cell_type": "code",
   "execution_count": 20,
   "metadata": {},
   "outputs": [],
   "source": [
    "## Save results here"
   ]
  },
  {
   "cell_type": "markdown",
   "metadata": {},
   "source": [
    "##### Load results for test on holdout"
   ]
  },
  {
   "cell_type": "code",
   "execution_count": 21,
   "metadata": {},
   "outputs": [],
   "source": [
    "#df = pd.read_csv(\"processed_data_holdout.csv\")\n",
    "#df.head() "
   ]
  },
  {
   "cell_type": "markdown",
   "metadata": {},
   "source": [
    "##### Check for data leakage and overfitting"
   ]
  },
  {
   "cell_type": "code",
   "execution_count": 22,
   "metadata": {},
   "outputs": [
    {
     "name": "stdout",
     "output_type": "stream",
     "text": [
      "\n",
      "🔍 Checking Data Leakage...\n",
      "⚠️ 2 samples from test data are also in training data.\n",
      "❌ Data Leakage Detected! Test data should not exist in training set.\n",
      "\n",
      "🔍 Checking Overfitting...\n",
      "📊 Training Accuracy: 0.9239\n",
      "📊 Test Accuracy: 0.8867\n",
      "✅ No significant overfitting detected.\n"
     ]
    }
   ],
   "source": [
    "#check where these variables are coming from\n",
    "check_data_leakage(X_train_tfidf_hybrid, X_test_tfidf_hybrid)\n",
    "check_overfitting(voting_clf_hybrid, X_train_tfidf_hybrid, y_train_hybrid, X_test_tfidf_hybrid, y_test_hybrid)"
   ]
  },
  {
   "cell_type": "markdown",
   "metadata": {},
   "source": [
    "##### Check class distribution "
   ]
  },
  {
   "cell_type": "code",
   "execution_count": 23,
   "metadata": {},
   "outputs": [
    {
     "name": "stdout",
     "output_type": "stream",
     "text": [
      "\n",
      "Class Distribution in Training Set:\n",
      "class\n",
      "0    411\n",
      "1     62\n",
      "Name: count, dtype: int64\n",
      "\n",
      "Classification Report:\n",
      "              precision    recall  f1-score   support\n",
      "\n",
      "           0       0.89      1.00      0.94       180\n",
      "           1       0.00      0.00      0.00        23\n",
      "\n",
      "    accuracy                           0.89       203\n",
      "   macro avg       0.44      0.50      0.47       203\n",
      "weighted avg       0.79      0.89      0.83       203\n",
      "\n"
     ]
    },
    {
     "name": "stderr",
     "output_type": "stream",
     "text": [
      "c:\\Python312\\Lib\\site-packages\\sklearn\\metrics\\_classification.py:1565: UndefinedMetricWarning: Precision is ill-defined and being set to 0.0 in labels with no predicted samples. Use `zero_division` parameter to control this behavior.\n",
      "  _warn_prf(average, modifier, f\"{metric.capitalize()} is\", len(result))\n",
      "c:\\Python312\\Lib\\site-packages\\sklearn\\metrics\\_classification.py:1565: UndefinedMetricWarning: Precision is ill-defined and being set to 0.0 in labels with no predicted samples. Use `zero_division` parameter to control this behavior.\n",
      "  _warn_prf(average, modifier, f\"{metric.capitalize()} is\", len(result))\n",
      "c:\\Python312\\Lib\\site-packages\\sklearn\\metrics\\_classification.py:1565: UndefinedMetricWarning: Precision is ill-defined and being set to 0.0 in labels with no predicted samples. Use `zero_division` parameter to control this behavior.\n",
      "  _warn_prf(average, modifier, f\"{metric.capitalize()} is\", len(result))\n"
     ]
    }
   ],
   "source": [
    "print(\"\\nClass Distribution in Training Set:\")\n",
    "print(y_train_hybrid.value_counts())\n",
    "print(\"\\nClassification Report:\")\n",
    "print(classification_report(y_test_hybrid, y_pred_hybrid))"
   ]
  },
  {
   "cell_type": "markdown",
   "metadata": {},
   "source": [
    "##### Perform Smote to Balance Dataset and Test Hybrid Model "
   ]
  },
  {
   "cell_type": "code",
   "execution_count": 24,
   "metadata": {},
   "outputs": [
    {
     "name": "stdout",
     "output_type": "stream",
     "text": [
      "Saved: pytorch_SMOTE_HybridModel_Metrics.csv\n",
      "Repeat       14.500000\n",
      "Accuracy      0.880383\n",
      "Precision     0.725388\n",
      "Recall        0.686121\n",
      "F1            0.699551\n",
      "AUC           0.686121\n",
      "dtype: float64\n",
      "\n",
      "\n"
     ]
    }
   ],
   "source": [
    "smote_hybrid_metrics = []\n",
    "\n",
    "# Load dataset for SMOTE-based training\n",
    "data_smote_hybrid = pd.read_csv(f'{project}_processed_data.csv')\n",
    "X_smote_hybrid = data_smote_hybrid[text_col]\n",
    "y_smote_hybrid = data_smote_hybrid['class']\n",
    "\n",
    "for repeated_time in range(REPEAT):\n",
    "    # Train-test split (70/30)\n",
    "    X_train_smote, X_test_smote, y_train_smote, y_test_smote = train_test_split(\n",
    "        X_smote_hybrid, y_smote_hybrid, test_size=0.3, random_state=repeated_time, shuffle=True\n",
    "    )\n",
    "\n",
    "    # TF-IDF vectorization\n",
    "    tfidf_smote = TfidfVectorizer(ngram_range=(1, 2), max_features=1000)\n",
    "    X_train_tfidf_smote = tfidf_smote.fit_transform(X_train_smote).toarray()\n",
    "    X_test_tfidf_smote = tfidf_smote.transform(X_test_smote).toarray()\n",
    "\n",
    "    # Train Hybrid Model\n",
    "    rf_clf_smote = RandomForestClassifier(n_estimators=100, max_depth=20)\n",
    "    logreg_clf_smote = LogisticRegression(max_iter=2000)\n",
    "    hybrid_clf_smote = VotingClassifier(\n",
    "        estimators=[('rf', rf_clf_smote), ('logreg', logreg_clf_smote)],\n",
    "        voting='soft'\n",
    "    )\n",
    "\n",
    "    # Apply SMOTE to balance training data\n",
    "    smote = SMOTE()\n",
    "    X_train_balanced, y_train_balanced = smote.fit_resample(X_train_tfidf_smote, y_train_smote)\n",
    "\n",
    "    # Train on balanced data\n",
    "    hybrid_clf_smote.fit(X_train_balanced, y_train_balanced)\n",
    "\n",
    "    # Predict on original (unbalanced) test set\n",
    "    y_pred_smote_hybrid = hybrid_clf_smote.predict(X_test_tfidf_smote)\n",
    "\n",
    "    # Collect metrics\n",
    "    smote_hybrid_metrics.append({\n",
    "        \"Repeat\": repeated_time,\n",
    "        \"Accuracy\": accuracy_score(y_test_smote, y_pred_smote_hybrid),\n",
    "        \"Precision\": precision_score(y_test_smote, y_pred_smote_hybrid, average='macro'),\n",
    "        \"Recall\": recall_score(y_test_smote, y_pred_smote_hybrid, average='macro'),\n",
    "        \"F1\": f1_score(y_test_smote, y_pred_smote_hybrid, average='macro'),\n",
    "        \"AUC\": auc(*roc_curve(y_test_smote, y_pred_smote_hybrid, pos_label=1)[:2])\n",
    "    })\n",
    "\n",
    "# Save metrics after all repeats\n",
    "save_model_metrics(smote_hybrid_metrics, f'{project}_SMOTE_HybridModel_Metrics.csv')\n"
   ]
  },
  {
   "cell_type": "markdown",
   "metadata": {},
   "source": [
    "##### Save and load results"
   ]
  },
  {
   "cell_type": "code",
   "execution_count": 25,
   "metadata": {},
   "outputs": [
    {
     "name": "stdout",
     "output_type": "stream",
     "text": [
      "Saved: pytorch_SMOTE_HybridModel_Final_Metrics.csv\n",
      "Total_Repeats    30.000000\n",
      "Avg_Accuracy      0.880383\n",
      "Avg_Precision     0.725388\n",
      "Avg_Recall        0.686121\n",
      "Avg_F1            0.699551\n",
      "Avg_AUC           0.686121\n",
      "dtype: float64\n",
      "\n",
      "\n"
     ]
    }
   ],
   "source": [
    "# === Calculate final averages from all repeats ===\n",
    "final_metrics = {\n",
    "    \"Total_Repeats\": REPEAT,\n",
    "    \"Avg_Accuracy\": np.mean([m[\"Accuracy\"] for m in smote_hybrid_metrics]),\n",
    "    \"Avg_Precision\": np.mean([m[\"Precision\"] for m in smote_hybrid_metrics]),\n",
    "    \"Avg_Recall\": np.mean([m[\"Recall\"] for m in smote_hybrid_metrics]),\n",
    "    \"Avg_F1\": np.mean([m[\"F1\"] for m in smote_hybrid_metrics]),\n",
    "    \"Avg_AUC\": np.mean([m[\"AUC\"] for m in smote_hybrid_metrics])\n",
    "}\n",
    "\n",
    "save_model_metrics([final_metrics], f'{project}_SMOTE_HybridModel_Final_Metrics.csv')"
   ]
  },
  {
   "cell_type": "code",
   "execution_count": 26,
   "metadata": {},
   "outputs": [
    {
     "data": {
      "text/html": [
       "<div>\n",
       "<style scoped>\n",
       "    .dataframe tbody tr th:only-of-type {\n",
       "        vertical-align: middle;\n",
       "    }\n",
       "\n",
       "    .dataframe tbody tr th {\n",
       "        vertical-align: top;\n",
       "    }\n",
       "\n",
       "    .dataframe thead th {\n",
       "        text-align: right;\n",
       "    }\n",
       "</style>\n",
       "<table border=\"1\" class=\"dataframe\">\n",
       "  <thead>\n",
       "    <tr style=\"text-align: right;\">\n",
       "      <th></th>\n",
       "      <th>Total_Repeats</th>\n",
       "      <th>Avg_Accuracy</th>\n",
       "      <th>Avg_Precision</th>\n",
       "      <th>Avg_Recall</th>\n",
       "      <th>Avg_F1</th>\n",
       "      <th>Avg_AUC</th>\n",
       "    </tr>\n",
       "  </thead>\n",
       "  <tbody>\n",
       "    <tr>\n",
       "      <th>0</th>\n",
       "      <td>30</td>\n",
       "      <td>0.880383</td>\n",
       "      <td>0.725388</td>\n",
       "      <td>0.686121</td>\n",
       "      <td>0.699551</td>\n",
       "      <td>0.686121</td>\n",
       "    </tr>\n",
       "  </tbody>\n",
       "</table>\n",
       "</div>"
      ],
      "text/plain": [
       "   Total_Repeats  Avg_Accuracy  Avg_Precision  Avg_Recall    Avg_F1   Avg_AUC\n",
       "0             30      0.880383       0.725388    0.686121  0.699551  0.686121"
      ]
     },
     "execution_count": 26,
     "metadata": {},
     "output_type": "execute_result"
    }
   ],
   "source": [
    "df = pd.read_csv(f'{baseline_path}/results/{project}_SMOTE_HybridModel_Final_Metrics.csv')\n",
    "df.head() "
   ]
  },
  {
   "cell_type": "code",
   "execution_count": 27,
   "metadata": {},
   "outputs": [
    {
     "name": "stdout",
     "output_type": "stream",
     "text": [
      "\n",
      "🔍 Checking Data Leakage...\n",
      "⚠️ 1 samples from test data are also in training data.\n",
      "❌ Data Leakage Detected! Test data should not exist in training set.\n",
      "\n",
      "🔍 Checking Overfitting...\n",
      "📊 Training Accuracy: 0.9967\n",
      "📊 Test Accuracy: 0.8496\n",
      "❌ Possible Overfitting: Model performs much better on training data.\n",
      "\n",
      "Original Class Distribution in Training Set (Before SMOTE):\n",
      "class\n",
      "0    461\n",
      "1     65\n",
      "Name: count, dtype: int64\n",
      "\n",
      "Balanced Class Distribution After SMOTE:\n",
      "class\n",
      "0    461\n",
      "1    461\n",
      "Name: count, dtype: int64\n",
      "\n",
      "Classification Report (SMOTE Hybrid Model):\n",
      "              precision    recall  f1-score   support\n",
      "\n",
      "           0       0.90      0.93      0.91       196\n",
      "           1       0.42      0.33      0.37        30\n",
      "\n",
      "    accuracy                           0.85       226\n",
      "   macro avg       0.66      0.63      0.64       226\n",
      "weighted avg       0.84      0.85      0.84       226\n",
      "\n"
     ]
    }
   ],
   "source": [
    "# ✅ Data Leakage Check (only makes sense for original training data before SMOTE)\n",
    "check_data_leakage(X_train_tfidf_smote, X_test_tfidf_smote)\n",
    "\n",
    "# ✅ Overfitting Check (use SMOTE-balanced training data and unbalanced test data)\n",
    "check_overfitting(hybrid_clf_smote, X_train_balanced, y_train_balanced, X_test_tfidf_smote, y_test_smote)\n",
    "\n",
    "# ✅ Class Distribution\n",
    "print(\"\\nOriginal Class Distribution in Training Set (Before SMOTE):\")\n",
    "print(y_train_smote.value_counts())\n",
    "\n",
    "print(\"\\nBalanced Class Distribution After SMOTE:\")\n",
    "print(pd.Series(y_train_balanced).value_counts())\n",
    "\n",
    "# ✅ Classification Report\n",
    "print(\"\\nClassification Report (SMOTE Hybrid Model):\")\n",
    "print(classification_report(y_test_smote, y_pred_smote_hybrid))"
   ]
  }
 ],
 "metadata": {
  "kernelspec": {
   "display_name": "Python 3",
   "language": "python",
   "name": "python3"
  },
  "language_info": {
   "codemirror_mode": {
    "name": "ipython",
    "version": 3
   },
   "file_extension": ".py",
   "mimetype": "text/x-python",
   "name": "python",
   "nbconvert_exporter": "python",
   "pygments_lexer": "ipython3",
   "version": "3.12.1"
  }
 },
 "nbformat": 4,
 "nbformat_minor": 2
}
